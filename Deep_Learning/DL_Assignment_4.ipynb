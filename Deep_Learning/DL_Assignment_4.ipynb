{
  "nbformat": 4,
  "nbformat_minor": 0,
  "metadata": {
    "colab": {
      "name": "DL Assignment 4",
      "provenance": [],
      "authorship_tag": "ABX9TyNqUkmpuFdZ3vlDvNebrjnA",
      "include_colab_link": true
    },
    "kernelspec": {
      "name": "python3",
      "display_name": "Python 3"
    },
    "accelerator": "GPU"
  },
  "cells": [
    {
      "cell_type": "markdown",
      "metadata": {
        "id": "view-in-github",
        "colab_type": "text"
      },
      "source": [
        "<a href=\"https://colab.research.google.com/github/harshbelani/M.Tech-DS/blob/master/Deep_Learning/DL_Assignment_4.ipynb\" target=\"_parent\"><img src=\"https://colab.research.google.com/assets/colab-badge.svg\" alt=\"Open In Colab\"/></a>"
      ]
    },
    {
      "cell_type": "code",
      "metadata": {
        "id": "EaSAIXWuqJLF",
        "colab_type": "code",
        "colab": {}
      },
      "source": [
        "import numpy as np\n",
        "import pandas as pd\n",
        "import keras\n",
        "import keras.utils\n",
        "from keras.models import Sequential\n",
        "from keras.layers import Dense,Dropout,Activation,Flatten\n",
        "from keras.utils import to_categorical"
      ],
      "execution_count": 1,
      "outputs": []
    },
    {
      "cell_type": "code",
      "metadata": {
        "id": "W-SIaGZsqPzo",
        "colab_type": "code",
        "colab": {
          "base_uri": "https://localhost:8080/",
          "height": 408
        },
        "outputId": "91b8b6ed-5d0c-4caa-fd68-2de70731015f"
      },
      "source": [
        "from keras.datasets import mnist\n",
        "(x_train,y_train),(x_test,y_test)=mnist.load_data()\n",
        "\n",
        "x_train=x_train.reshape(60000,28*28)\n",
        "x_test=x_test.reshape(10000,28*28)\n",
        "\n",
        "\n",
        "x_train=x_train.astype('float32')\n",
        "x_test=x_test.astype('float32')\n",
        "x_train /= 255.0\n",
        "x_test /= 255.0\n",
        "\n",
        "y_train=to_categorical(y_train,10)\n",
        "y_test=to_categorical(y_test,10)\n",
        "\n",
        "\n",
        "\n",
        "initializers=keras.initializers.he_normal()\n",
        "model=Sequential()\n",
        "model.add(Dense(1024,input_dim=784,kernel_initializer='random_uniform',bias_initializer='zeros',activation='relu'))\n",
        "model.add(Dense(10,kernel_initializer='random_uniform',bias_initializer='zeros',activation='softmax'))\n",
        "\n",
        "#compile\n",
        "model.compile(optimizer='sgd',loss='categorical_crossentropy',metrics=['accuracy'])\n",
        "\n",
        "#train\n",
        "\n",
        "history=model.fit(x_train,y_train,epochs=10,validation_split=0.2,verbose=1)"
      ],
      "execution_count": 2,
      "outputs": [
        {
          "output_type": "stream",
          "text": [
            "Downloading data from https://storage.googleapis.com/tensorflow/tf-keras-datasets/mnist.npz\n",
            "11493376/11490434 [==============================] - 0s 0us/step\n",
            "Epoch 1/10\n",
            "1500/1500 [==============================] - 3s 2ms/step - loss: 0.7470 - accuracy: 0.8324 - val_loss: 0.3808 - val_accuracy: 0.8997\n",
            "Epoch 2/10\n",
            "1500/1500 [==============================] - 4s 2ms/step - loss: 0.3632 - accuracy: 0.9007 - val_loss: 0.3121 - val_accuracy: 0.9159\n",
            "Epoch 3/10\n",
            "1500/1500 [==============================] - 4s 2ms/step - loss: 0.3089 - accuracy: 0.9133 - val_loss: 0.2759 - val_accuracy: 0.9230\n",
            "Epoch 4/10\n",
            "1500/1500 [==============================] - 4s 2ms/step - loss: 0.2774 - accuracy: 0.9229 - val_loss: 0.2514 - val_accuracy: 0.9310\n",
            "Epoch 5/10\n",
            "1500/1500 [==============================] - 3s 2ms/step - loss: 0.2537 - accuracy: 0.9300 - val_loss: 0.2328 - val_accuracy: 0.9352\n",
            "Epoch 6/10\n",
            "1500/1500 [==============================] - 3s 2ms/step - loss: 0.2345 - accuracy: 0.9344 - val_loss: 0.2195 - val_accuracy: 0.9388\n",
            "Epoch 7/10\n",
            "1500/1500 [==============================] - 3s 2ms/step - loss: 0.2185 - accuracy: 0.9396 - val_loss: 0.2073 - val_accuracy: 0.9428\n",
            "Epoch 8/10\n",
            "1500/1500 [==============================] - 3s 2ms/step - loss: 0.2043 - accuracy: 0.9425 - val_loss: 0.1969 - val_accuracy: 0.9463\n",
            "Epoch 9/10\n",
            "1500/1500 [==============================] - 3s 2ms/step - loss: 0.1919 - accuracy: 0.9466 - val_loss: 0.1857 - val_accuracy: 0.9499\n",
            "Epoch 10/10\n",
            "1500/1500 [==============================] - 3s 2ms/step - loss: 0.1804 - accuracy: 0.9495 - val_loss: 0.1777 - val_accuracy: 0.9523\n"
          ],
          "name": "stdout"
        }
      ]
    },
    {
      "cell_type": "code",
      "metadata": {
        "id": "Y_WX-UaiqU3c",
        "colab_type": "code",
        "colab": {
          "base_uri": "https://localhost:8080/",
          "height": 313
        },
        "outputId": "7c38fbcc-7476-4e55-a1f9-8f1ed9fc2b49"
      },
      "source": [
        "import matplotlib.pyplot as plt\n",
        "plt.plot(history.history['accuracy'])\n",
        "plt.plot(history.history['val_accuracy'])\n",
        "plt.title('Model accuracy')\n",
        "plt.ylabel('Accuracy')\n",
        "plt.xlabel('Epochs')\n",
        "plt.legend(['Train','Validation'],loc='upper right')\n",
        "plt.show()\n",
        "\n",
        "test_acc = model.evaluate(x_test, y_test, verbose=2)"
      ],
      "execution_count": 3,
      "outputs": [
        {
          "output_type": "display_data",
          "data": {
            "image/png": "[encoded data removed]",
            "text/plain": [
              "<Figure size 432x288 with 1 Axes>"
            ]
          },
          "metadata": {
            "tags": [],
            "needs_background": "light"
          }
        },
        {
          "output_type": "stream",
          "text": [
            "313/313 - 1s - loss: 0.1762 - accuracy: 0.9511\n"
          ],
          "name": "stdout"
        }
      ]
    },
    {
      "cell_type": "code",
      "metadata": {
        "id": "uBFXgKJJqZO_",
        "colab_type": "code",
        "colab": {
          "base_uri": "https://localhost:8080/",
          "height": 784
        },
        "outputId": "21eb892e-f32a-48fc-b50b-7f2fba215f76"
      },
      "source": [
        "import tensorflow as tf\n",
        "\n",
        "from keras.datasets import cifar100\n",
        "(x_train,y_train),(x_test,y_test)=cifar100.load_data()\n",
        "\n",
        "x_train=x_train.reshape(50000,32*32*3)\n",
        "x_test=x_test.reshape(10000,32*32*3)\n",
        "\n",
        "\n",
        "x_train=x_train.astype('float32')\n",
        "x_test=x_test.astype('float32')\n",
        "x_train /= 255.0\n",
        "x_test /= 255.0\n",
        "\n",
        "y_train=to_categorical(y_train,100)\n",
        "y_test=to_categorical(y_test,100)\n",
        "\n",
        "#model build\n",
        "\n",
        "\n",
        "initializers=keras.initializers.he_normal()\n",
        "model=Sequential()\n",
        "model.add(Dense(1024,input_dim=3072,kernel_initializer='random_uniform',bias_initializer='zeros',activation='relu'))\n",
        "model.add(Dense(100,kernel_initializer='random_uniform',bias_initializer='zeros',activation='softmax'))\n",
        "\n",
        "\n",
        "#compile\n",
        "m=tf.keras.metrics.TopKCategoricalAccuracy()\n",
        "model.compile(optimizer='sgd',loss='categorical_crossentropy',metrics=['accuracy',m])\n",
        "\n",
        "#train\n",
        "\n",
        "history = model.fit(x_train,y_train,epochs=20,validation_split=0.2,verbose=1)"
      ],
      "execution_count": 4,
      "outputs": [
        {
          "output_type": "stream",
          "text": [
            "Downloading data from https://www.cs.toronto.edu/~kriz/cifar-100-python.tar.gz\n",
            "169009152/169001437 [==============================] - 4s 0us/step\n",
            "Epoch 1/20\n",
            "1250/1250 [==============================] - 4s 3ms/step - loss: 4.2319 - accuracy: 0.0688 - top_k_categorical_accuracy: 0.2140 - val_loss: 4.0009 - val_accuracy: 0.1027 - val_top_k_categorical_accuracy: 0.2872\n",
            "Epoch 2/20\n",
            "1250/1250 [==============================] - 4s 3ms/step - loss: 3.8834 - accuracy: 0.1201 - top_k_categorical_accuracy: 0.3239 - val_loss: 3.8326 - val_accuracy: 0.1286 - val_top_k_categorical_accuracy: 0.3361\n",
            "Epoch 3/20\n",
            "1250/1250 [==============================] - 4s 3ms/step - loss: 3.7343 - accuracy: 0.1491 - top_k_categorical_accuracy: 0.3688 - val_loss: 3.7338 - val_accuracy: 0.1533 - val_top_k_categorical_accuracy: 0.3682\n",
            "Epoch 4/20\n",
            "1250/1250 [==============================] - 4s 3ms/step - loss: 3.6373 - accuracy: 0.1664 - top_k_categorical_accuracy: 0.3966 - val_loss: 3.6709 - val_accuracy: 0.1572 - val_top_k_categorical_accuracy: 0.3819\n",
            "Epoch 5/20\n",
            "1250/1250 [==============================] - 4s 3ms/step - loss: 3.5628 - accuracy: 0.1808 - top_k_categorical_accuracy: 0.4164 - val_loss: 3.6062 - val_accuracy: 0.1703 - val_top_k_categorical_accuracy: 0.3996\n",
            "Epoch 6/20\n",
            "1250/1250 [==============================] - 4s 3ms/step - loss: 3.5018 - accuracy: 0.1911 - top_k_categorical_accuracy: 0.4351 - val_loss: 3.5814 - val_accuracy: 0.1751 - val_top_k_categorical_accuracy: 0.4111\n",
            "Epoch 7/20\n",
            "1250/1250 [==============================] - 4s 3ms/step - loss: 3.4499 - accuracy: 0.2003 - top_k_categorical_accuracy: 0.4489 - val_loss: 3.5361 - val_accuracy: 0.1858 - val_top_k_categorical_accuracy: 0.4274\n",
            "Epoch 8/20\n",
            "1250/1250 [==============================] - 4s 3ms/step - loss: 3.3999 - accuracy: 0.2104 - top_k_categorical_accuracy: 0.4609 - val_loss: 3.5037 - val_accuracy: 0.1899 - val_top_k_categorical_accuracy: 0.4299\n",
            "Epoch 9/20\n",
            "1250/1250 [==============================] - 4s 3ms/step - loss: 3.3561 - accuracy: 0.2191 - top_k_categorical_accuracy: 0.4744 - val_loss: 3.4814 - val_accuracy: 0.1955 - val_top_k_categorical_accuracy: 0.4349\n",
            "Epoch 10/20\n",
            "1250/1250 [==============================] - 4s 3ms/step - loss: 3.3135 - accuracy: 0.2267 - top_k_categorical_accuracy: 0.4838 - val_loss: 3.4790 - val_accuracy: 0.1930 - val_top_k_categorical_accuracy: 0.4353\n",
            "Epoch 11/20\n",
            "1250/1250 [==============================] - 4s 3ms/step - loss: 3.2741 - accuracy: 0.2328 - top_k_categorical_accuracy: 0.4953 - val_loss: 3.4409 - val_accuracy: 0.1966 - val_top_k_categorical_accuracy: 0.4472\n",
            "Epoch 12/20\n",
            "1250/1250 [==============================] - 4s 3ms/step - loss: 3.2363 - accuracy: 0.2412 - top_k_categorical_accuracy: 0.5039 - val_loss: 3.4236 - val_accuracy: 0.2006 - val_top_k_categorical_accuracy: 0.4527\n",
            "Epoch 13/20\n",
            "1250/1250 [==============================] - 4s 3ms/step - loss: 3.1999 - accuracy: 0.2455 - top_k_categorical_accuracy: 0.5139 - val_loss: 3.4041 - val_accuracy: 0.2066 - val_top_k_categorical_accuracy: 0.4529\n",
            "Epoch 14/20\n",
            "1250/1250 [==============================] - 4s 3ms/step - loss: 3.1665 - accuracy: 0.2524 - top_k_categorical_accuracy: 0.5227 - val_loss: 3.3897 - val_accuracy: 0.2083 - val_top_k_categorical_accuracy: 0.4599\n",
            "Epoch 15/20\n",
            "1250/1250 [==============================] - 4s 3ms/step - loss: 3.1309 - accuracy: 0.2592 - top_k_categorical_accuracy: 0.5306 - val_loss: 3.3700 - val_accuracy: 0.2034 - val_top_k_categorical_accuracy: 0.4659\n",
            "Epoch 16/20\n",
            "1250/1250 [==============================] - 4s 3ms/step - loss: 3.0969 - accuracy: 0.2659 - top_k_categorical_accuracy: 0.5400 - val_loss: 3.3542 - val_accuracy: 0.2118 - val_top_k_categorical_accuracy: 0.4714\n",
            "Epoch 17/20\n",
            "1250/1250 [==============================] - 4s 3ms/step - loss: 3.0656 - accuracy: 0.2723 - top_k_categorical_accuracy: 0.5480 - val_loss: 3.3608 - val_accuracy: 0.2108 - val_top_k_categorical_accuracy: 0.4639\n",
            "Epoch 18/20\n",
            "1250/1250 [==============================] - 4s 3ms/step - loss: 3.0339 - accuracy: 0.2792 - top_k_categorical_accuracy: 0.5532 - val_loss: 3.3297 - val_accuracy: 0.2196 - val_top_k_categorical_accuracy: 0.4756\n",
            "Epoch 19/20\n",
            "1250/1250 [==============================] - 4s 3ms/step - loss: 3.0014 - accuracy: 0.2846 - top_k_categorical_accuracy: 0.5625 - val_loss: 3.3242 - val_accuracy: 0.2196 - val_top_k_categorical_accuracy: 0.4769\n",
            "Epoch 20/20\n",
            "1250/1250 [==============================] - 4s 3ms/step - loss: 2.9725 - accuracy: 0.2919 - top_k_categorical_accuracy: 0.5704 - val_loss: 3.2900 - val_accuracy: 0.2222 - val_top_k_categorical_accuracy: 0.4884\n"
          ],
          "name": "stdout"
        }
      ]
    },
    {
      "cell_type": "code",
      "metadata": {
        "id": "-V3Hu7FgqfIj",
        "colab_type": "code",
        "colab": {
          "base_uri": "https://localhost:8080/",
          "height": 313
        },
        "outputId": "c8d8ea14-ea8f-43d9-ac57-93b4539d1a75"
      },
      "source": [
        "plt.plot(history.history['accuracy'])\n",
        "plt.plot(history.history['val_accuracy'])\n",
        "plt.title('Model accuracy')\n",
        "plt.ylabel('Accuracy')\n",
        "plt.xlabel('Epochs')\n",
        "plt.legend(['Train','Validation'],loc='upper right')\n",
        "plt.show()\n",
        "\n",
        "test_acc = model.evaluate(x_test, y_test, verbose=1)"
      ],
      "execution_count": 5,
      "outputs": [
        {
          "output_type": "display_data",
          "data": {
            "image/png": "[encoded data removed]",
            "text/plain": [
              "<Figure size 432x288 with 1 Axes>"
            ]
          },
          "metadata": {
            "tags": [],
            "needs_background": "light"
          }
        },
        {
          "output_type": "stream",
          "text": [
            "313/313 [==============================] - 1s 2ms/step - loss: 3.2906 - accuracy: 0.2344 - top_k_categorical_accuracy: 0.4910\n"
          ],
          "name": "stdout"
        }
      ]
    },
    {
      "cell_type": "code",
      "metadata": {
        "id": "5YwkA2d5qjRr",
        "colab_type": "code",
        "colab": {
          "base_uri": "https://localhost:8080/",
          "height": 515
        },
        "outputId": "79e529fe-953f-4d2c-c885-74fc5ee1be9b"
      },
      "source": [
        "from keras.datasets import fashion_mnist\n",
        "(x_train,y_train),(x_test,y_test)=fashion_mnist.load_data()\n",
        "\n",
        "x_train=x_train.reshape(60000,28*28)\n",
        "x_test=x_test.reshape(10000,28*28)\n",
        "\n",
        "\n",
        "x_train=x_train.astype('float32')\n",
        "x_test=x_test.astype('float32')\n",
        "x_train /= 255.0\n",
        "x_test /= 255.0\n",
        "\n",
        "y_train=to_categorical(y_train,10)\n",
        "y_test=to_categorical(y_test,10)\n",
        "\n",
        "#model build\n",
        "#pic at random from a normal dist with mean=0,stdev=sqrt(scale/n)\n",
        "#fan_in-no of incoming conn\n",
        "#fan-out=no of outgoing conn\n",
        "#fan-avg=avg of fan_in and fan_out\n",
        "#scale\n",
        "\n",
        "initializers=keras.initializers.he_normal()\n",
        "model=Sequential()\n",
        "model.add(Dense(1024,input_dim=784,kernel_initializer='random_uniform',bias_initializer='zeros',activation='relu'))\n",
        "model.add(Dense(10,kernel_initializer='random_uniform',bias_initializer='zeros',activation='softmax'))\n",
        "\n",
        "#compile\n",
        "model.compile(optimizer='sgd',loss='categorical_crossentropy',metrics=['accuracy'])\n",
        "\n",
        "#train\n",
        "\n",
        "history=model.fit(x_train,y_train,epochs=10,validation_split=0.2,verbose=1)"
      ],
      "execution_count": 6,
      "outputs": [
        {
          "output_type": "stream",
          "text": [
            "Downloading data from https://storage.googleapis.com/tensorflow/tf-keras-datasets/train-labels-idx1-ubyte.gz\n",
            "32768/29515 [=================================] - 0s 0us/step\n",
            "Downloading data from https://storage.googleapis.com/tensorflow/tf-keras-datasets/train-images-idx3-ubyte.gz\n",
            "26427392/26421880 [==============================] - 0s 0us/step\n",
            "Downloading data from https://storage.googleapis.com/tensorflow/tf-keras-datasets/t10k-labels-idx1-ubyte.gz\n",
            "8192/5148 [===============================================] - 0s 0us/step\n",
            "Downloading data from https://storage.googleapis.com/tensorflow/tf-keras-datasets/t10k-images-idx3-ubyte.gz\n",
            "4423680/4422102 [==============================] - 0s 0us/step\n",
            "Epoch 1/10\n",
            "1500/1500 [==============================] - 3s 2ms/step - loss: 0.7999 - accuracy: 0.7471 - val_loss: 0.5777 - val_accuracy: 0.8027\n",
            "Epoch 2/10\n",
            "1500/1500 [==============================] - 3s 2ms/step - loss: 0.5339 - accuracy: 0.8209 - val_loss: 0.4945 - val_accuracy: 0.8315\n",
            "Epoch 3/10\n",
            "1500/1500 [==============================] - 3s 2ms/step - loss: 0.4811 - accuracy: 0.8375 - val_loss: 0.4763 - val_accuracy: 0.8311\n",
            "Epoch 4/10\n",
            "1500/1500 [==============================] - 3s 2ms/step - loss: 0.4546 - accuracy: 0.8445 - val_loss: 0.4722 - val_accuracy: 0.8357\n",
            "Epoch 5/10\n",
            "1500/1500 [==============================] - 3s 2ms/step - loss: 0.4354 - accuracy: 0.8501 - val_loss: 0.4321 - val_accuracy: 0.8492\n",
            "Epoch 6/10\n",
            "1500/1500 [==============================] - 3s 2ms/step - loss: 0.4206 - accuracy: 0.8538 - val_loss: 0.4280 - val_accuracy: 0.8502\n",
            "Epoch 7/10\n",
            "1500/1500 [==============================] - 3s 2ms/step - loss: 0.4080 - accuracy: 0.8591 - val_loss: 0.4171 - val_accuracy: 0.8562\n",
            "Epoch 8/10\n",
            "1500/1500 [==============================] - 3s 2ms/step - loss: 0.3977 - accuracy: 0.8622 - val_loss: 0.4026 - val_accuracy: 0.8605\n",
            "Epoch 9/10\n",
            "1500/1500 [==============================] - 3s 2ms/step - loss: 0.3873 - accuracy: 0.8669 - val_loss: 0.4047 - val_accuracy: 0.8591\n",
            "Epoch 10/10\n",
            "1500/1500 [==============================] - 3s 2ms/step - loss: 0.3790 - accuracy: 0.8680 - val_loss: 0.3887 - val_accuracy: 0.8664\n"
          ],
          "name": "stdout"
        }
      ]
    },
    {
      "cell_type": "code",
      "metadata": {
        "id": "-as3X1gSqwml",
        "colab_type": "code",
        "colab": {
          "base_uri": "https://localhost:8080/",
          "height": 313
        },
        "outputId": "e94b2eba-a71c-4eaa-a40e-ff95489aa691"
      },
      "source": [
        "plt.plot(history.history['accuracy'])\n",
        "plt.plot(history.history['val_accuracy'])\n",
        "plt.title('Model accuracy')\n",
        "plt.ylabel('Accuracy')\n",
        "plt.xlabel('Epochs')\n",
        "plt.legend(['Train','Validation'],loc='upper right')\n",
        "plt.show()\n",
        "\n",
        "test_acc = model.evaluate(x_test, y_test, verbose=2)\n"
      ],
      "execution_count": 7,
      "outputs": [
        {
          "output_type": "display_data",
          "data": {
            "image/png": "[encoded data removed]",
            "text/plain": [
              "<Figure size 432x288 with 1 Axes>"
            ]
          },
          "metadata": {
            "tags": [],
            "needs_background": "light"
          }
        },
        {
          "output_type": "stream",
          "text": [
            "313/313 - 1s - loss: 0.4150 - accuracy: 0.8544\n"
          ],
          "name": "stdout"
        }
      ]
    },
    {
      "cell_type": "code",
      "metadata": {
        "id": "5_SXyyqxqxIN",
        "colab_type": "code",
        "colab": {}
      },
      "source": [
        ""
      ],
      "execution_count": null,
      "outputs": []
    }
  ]
}