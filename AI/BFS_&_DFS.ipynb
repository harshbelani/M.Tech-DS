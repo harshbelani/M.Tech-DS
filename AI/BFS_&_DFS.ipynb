{
  "nbformat": 4,
  "nbformat_minor": 0,
  "metadata": {
    "colab": {
      "name": "BFS & DFS",
      "provenance": [],
      "toc_visible": true,
      "authorship_tag": "ABX9TyOI5ZKaJBGPvmO0fTwGeJ7F",
      "include_colab_link": true
    },
    "kernelspec": {
      "name": "python3",
      "display_name": "Python 3"
    }
  },
  "cells": [
    {
      "cell_type": "markdown",
      "metadata": {
        "id": "view-in-github",
        "colab_type": "text"
      },
      "source": [
        "<a href=\"https://colab.research.google.com/github/harshbelani/M.Tech-DS/blob/master/AI/BFS_%26_DFS.ipynb\" target=\"_parent\"><img src=\"https://colab.research.google.com/assets/colab-badge.svg\" alt=\"Open In Colab\"/></a>"
      ]
    },
    {
      "cell_type": "code",
      "metadata": {
        "id": "kXsGuYoQcAjQ",
        "colab_type": "code",
        "colab": {}
      },
      "source": [
        "class Node():\n",
        "    def __init__(self, state, parent, action):\n",
        "        self.state = state\n",
        "        self.parent = parent\n",
        "        self.action = action"
      ],
      "execution_count": 1,
      "outputs": []
    },
    {
      "cell_type": "code",
      "metadata": {
        "id": "4tUjttUAcGH-",
        "colab_type": "code",
        "colab": {}
      },
      "source": [
        "class StackFrontier():\n",
        "    def __init__(self):\n",
        "        self.frontier = []\n",
        "        \n",
        "    def add_node(self, node):\n",
        "        self.frontier.append(node)\n",
        "        \n",
        "    def empty(self):\n",
        "        return len(self.frontier)==0        \n",
        "        \n",
        "    def remove_node(self):\n",
        "        \n",
        "        if self.empty():\n",
        "            return(\"No Solution\")\n",
        "            \n",
        "        else:\n",
        "            node = self.frontier[-1]\n",
        "            self.frontier = self.frontier[:-1]\n",
        "            return node\n",
        "    \n",
        "    def contains_state(self, state):\n",
        "        return any(node.state == state for node in self.frontier)"
      ],
      "execution_count": 2,
      "outputs": []
    },
    {
      "cell_type": "code",
      "metadata": {
        "id": "D20g4Z0JcZ_q",
        "colab_type": "code",
        "colab": {}
      },
      "source": [
        "class QueueFrontier(StackFrontier):\n",
        "    \n",
        "    def remove_node(self):\n",
        "        \n",
        "        if self.empty():\n",
        "            return(\"No Solution\")\n",
        "            \n",
        "        else:\n",
        "            node = self.frontier[0]\n",
        "            self.frontier = self.frontier[1:]\n",
        "            return node"
      ],
      "execution_count": 3,
      "outputs": []
    },
    {
      "cell_type": "markdown",
      "metadata": {
        "id": "HmQZY1tvceF7",
        "colab_type": "text"
      },
      "source": [
        "#Setting up the Maze"
      ]
    },
    {
      "cell_type": "code",
      "metadata": {
        "id": "rBAoNq7QcrxV",
        "colab_type": "code",
        "colab": {}
      },
      "source": [
        "file_path = \"/content/maze5.txt\"\n",
        "search_type = \"BFS\""
      ],
      "execution_count": 18,
      "outputs": []
    },
    {
      "cell_type": "code",
      "metadata": {
        "id": "zh2XFs37cdYN",
        "colab_type": "code",
        "colab": {}
      },
      "source": [
        "file = open(file_path, \"r\")\n",
        "maze = file.read()"
      ],
      "execution_count": 5,
      "outputs": []
    },
    {
      "cell_type": "code",
      "metadata": {
        "id": "-MCEswHocq92",
        "colab_type": "code",
        "colab": {
          "base_uri": "https://localhost:8080/",
          "height": 141
        },
        "outputId": "d1e16fc3-951f-4f67-89d5-6e9d17facd1b"
      },
      "source": [
        "maze = maze.split(\"\\n\")\n",
        "maze"
      ],
      "execution_count": 6,
      "outputs": [
        {
          "output_type": "execute_result",
          "data": {
            "text/plain": [
              "['#           B',\n",
              " '# ########## ',\n",
              " '# #########  ',\n",
              " '# ##     ## #',\n",
              " '#    #   ##  ',\n",
              " '#### # ##### ',\n",
              " 'A    #       ']"
            ]
          },
          "metadata": {
            "tags": []
          },
          "execution_count": 6
        }
      ]
    },
    {
      "cell_type": "code",
      "metadata": {
        "id": "_uiC4kXHc51W",
        "colab_type": "code",
        "colab": {
          "base_uri": "https://localhost:8080/",
          "height": 52
        },
        "outputId": "e4fa9ced-8398-4f48-e2ff-14be76832c2b"
      },
      "source": [
        "length = len(maze)\n",
        "width = max(len(i) for i in maze)\n",
        "print(\"Length: \", length)\n",
        "print(\"Width: \", width)"
      ],
      "execution_count": 7,
      "outputs": [
        {
          "output_type": "stream",
          "text": [
            "Length:  7\n",
            "Width:  13\n"
          ],
          "name": "stdout"
        }
      ]
    },
    {
      "cell_type": "code",
      "metadata": {
        "id": "dbsWu4pOdDSI",
        "colab_type": "code",
        "colab": {
          "base_uri": "https://localhost:8080/",
          "height": 195
        },
        "outputId": "72b4e203-0f5c-4eef-a1b6-2a1b39d447f3"
      },
      "source": [
        "array_maze = []\n",
        "print(\"\\nGiven Maze: \\n\")        \n",
        "for row in maze:\n",
        "    row = list(row)\n",
        "    for i in row:\n",
        "        print(i, end=\"\")\n",
        "    array_maze.append(row)\n",
        "    print()"
      ],
      "execution_count": 8,
      "outputs": [
        {
          "output_type": "stream",
          "text": [
            "\n",
            "Given Maze: \n",
            "\n",
            "#           B\n",
            "# ########## \n",
            "# #########  \n",
            "# ##     ## #\n",
            "#    #   ##  \n",
            "#### # ##### \n",
            "A    #       \n"
          ],
          "name": "stdout"
        }
      ]
    },
    {
      "cell_type": "code",
      "metadata": {
        "id": "odyoQIksdIVj",
        "colab_type": "code",
        "colab": {
          "base_uri": "https://localhost:8080/",
          "height": 141
        },
        "outputId": "cb8e79cc-fde2-4969-c2f8-3325e35683a3"
      },
      "source": [
        "walls = []\n",
        "\n",
        "for i, row in enumerate(array_maze):\n",
        "    row_walls = []\n",
        "    for j, col in enumerate(row):\n",
        "        \n",
        "        if col == \"A\":\n",
        "            starting_point = (i,j)\n",
        "            row_walls.append(False)\n",
        "        elif col == \"B\":\n",
        "            ending_point = (i,j)\n",
        "            row_walls.append(False)\n",
        "        elif col == \"#\":\n",
        "            row_walls.append(True)\n",
        "        else:\n",
        "            row_walls.append(False)\n",
        "    print(row_walls)       \n",
        "    walls.append(row_walls)"
      ],
      "execution_count": 9,
      "outputs": [
        {
          "output_type": "stream",
          "text": [
            "[True, False, False, False, False, False, False, False, False, False, False, False, False]\n",
            "[True, False, True, True, True, True, True, True, True, True, True, True, False]\n",
            "[True, False, True, True, True, True, True, True, True, True, True, False, False]\n",
            "[True, False, True, True, False, False, False, False, False, True, True, False, True]\n",
            "[True, False, False, False, False, True, False, False, False, True, True, False, False]\n",
            "[True, True, True, True, False, True, False, True, True, True, True, True, False]\n",
            "[False, False, False, False, False, True, False, False, False, False, False, False, False]\n"
          ],
          "name": "stdout"
        }
      ]
    },
    {
      "cell_type": "code",
      "metadata": {
        "id": "B_vbOAyvdOf-",
        "colab_type": "code",
        "colab": {}
      },
      "source": [
        "def find_neighbours(node):\n",
        "    (x,y) = node.state\n",
        "    all = [[(x-1,y), \"up\"], [(x+1,y), \"down\"], [(x, y-1), \"left\"], [(x, y+1), \"right\"]]\n",
        "    neighbours = []\n",
        "    for (x,y),move in all:\n",
        "        if 0<=x<length and 0<=y<width and not walls[x][y]:\n",
        "            if (x,y) not in explored:\n",
        "                neighbours.append([(x,y), move])\n",
        "        \n",
        "    return neighbours"
      ],
      "execution_count": 10,
      "outputs": []
    },
    {
      "cell_type": "markdown",
      "metadata": {
        "id": "-1r8OEG4drij",
        "colab_type": "text"
      },
      "source": [
        "# Finding Solution"
      ]
    },
    {
      "cell_type": "code",
      "metadata": {
        "id": "QK0fPk3feDsh",
        "colab_type": "code",
        "colab": {
          "base_uri": "https://localhost:8080/",
          "height": 959
        },
        "outputId": "cc05445d-67e0-408e-e4dc-167c3c105e59"
      },
      "source": [
        "explored = []\n",
        "current_position = Node(starting_point, None, None)\n",
        "if search_type == \"BFS\":\n",
        "  frontier = QueueFrontier()\n",
        "\n",
        "elif search_type == \"DFS\":\n",
        "  frontier = StackFrontier()\n",
        "\n",
        "else:\n",
        "  print(\"Enter Correct Search Type\")\n",
        "\n",
        "while True:\n",
        "    \n",
        "    neighbours = find_neighbours(current_position)\n",
        "    print(neighbours)\n",
        "    for position,action in neighbours:\n",
        "        \n",
        "        frontier.add_node(Node(position, current_position, action))\n",
        "        \n",
        "    \n",
        "    current_position = frontier.remove_node()\n",
        "    if current_position == \"No Solution\":\n",
        "        print(\"No Solution\")\n",
        "        break\n",
        "    explored.append(current_position.state)\n",
        "    \n",
        "    if current_position.state == ending_point:\n",
        "        print(\"\\nSolution Found:\\n\")\n",
        "        solutions = []\n",
        "        node = current_position\n",
        "        \n",
        "        while node.parent != None:\n",
        "            solutions.append(node.state)\n",
        "            node = node.parent\n",
        "        \n",
        "        break"
      ],
      "execution_count": 25,
      "outputs": [
        {
          "output_type": "stream",
          "text": [
            "[[(6, 1), 'right']]\n",
            "[[(6, 0), 'left'], [(6, 2), 'right']]\n",
            "[]\n",
            "[[(6, 3), 'right']]\n",
            "[[(6, 4), 'right']]\n",
            "[[(5, 4), 'up']]\n",
            "[[(4, 4), 'up']]\n",
            "[[(3, 4), 'up'], [(4, 3), 'left']]\n",
            "[[(3, 5), 'right']]\n",
            "[[(4, 2), 'left']]\n",
            "[[(3, 6), 'right']]\n",
            "[[(4, 1), 'left']]\n",
            "[[(4, 6), 'down'], [(3, 7), 'right']]\n",
            "[[(3, 1), 'up']]\n",
            "[[(5, 6), 'down'], [(4, 7), 'right']]\n",
            "[[(4, 7), 'down'], [(3, 8), 'right']]\n",
            "[[(2, 1), 'up']]\n",
            "[[(6, 6), 'down']]\n",
            "[[(4, 8), 'right']]\n",
            "[[(4, 8), 'right']]\n",
            "[[(4, 8), 'down']]\n",
            "[[(1, 1), 'up']]\n",
            "[[(6, 7), 'right']]\n",
            "[]\n",
            "[]\n",
            "[]\n",
            "[[(0, 1), 'up']]\n",
            "[[(6, 8), 'right']]\n",
            "[[(0, 2), 'right']]\n",
            "[[(6, 9), 'right']]\n",
            "[[(0, 3), 'right']]\n",
            "[[(6, 10), 'right']]\n",
            "[[(0, 4), 'right']]\n",
            "[[(6, 11), 'right']]\n",
            "[[(0, 5), 'right']]\n",
            "[[(6, 12), 'right']]\n",
            "[[(0, 6), 'right']]\n",
            "[[(5, 12), 'up']]\n",
            "[[(0, 7), 'right']]\n",
            "[[(4, 12), 'up']]\n",
            "[[(0, 8), 'right']]\n",
            "[[(4, 11), 'left']]\n",
            "[[(0, 9), 'right']]\n",
            "[[(3, 11), 'up']]\n",
            "[[(0, 10), 'right']]\n",
            "[[(2, 11), 'up']]\n",
            "[[(0, 11), 'right']]\n",
            "[[(2, 12), 'right']]\n",
            "[[(0, 12), 'right']]\n",
            "[[(1, 12), 'up']]\n",
            "\n",
            "Solution Found:\n",
            "\n"
          ],
          "name": "stdout"
        }
      ]
    },
    {
      "cell_type": "markdown",
      "metadata": {
        "id": "yX4emJ0geNQO",
        "colab_type": "text"
      },
      "source": [
        "#Output"
      ]
    },
    {
      "cell_type": "code",
      "metadata": {
        "id": "AHXvRUGkeJS2",
        "colab_type": "code",
        "colab": {
          "base_uri": "https://localhost:8080/",
          "height": 141
        },
        "outputId": "33e39590-8437-46e7-c86b-a34a77905219"
      },
      "source": [
        "output=[]\n",
        "\n",
        "for i in range(length):\n",
        "    output_row = []\n",
        "    \n",
        "    for j in range(width):\n",
        "        \n",
        "        if (i,j) in solutions and (i,j) != ending_point and (i,j) != starting_point:\n",
        "            print(\"S\", end=\"\")\n",
        "            output_row.append(\"S\")\n",
        "            \n",
        "        elif (i,j) in explored and (i,j) != ending_point and (i,j) != starting_point and (i,j) not in solutions:\n",
        "            print(\"E\", end=\"\")\n",
        "            output_row.append(\"E\")\n",
        "            \n",
        "        else:\n",
        "            print(array_maze[i][j], end=\"\")\n",
        "            output_row.append(array_maze[i][j])\n",
        "            \n",
        "    output.append(output_row)\n",
        "    print()"
      ],
      "execution_count": 26,
      "outputs": [
        {
          "output_type": "stream",
          "text": [
            "#SSSSSSSSSSSB\n",
            "#S########## \n",
            "#S#########EE\n",
            "#S##EEEEE##E#\n",
            "#SSSS#EEE##EE\n",
            "####S#E#####E\n",
            "ASSSS#EEEEEEE\n"
          ],
          "name": "stdout"
        }
      ]
    },
    {
      "cell_type": "code",
      "metadata": {
        "id": "LDL9QRl8eSwT",
        "colab_type": "code",
        "colab": {
          "base_uri": "https://localhost:8080/",
          "height": 52
        },
        "outputId": "5dab46bb-5b61-4c73-9f54-facdbf45b835"
      },
      "source": [
        "print(\"\\nNo. of nodes explored: \",len(explored))"
      ],
      "execution_count": 17,
      "outputs": [
        {
          "output_type": "stream",
          "text": [
            "\n",
            "No. of nodes explored:  24\n"
          ],
          "name": "stdout"
        }
      ]
    },
    {
      "cell_type": "code",
      "metadata": {
        "id": "6SFV5CzC7b6y",
        "colab_type": "code",
        "colab": {}
      },
      "source": [
        ""
      ],
      "execution_count": null,
      "outputs": []
    }
  ]
}