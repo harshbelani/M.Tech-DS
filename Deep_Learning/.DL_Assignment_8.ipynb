{
  "nbformat": 4,
  "nbformat_minor": 0,
  "metadata": {
    "colab": {
      "name": "DL_Assignment_8",
      "provenance": [],
      "collapsed_sections": [],
      "toc_visible": true,
      "authorship_tag": "ABX9TyNjs6sc7lhwzV6DRFjm5fK8",
      "include_colab_link": true
    },
    "kernelspec": {
      "name": "python3",
      "display_name": "Python 3"
    }
  },
  "cells": [
    {
      "cell_type": "markdown",
      "metadata": {
        "id": "view-in-github",
        "colab_type": "text"
      },
      "source": [
        "<a href=\"https://colab.research.google.com/github/harshbelani/M.Tech-DS/blob/master/Deep_Learning/.DL_Assignment_8.ipynb\" target=\"_parent\"><img src=\"https://colab.research.google.com/assets/colab-badge.svg\" alt=\"Open In Colab\"/></a>"
      ]
    },
    {
      "cell_type": "code",
      "metadata": {
        "id": "p6LAi8dsfBN7",
        "colab_type": "code",
        "colab": {}
      },
      "source": [
        "#code part 1\n",
        "from bs4 import BeautifulSoup\n",
        "import numpy as np\n",
        "import requests\n",
        "import cv2\n",
        "import PIL.Image\n",
        "import urllib\n",
        "import os\n",
        "import pandas as pd"
      ],
      "execution_count": 1,
      "outputs": []
    },
    {
      "cell_type": "markdown",
      "metadata": {
        "id": "2rNixw5V2--2",
        "colab_type": "text"
      },
      "source": [
        "## Creating soups and url strings"
      ]
    },
    {
      "cell_type": "code",
      "metadata": {
        "id": "HdqWR0SB20Fq",
        "colab_type": "code",
        "colab": {}
      },
      "source": [
        "ie_page = requests.get(\"http://www.image-net.org/api/text/imagenet.synset.geturls?wnid=n02504013\")    #indian elephant\n",
        "\n",
        "# BeautifulSoup is an HTML parsing library\n",
        "\n",
        "ie_soup = BeautifulSoup(ie_page.content, 'html.parser')   #puts the content of the website into the soup variable, each url on a different line\n",
        "#print(soup)\n",
        "#print(soup.prettify())"
      ],
      "execution_count": 2,
      "outputs": []
    },
    {
      "cell_type": "code",
      "metadata": {
        "id": "xv3GoErrf94t",
        "colab_type": "code",
        "colab": {}
      },
      "source": [
        "ae_page = requests.get(\"http://www.image-net.org/api/text/imagenet.synset.geturls?wnid=n02504458\")    #african elephant synset\n",
        "#print(ae_page.content)\n",
        "\n",
        "ae_soup = BeautifulSoup(ae_page.content, 'html.parser')#puts the content of the website into the soup variable, each url on a different line"
      ],
      "execution_count": 3,
      "outputs": []
    },
    {
      "cell_type": "code",
      "metadata": {
        "id": "ps1-uGC8gWiN",
        "colab_type": "code",
        "colab": {}
      },
      "source": [
        "t_page = requests.get(\"http://www.image-net.org/api/text/imagenet.synset.geturls?wnid=n01871265\")   #tuskers synset\n",
        "#print(t_page.content)\n",
        "\n",
        "t_soup = BeautifulSoup(t_page.content, 'html.parser')#puts the content of the website into the soup variable, each url on a different line"
      ],
      "execution_count": 4,
      "outputs": []
    },
    {
      "cell_type": "code",
      "metadata": {
        "id": "G9XB6ycyhEx7",
        "colab_type": "code",
        "colab": {
          "base_uri": "https://localhost:8080/",
          "height": 35
        },
        "outputId": "f51573e9-42b2-4695-a185-7b0883bb2783"
      },
      "source": [
        "ie_str_soup=str(ie_soup)    #convert soup to string so it can be split\n",
        "type(ie_str_soup)\n",
        "ie_split_urls=ie_str_soup.split('\\r\\n')     #split so each url is a different possition on a list\n",
        "print(len(ie_split_urls))     #print the length of the list so you know how many urls you have\n"
      ],
      "execution_count": 5,
      "outputs": [
        {
          "output_type": "stream",
          "text": [
            "1650\n"
          ],
          "name": "stdout"
        }
      ]
    },
    {
      "cell_type": "code",
      "metadata": {
        "id": "rqoEELtK3KMB",
        "colab_type": "code",
        "colab": {
          "base_uri": "https://localhost:8080/",
          "height": 35
        },
        "outputId": "cc97f85f-a404-45f4-cec7-74fcd4e7e023"
      },
      "source": [
        "ae_str_soup=str(ae_soup)      #convert soup to string so it can be split\n",
        "type(ae_str_soup)\n",
        "ae_split_urls=ae_str_soup.split('\\r\\n')     #split so each url is a different possition on a list\n",
        "print(len(ae_split_urls))"
      ],
      "execution_count": 6,
      "outputs": [
        {
          "output_type": "stream",
          "text": [
            "2278\n"
          ],
          "name": "stdout"
        }
      ]
    },
    {
      "cell_type": "code",
      "metadata": {
        "id": "XHFnqREa3OzW",
        "colab_type": "code",
        "colab": {
          "base_uri": "https://localhost:8080/",
          "height": 35
        },
        "outputId": "44f0dd65-9ef9-491c-aaad-1658ac380747"
      },
      "source": [
        "t_str_soup=str(t_soup)      #convert soup to string so it can be split\n",
        "type(t_str_soup)\n",
        "t_split_urls=t_str_soup.split('\\r\\n')     #split so each url is a different possition on a list\n",
        "print(len(t_split_urls))"
      ],
      "execution_count": 7,
      "outputs": [
        {
          "output_type": "stream",
          "text": [
            "1065\n"
          ],
          "name": "stdout"
        }
      ]
    },
    {
      "cell_type": "markdown",
      "metadata": {
        "id": "AbyMiCOO3ZY9",
        "colab_type": "text"
      },
      "source": [
        "## Making Directories"
      ]
    },
    {
      "cell_type": "code",
      "metadata": {
        "id": "5H0ZjtfOjKgE",
        "colab_type": "code",
        "colab": {
          "base_uri": "https://localhost:8080/",
          "height": 195
        },
        "outputId": "aad1432f-23cc-43e6-ab41-cded97594720"
      },
      "source": [
        "#check if all the images where stored on the files system\n",
        "!mkdir /content/train #create the Train folder\n",
        "!mkdir /content/train/Indian_Elephant    #create the ie folder\n",
        "!mkdir /content/train/African_Alephant    #create the ae folder\n",
        "!mkdir /content/train/Tuskers    #create the t folder\n",
        "\n",
        "!mkdir /content/validation\n",
        "!mkdir /content/validation/Indian_Elephant #create the ie folder\n",
        "!mkdir /content/validation/African_Alephant #create the ae folder\n",
        "!mkdir /content/validation/Tuskers #create the t folder\n",
        "\n",
        "!mkdir /content/test/ \n",
        "!mkdir /content/test/test #list the files inside test"
      ],
      "execution_count": 8,
      "outputs": [
        {
          "output_type": "stream",
          "text": [
            "mkdir: cannot create directory ‘/content/train’: File exists\n",
            "mkdir: cannot create directory ‘/content/train/Indian_Elephant’: File exists\n",
            "mkdir: cannot create directory ‘/content/train/African_Alephant’: File exists\n",
            "mkdir: cannot create directory ‘/content/train/Tuskers’: File exists\n",
            "mkdir: cannot create directory ‘/content/validation’: File exists\n",
            "mkdir: cannot create directory ‘/content/validation/Indian_Elephant’: File exists\n",
            "mkdir: cannot create directory ‘/content/validation/African_Alephant’: File exists\n",
            "mkdir: cannot create directory ‘/content/validation/Tuskers’: File exists\n",
            "mkdir: cannot create directory ‘/content/test/’: File exists\n",
            "mkdir: cannot create directory ‘/content/test/test’: File exists\n"
          ],
          "name": "stdout"
        }
      ]
    },
    {
      "cell_type": "markdown",
      "metadata": {
        "id": "Sa1kK5NO3_l_",
        "colab_type": "text"
      },
      "source": [
        "## Setting up Image parameter and fetching function"
      ]
    },
    {
      "cell_type": "code",
      "metadata": {
        "id": "4T6xVheljmVI",
        "colab_type": "code",
        "colab": {}
      },
      "source": [
        "img_rows, img_cols = 32, 32     #number of rows and columns to convert the images to\n",
        "input_shape = (img_rows, img_cols, 3)   #format to store the images (rows, columns,channels) called channels last\n",
        "\n",
        "def url_to_image(url):\n",
        "\t# download the image, convert it to a NumPy array, and then read\n",
        "\t# it into OpenCV format\n",
        "\tresp = urllib.request.urlopen(url)\n",
        "\timage = np.asarray(bytearray(resp.read()), dtype=\"uint8\")\n",
        "\timage = cv2.imdecode(image, cv2.IMREAD_COLOR)\n",
        " \n",
        "\t# return the image\n",
        "\treturn image\n"
      ],
      "execution_count": 9,
      "outputs": []
    },
    {
      "cell_type": "markdown",
      "metadata": {
        "id": "AEgaqMts4H5P",
        "colab_type": "text"
      },
      "source": [
        "## Storing Train Images"
      ]
    },
    {
      "cell_type": "code",
      "metadata": {
        "id": "2NpplKkZ4Fxg",
        "colab_type": "code",
        "colab": {
          "base_uri": "https://localhost:8080/",
          "height": 159
        },
        "outputId": "5f461027-7ae6-4e1d-f9a2-3c492fbd3c85"
      },
      "source": [
        "n_of_training_images=150    #the number of training images to use\n",
        "\n",
        "for progress in range(n_of_training_images):    #store all the images on a directory\n",
        "    # Print out progress whenever progress is a multiple of 20 so we can follow the\n",
        "    # (relatively slow) progress\n",
        "    if(progress%20==0):\n",
        "        print(progress)\n",
        "    if not ie_split_urls[progress] == None:\n",
        "      try:\n",
        "        I = url_to_image(ie_split_urls[progress])\n",
        "        if (len(I.shape))==3:    #check if the image has width, length and channels\n",
        "          save_path = '/content/train/Indian_Elephant/img'+str(progress)+'.jpg'      #create a name of each image\n",
        "          cv2.imwrite(save_path,I)\n",
        "\n",
        "      except:\n",
        "        None"
      ],
      "execution_count": 10,
      "outputs": [
        {
          "output_type": "stream",
          "text": [
            "0\n",
            "20\n",
            "40\n",
            "60\n",
            "80\n",
            "100\n",
            "120\n",
            "140\n"
          ],
          "name": "stdout"
        }
      ]
    },
    {
      "cell_type": "code",
      "metadata": {
        "id": "M3METs6K4P6F",
        "colab_type": "code",
        "colab": {
          "base_uri": "https://localhost:8080/",
          "height": 159
        },
        "outputId": "869f7791-e2f0-4d11-a945-13c83cfdfa55"
      },
      "source": [
        "#do the same for ae:\n",
        "for progress in range(n_of_training_images):#store all the images on a directory\n",
        "    # Print out progress whenever progress is a multiple of 20 so we can follow the\n",
        "    # (relatively slow) progress\n",
        "    if(progress%20==0):\n",
        "        print(progress)\n",
        "    if not ae_split_urls[progress] == None:\n",
        "      try:\n",
        "        I = url_to_image(ae_split_urls[progress])\n",
        "        if (len(I.shape))==3: #check if the image has width, length and channels\n",
        "          save_path = '/content/train/African_Alephant/img'+str(progress)+'.jpg'#create a name of each image\n",
        "          cv2.imwrite(save_path,I)\n",
        "\n",
        "      except:\n",
        "        None"
      ],
      "execution_count": 11,
      "outputs": [
        {
          "output_type": "stream",
          "text": [
            "0\n",
            "20\n",
            "40\n",
            "60\n",
            "80\n",
            "100\n",
            "120\n",
            "140\n"
          ],
          "name": "stdout"
        }
      ]
    },
    {
      "cell_type": "code",
      "metadata": {
        "id": "cxaRpd5q4f_M",
        "colab_type": "code",
        "colab": {
          "base_uri": "https://localhost:8080/",
          "height": 159
        },
        "outputId": "12e2f664-189a-47de-c7fb-19dd0faeb60e"
      },
      "source": [
        "#do the same for t:\n",
        "for progress in range(n_of_training_images):#store all the images on a directory\n",
        "    # Print out progress whenever progress is a multiple of 20 so we can follow the\n",
        "    # (relatively slow) progress\n",
        "    if(progress%20==0):\n",
        "        print(progress)\n",
        "    if not t_split_urls[progress] == None:\n",
        "      try:\n",
        "        I = url_to_image(t_split_urls[progress])\n",
        "        if (len(I.shape))==3: #check if the image has width, length and channels\n",
        "          save_path = '/content/train/Tuskers/img'+str(progress)+'.jpg'#create a name of each image\n",
        "          cv2.imwrite(save_path,I)\n",
        "\n",
        "      except:\n",
        "        None"
      ],
      "execution_count": 12,
      "outputs": [
        {
          "output_type": "stream",
          "text": [
            "0\n",
            "20\n",
            "40\n",
            "60\n",
            "80\n",
            "100\n",
            "120\n",
            "140\n"
          ],
          "name": "stdout"
        }
      ]
    },
    {
      "cell_type": "markdown",
      "metadata": {
        "id": "HGmbc9CJ4lqB",
        "colab_type": "text"
      },
      "source": [
        "## Storing Validation Images"
      ]
    },
    {
      "cell_type": "code",
      "metadata": {
        "id": "b1kb0vzr4kQa",
        "colab_type": "code",
        "colab": {
          "base_uri": "https://localhost:8080/",
          "height": 106
        },
        "outputId": "2426f2a0-b52c-44fe-e870-e30fa1a2a7ad"
      },
      "source": [
        "for progress in range(50):      #store all the images on a directory\n",
        "    # Print out progress whenever progress is a multiple of 10 so we can follow the\n",
        "    # (relatively slow) progress\n",
        "    if(progress%10==0):\n",
        "        print(progress)\n",
        "    if not ie_split_urls[n_of_training_images+progress] == None:\n",
        "      try:\n",
        "        I = url_to_image(ie_split_urls[n_of_training_images+progress])      #get images that are different from the ones used for training\n",
        "        if (len(I.shape))==3:       #check if the image has width, length and channels\n",
        "          save_path = '/content/validation/Indian_Elephant/img'+str(progress)+'.jpg'      #create a name of each image\n",
        "          cv2.imwrite(save_path,I)\n",
        "\n",
        "      except:\n",
        "        None"
      ],
      "execution_count": 13,
      "outputs": [
        {
          "output_type": "stream",
          "text": [
            "0\n",
            "10\n",
            "20\n",
            "30\n",
            "40\n"
          ],
          "name": "stdout"
        }
      ]
    },
    {
      "cell_type": "code",
      "metadata": {
        "id": "MZeoDSKe4r8O",
        "colab_type": "code",
        "colab": {
          "base_uri": "https://localhost:8080/",
          "height": 106
        },
        "outputId": "0af19209-7d33-4a30-d473-81bac81a8127"
      },
      "source": [
        "#do the same for ae:\n",
        "for progress in range(50):    #store all the images on a directory\n",
        "    # Print out progress whenever progress is a multiple of 10 so we can follow the\n",
        "    # (relatively slow) progress\n",
        "    if(progress%10==0):\n",
        "        print(progress)\n",
        "    if not ae_split_urls[n_of_training_images+progress] == None:\n",
        "      try:\n",
        "        I = url_to_image(ae_split_urls[n_of_training_images+progress])   #get images that are different from the ones used for training\n",
        "        if (len(I.shape))==3:     #check if the image has width, length and channels\n",
        "          save_path = '/content/validation/African_Alephant/img'+str(progress)+'.jpg'   #create a name of each image\n",
        "          cv2.imwrite(save_path,I)\n",
        "\n",
        "      except:\n",
        "        None"
      ],
      "execution_count": 14,
      "outputs": [
        {
          "output_type": "stream",
          "text": [
            "0\n",
            "10\n",
            "20\n",
            "30\n",
            "40\n"
          ],
          "name": "stdout"
        }
      ]
    },
    {
      "cell_type": "code",
      "metadata": {
        "id": "9ugPn4IA4wIQ",
        "colab_type": "code",
        "colab": {
          "base_uri": "https://localhost:8080/",
          "height": 106
        },
        "outputId": "190735b1-030d-47ba-85e4-3a66b07f5723"
      },
      "source": [
        "#do the same for t:\n",
        "for progress in range(50):    #store all the images on a directory\n",
        "    # Print out progress whenever progress is a multiple of 10 so we can follow the\n",
        "    # (relatively slow) progress\n",
        "    if(progress%10==0):\n",
        "        print(progress)\n",
        "    if not t_split_urls[progress] == None:\n",
        "      try:\n",
        "        I = url_to_image(t_split_urls[n_of_training_images+progress])   #get images that are different from the ones used for training\n",
        "        if (len(I.shape))==3:       #check if the image has width, length and channels\n",
        "          save_path = '/content/validation/Tuskers/img'+str(progress)+'.jpg'    #create a name of each image\n",
        "          cv2.imwrite(save_path,I)\n",
        "\n",
        "      except:\n",
        "        None"
      ],
      "execution_count": 15,
      "outputs": [
        {
          "output_type": "stream",
          "text": [
            "0\n",
            "10\n",
            "20\n",
            "30\n",
            "40\n"
          ],
          "name": "stdout"
        }
      ]
    },
    {
      "cell_type": "code",
      "metadata": {
        "id": "74-1FU_Z4z-z",
        "colab_type": "code",
        "colab": {
          "base_uri": "https://localhost:8080/",
          "height": 1000
        },
        "outputId": "c08c424d-6db6-4364-ad11-ac3ba4b545f1"
      },
      "source": [
        "print(\"\\nTRAIN:\\n\")          \n",
        "print(\"\\nlist the files inside Indian_Elephant directory:\\n\")        \n",
        "!ls /content/train/Indian_Elephant    #list the files inside ships\n",
        "print(\"\\nlist the files inside African_Alephant directory:\\n\")\n",
        "!ls /content/train/African_Alephant    #list the files inside bikes\n",
        "print(\"\\nlist the files inside Tuskers directory:\\n\")\n",
        "!ls /content/train/Tuskers    #list the files inside bikes\n",
        "\n",
        "\n",
        "print(\"\\nVALIDATION:\\n\")\n",
        "print(\"\\nlist the files inside Indian_Elephant directory:\\n\")        \n",
        "!ls /content/validation/Indian_Elephant     #list the files inside ships\n",
        "print(\"\\nlist the files inside African_Alephant directory:\\n\")\n",
        "!ls /content/validation/African_Alephant     #list the files inside bikes \n",
        "print(\"\\nlist the files inside Tuskers directory:\\n\")\n",
        "!ls /content/validation/Tuskers     #list the files inside bikes   "
      ],
      "execution_count": 16,
      "outputs": [
        {
          "output_type": "stream",
          "text": [
            "\n",
            "TRAIN:\n",
            "\n",
            "\n",
            "list the files inside Indian_Elephant directory:\n",
            "\n",
            "img0.jpg    img115.jpg\timg131.jpg  img25.jpg  img48.jpg  img70.jpg  img87.jpg\n",
            "img100.jpg  img117.jpg\timg133.jpg  img2.jpg   img51.jpg  img71.jpg  img88.jpg\n",
            "img103.jpg  img119.jpg\timg139.jpg  img30.jpg  img52.jpg  img74.jpg  img91.jpg\n",
            "img104.jpg  img11.jpg\timg145.jpg  img31.jpg  img54.jpg  img76.jpg  img92.jpg\n",
            "img105.jpg  img121.jpg\timg148.jpg  img35.jpg  img55.jpg  img77.jpg  img94.jpg\n",
            "img106.jpg  img122.jpg\timg15.jpg   img3.jpg   img57.jpg  img78.jpg  img95.jpg\n",
            "img107.jpg  img123.jpg\timg17.jpg   img41.jpg  img5.jpg   img79.jpg  img97.jpg\n",
            "img108.jpg  img125.jpg\timg18.jpg   img44.jpg  img60.jpg  img7.jpg   img98.jpg\n",
            "img110.jpg  img127.jpg\timg1.jpg    img45.jpg  img63.jpg  img80.jpg  img9.jpg\n",
            "img112.jpg  img12.jpg\timg20.jpg   img46.jpg  img64.jpg  img82.jpg\n",
            "img114.jpg  img130.jpg\timg22.jpg   img47.jpg  img65.jpg  img83.jpg\n",
            "\n",
            "list the files inside African_Alephant directory:\n",
            "\n",
            "img0.jpg    img125.jpg\timg144.jpg  img27.jpg  img46.jpg  img67.jpg  img82.jpg\n",
            "img101.jpg  img126.jpg\timg145.jpg  img28.jpg  img47.jpg  img68.jpg  img85.jpg\n",
            "img105.jpg  img127.jpg\timg146.jpg  img2.jpg   img49.jpg  img69.jpg  img86.jpg\n",
            "img106.jpg  img129.jpg\timg147.jpg  img30.jpg  img4.jpg   img6.jpg   img87.jpg\n",
            "img107.jpg  img12.jpg\timg149.jpg  img31.jpg  img50.jpg  img70.jpg  img8.jpg\n",
            "img108.jpg  img130.jpg\timg14.jpg   img32.jpg  img52.jpg  img71.jpg  img90.jpg\n",
            "img109.jpg  img131.jpg\timg17.jpg   img34.jpg  img54.jpg  img72.jpg  img92.jpg\n",
            "img112.jpg  img132.jpg\timg19.jpg   img35.jpg  img55.jpg  img73.jpg  img93.jpg\n",
            "img113.jpg  img134.jpg\timg1.jpg    img36.jpg  img58.jpg  img75.jpg  img95.jpg\n",
            "img115.jpg  img135.jpg\timg20.jpg   img37.jpg  img59.jpg  img76.jpg  img96.jpg\n",
            "img116.jpg  img137.jpg\timg21.jpg   img39.jpg  img5.jpg   img77.jpg  img97.jpg\n",
            "img119.jpg  img138.jpg\timg22.jpg   img3.jpg   img61.jpg  img78.jpg  img98.jpg\n",
            "img120.jpg  img13.jpg\timg23.jpg   img40.jpg  img62.jpg  img79.jpg  img99.jpg\n",
            "img121.jpg  img140.jpg\timg24.jpg   img41.jpg  img63.jpg  img7.jpg   img9.jpg\n",
            "img122.jpg  img142.jpg\timg25.jpg   img43.jpg  img64.jpg  img80.jpg\n",
            "img123.jpg  img143.jpg\timg26.jpg   img45.jpg  img65.jpg  img81.jpg\n",
            "\n",
            "list the files inside Tuskers directory:\n",
            "\n",
            "img0.jpg    img124.jpg\timg141.jpg  img27.jpg  img46.jpg  img73.jpg  img88.jpg\n",
            "img100.jpg  img125.jpg\timg142.jpg  img28.jpg  img49.jpg  img74.jpg  img89.jpg\n",
            "img101.jpg  img126.jpg\timg145.jpg  img29.jpg  img52.jpg  img75.jpg  img91.jpg\n",
            "img102.jpg  img127.jpg\timg148.jpg  img2.jpg   img53.jpg  img76.jpg  img92.jpg\n",
            "img105.jpg  img128.jpg\timg149.jpg  img32.jpg  img56.jpg  img77.jpg  img94.jpg\n",
            "img109.jpg  img12.jpg\timg14.jpg   img33.jpg  img57.jpg  img78.jpg  img95.jpg\n",
            "img110.jpg  img130.jpg\timg16.jpg   img34.jpg  img61.jpg  img79.jpg  img96.jpg\n",
            "img112.jpg  img131.jpg\timg17.jpg   img35.jpg  img62.jpg  img7.jpg   img97.jpg\n",
            "img114.jpg  img132.jpg\timg18.jpg   img36.jpg  img64.jpg  img81.jpg  img98.jpg\n",
            "img115.jpg  img134.jpg\timg19.jpg   img38.jpg  img65.jpg  img82.jpg  img99.jpg\n",
            "img118.jpg  img136.jpg\timg1.jpg    img39.jpg  img66.jpg  img83.jpg  img9.jpg\n",
            "img11.jpg   img137.jpg\timg21.jpg   img42.jpg  img69.jpg  img84.jpg\n",
            "img120.jpg  img139.jpg\timg23.jpg   img44.jpg  img6.jpg   img85.jpg\n",
            "img121.jpg  img13.jpg\timg24.jpg   img45.jpg  img71.jpg  img87.jpg\n",
            "\n",
            "VALIDATION:\n",
            "\n",
            "\n",
            "list the files inside Indian_Elephant directory:\n",
            "\n",
            "img0.jpg   img15.jpg  img22.jpg  img29.jpg  img38.jpg  img46.jpg  img7.jpg\n",
            "img10.jpg  img17.jpg  img23.jpg  img2.jpg   img39.jpg  img47.jpg  img8.jpg\n",
            "img11.jpg  img18.jpg  img24.jpg  img30.jpg  img3.jpg   img48.jpg  img9.jpg\n",
            "img12.jpg  img19.jpg  img25.jpg  img31.jpg  img42.jpg  img4.jpg\n",
            "img13.jpg  img20.jpg  img27.jpg  img33.jpg  img44.jpg  img5.jpg\n",
            "img14.jpg  img21.jpg  img28.jpg  img34.jpg  img45.jpg  img6.jpg\n",
            "\n",
            "list the files inside African_Alephant directory:\n",
            "\n",
            "img0.jpg   img17.jpg  img24.jpg  img31.jpg  img38.jpg  img44.jpg  img5.jpg\n",
            "img10.jpg  img19.jpg  img25.jpg  img32.jpg  img39.jpg  img45.jpg  img6.jpg\n",
            "img11.jpg  img1.jpg   img26.jpg  img33.jpg  img3.jpg   img46.jpg  img7.jpg\n",
            "img12.jpg  img20.jpg  img27.jpg  img34.jpg  img40.jpg  img47.jpg  img8.jpg\n",
            "img13.jpg  img21.jpg  img28.jpg  img35.jpg  img41.jpg  img48.jpg  img9.jpg\n",
            "img15.jpg  img22.jpg  img29.jpg  img36.jpg  img42.jpg  img49.jpg\n",
            "img16.jpg  img23.jpg  img30.jpg  img37.jpg  img43.jpg  img4.jpg\n",
            "\n",
            "list the files inside Tuskers directory:\n",
            "\n",
            "img0.jpg   img17.jpg  img23.jpg  img2.jpg   img38.jpg  img46.jpg  img8.jpg\n",
            "img10.jpg  img18.jpg  img24.jpg  img30.jpg  img39.jpg  img47.jpg  img9.jpg\n",
            "img11.jpg  img19.jpg  img25.jpg  img31.jpg  img40.jpg  img48.jpg\n",
            "img12.jpg  img1.jpg   img26.jpg  img32.jpg  img41.jpg  img49.jpg\n",
            "img14.jpg  img20.jpg  img27.jpg  img34.jpg  img42.jpg  img4.jpg\n",
            "img15.jpg  img21.jpg  img28.jpg  img36.jpg  img43.jpg  img5.jpg\n",
            "img16.jpg  img22.jpg  img29.jpg  img37.jpg  img45.jpg  img6.jpg\n"
          ],
          "name": "stdout"
        }
      ]
    },
    {
      "cell_type": "markdown",
      "metadata": {
        "id": "C7Nl3Ztt9qXo",
        "colab_type": "text"
      },
      "source": [
        "## Modelling"
      ]
    },
    {
      "cell_type": "markdown",
      "metadata": {
        "id": "Fv4glaTQ-Aq1",
        "colab_type": "text"
      },
      "source": [
        "### Resnet 50"
      ]
    },
    {
      "cell_type": "code",
      "metadata": {
        "id": "T7cxG8hp9r9Q",
        "colab_type": "code",
        "colab": {}
      },
      "source": [
        "from keras.applications.resnet50 import ResNet50\n",
        "from keras.preprocessing import image\n",
        "from keras.applications.resnet50 import preprocess_input, decode_predictions\n",
        "from tensorflow.python.keras.models import Sequential\n",
        "from tensorflow.python.keras.layers import Dense\n",
        "from keras.preprocessing.image import ImageDataGenerator"
      ],
      "execution_count": 17,
      "outputs": []
    },
    {
      "cell_type": "code",
      "metadata": {
        "id": "AjOHa1_w-EpZ",
        "colab_type": "code",
        "colab": {}
      },
      "source": [
        "resnet_50_model = ResNet50(weights='imagenet')"
      ],
      "execution_count": 18,
      "outputs": []
    },
    {
      "cell_type": "code",
      "metadata": {
        "id": "MH2jUEJ_-NlR",
        "colab_type": "code",
        "colab": {}
      },
      "source": [
        "NUM_CLASSES = 3\n",
        "CHANNELS = 3\n",
        "IMAGE_RESIZE = 224\n",
        "RESNET50_POOLING_AVERAGE = 'avg'\n",
        "DENSE_LAYER_ACTIVATION = 'softmax'\n",
        "OBJECTIVE_FUNCTION = 'categorical_crossentropy'\n",
        "\n",
        "LOSS_METRICS = ['accuracy']\n",
        "NUM_EPOCHS = 10\n",
        "EARLY_STOP_PATIENCE = 3\n",
        "STEPS_PER_EPOCH_TRAINING = 10\n",
        "STEPS_PER_EPOCH_VALIDATION = 10\n",
        "\n",
        "BATCH_SIZE_TRAINING = 100\n",
        "BATCH_SIZE_VALIDATION = 100"
      ],
      "execution_count": 19,
      "outputs": []
    },
    {
      "cell_type": "code",
      "metadata": {
        "id": "3ledyQwhFjXY",
        "colab_type": "code",
        "colab": {}
      },
      "source": [
        "custom_model = Sequential()\n",
        "custom_model.add(ResNet50(include_top = False, pooling = RESNET50_POOLING_AVERAGE, weights = \"imagenet\"))\n",
        "custom_model.add(Dense(NUM_CLASSES, activation = DENSE_LAYER_ACTIVATION))\n",
        "custom_model.layers[0].trainable = False"
      ],
      "execution_count": 20,
      "outputs": []
    },
    {
      "cell_type": "code",
      "metadata": {
        "id": "NdCVSfj8F_ox",
        "colab_type": "code",
        "colab": {
          "base_uri": "https://localhost:8080/",
          "height": 230
        },
        "outputId": "b4e80b55-156b-4162-c667-0c815e554f51"
      },
      "source": [
        "custom_model.summary()"
      ],
      "execution_count": 21,
      "outputs": [
        {
          "output_type": "stream",
          "text": [
            "Model: \"sequential\"\n",
            "_________________________________________________________________\n",
            "Layer (type)                 Output Shape              Param #   \n",
            "=================================================================\n",
            "resnet50 (Functional)        (None, 2048)              23587712  \n",
            "_________________________________________________________________\n",
            "dense (Dense)                (None, 3)                 6147      \n",
            "=================================================================\n",
            "Total params: 23,593,859\n",
            "Trainable params: 6,147\n",
            "Non-trainable params: 23,587,712\n",
            "_________________________________________________________________\n"
          ],
          "name": "stdout"
        }
      ]
    },
    {
      "cell_type": "code",
      "metadata": {
        "id": "KkEOEXDKGP_-",
        "colab_type": "code",
        "colab": {}
      },
      "source": [
        "custom_model.compile(optimizer = \"adam\", loss = OBJECTIVE_FUNCTION, metrics = LOSS_METRICS)"
      ],
      "execution_count": 22,
      "outputs": []
    },
    {
      "cell_type": "code",
      "metadata": {
        "id": "jgjiz_91GkOw",
        "colab_type": "code",
        "colab": {
          "base_uri": "https://localhost:8080/",
          "height": 52
        },
        "outputId": "dc1e26e5-40f9-4854-dba7-39f4cab2ceeb"
      },
      "source": [
        "image_size = IMAGE_RESIZE\n",
        "data_generator = ImageDataGenerator(preprocessing_function=preprocess_input)\n",
        "\n",
        "train_generator = data_generator.flow_from_directory(\n",
        "        '/content/train',\n",
        "        target_size=(image_size, image_size),\n",
        "        batch_size=BATCH_SIZE_TRAINING,\n",
        "        class_mode='categorical')\n",
        "\n",
        "validation_generator = data_generator.flow_from_directory(\n",
        "        '/content/validation',\n",
        "        target_size=(image_size, image_size),\n",
        "        batch_size=BATCH_SIZE_VALIDATION,\n",
        "        class_mode='categorical') "
      ],
      "execution_count": 23,
      "outputs": [
        {
          "output_type": "stream",
          "text": [
            "Found 280 images belonging to 3 classes.\n",
            "Found 130 images belonging to 3 classes.\n"
          ],
          "name": "stdout"
        }
      ]
    },
    {
      "cell_type": "code",
      "metadata": {
        "id": "YaEYRGQoJ7Q8",
        "colab_type": "code",
        "colab": {}
      },
      "source": [
        "from tensorflow.python.keras.callbacks import EarlyStopping, ModelCheckpoint\n",
        "\n",
        "cb_early_stopper = EarlyStopping(monitor = 'val_loss', patience = EARLY_STOP_PATIENCE)\n",
        "cb_checkpointer = ModelCheckpoint(filepath = 'best.hdf5', monitor = 'val_loss', save_best_only = True, mode = 'auto')"
      ],
      "execution_count": 24,
      "outputs": []
    },
    {
      "cell_type": "code",
      "metadata": {
        "id": "hKAnw_ZASK59",
        "colab_type": "code",
        "colab": {
          "base_uri": "https://localhost:8080/",
          "height": 355
        },
        "outputId": "3dd345ba-5e05-4722-f320-46634be7ced4"
      },
      "source": [
        "fit_history = custom_model.fit_generator(\n",
        "        train_generator,\n",
        "        #steps_per_epoch=STEPS_PER_EPOCH_TRAINING,\n",
        "        epochs = NUM_EPOCHS,\n",
        "        validation_data=validation_generator,\n",
        "        #validation_steps=STEPS_PER_EPOCH_VALIDATION,\n",
        "        callbacks=[cb_checkpointer, cb_early_stopper]\n",
        ")"
      ],
      "execution_count": 31,
      "outputs": [
        {
          "output_type": "stream",
          "text": [
            "Epoch 1/10\n",
            "3/3 [==============================] - 50s 17s/step - loss: 1.2232 - accuracy: 0.4464 - val_loss: 1.1148 - val_accuracy: 0.4385\n",
            "Epoch 2/10\n",
            "3/3 [==============================] - 46s 15s/step - loss: 1.0687 - accuracy: 0.4571 - val_loss: 1.0433 - val_accuracy: 0.5077\n",
            "Epoch 3/10\n",
            "3/3 [==============================] - ETA: 0s - loss: 0.9261 - accuracy: 0.5214Epoch 4/10\n",
            "3/3 [==============================] - 46s 15s/step - loss: 0.8268 - accuracy: 0.6107 - val_loss: 0.8979 - val_accuracy: 0.5846\n",
            "Epoch 5/10\n",
            "3/3 [==============================] - 46s 15s/step - loss: 0.7443 - accuracy: 0.6714 - val_loss: 0.8326 - val_accuracy: 0.6385\n",
            "Epoch 6/10\n",
            "3/3 [==============================] - 48s 16s/step - loss: 0.6805 - accuracy: 0.7214 - val_loss: 0.8124 - val_accuracy: 0.6462\n",
            "Epoch 7/10\n",
            "3/3 [==============================] - 46s 15s/step - loss: 0.6252 - accuracy: 0.7500 - val_loss: 0.7733 - val_accuracy: 0.6846\n",
            "Epoch 8/10\n",
            "3/3 [==============================] - 45s 15s/step - loss: 0.5843 - accuracy: 0.7857 - val_loss: 0.7785 - val_accuracy: 0.6692\n",
            "Epoch 9/10\n",
            "3/3 [==============================] - 46s 15s/step - loss: 0.5481 - accuracy: 0.7857 - val_loss: 0.7380 - val_accuracy: 0.7077\n",
            "Epoch 10/10\n",
            "3/3 [==============================] - 45s 15s/step - loss: 0.5141 - accuracy: 0.8250 - val_loss: 0.7393 - val_accuracy: 0.6615\n"
          ],
          "name": "stdout"
        }
      ]
    },
    {
      "cell_type": "code",
      "metadata": {
        "id": "VCtnhTGGSeFy",
        "colab_type": "code",
        "colab": {
          "base_uri": "https://localhost:8080/",
          "height": 35
        },
        "outputId": "0d00fac2-9636-4bee-a062-963fbb6f0caa"
      },
      "source": [
        "print(fit_history.history.keys())"
      ],
      "execution_count": 26,
      "outputs": [
        {
          "output_type": "stream",
          "text": [
            "dict_keys(['loss', 'accuracy', 'val_loss', 'val_accuracy'])\n"
          ],
          "name": "stdout"
        }
      ]
    },
    {
      "cell_type": "code",
      "metadata": {
        "id": "UhhjfeKWauM8",
        "colab_type": "code",
        "colab": {}
      },
      "source": [
        "import matplotlib.pyplot as plt\n"
      ],
      "execution_count": 28,
      "outputs": []
    },
    {
      "cell_type": "code",
      "metadata": {
        "id": "nFcdVIkVaodg",
        "colab_type": "code",
        "colab": {
          "base_uri": "https://localhost:8080/",
          "height": 276
        },
        "outputId": "79dcfa2c-a6a3-4900-f016-b5bcaf27a610"
      },
      "source": [
        "plt.figure(1, figsize = (15,8)) \n",
        "    \n",
        "plt.subplot(221)  \n",
        "plt.plot(fit_history.history['accuracy'])  \n",
        "plt.plot(fit_history.history['val_accuracy'])  \n",
        "plt.title('model accuracy')  \n",
        "plt.ylabel('accuracy')  \n",
        "plt.xlabel('epoch')  \n",
        "plt.legend(['train', 'valid']) \n",
        "    \n",
        "plt.subplot(222)  \n",
        "plt.plot(fit_history.history['loss'])  \n",
        "plt.plot(fit_history.history['val_loss'])  \n",
        "plt.title('model loss')  \n",
        "plt.ylabel('loss')  \n",
        "plt.xlabel('epoch')  \n",
        "plt.legend(['train', 'valid']) \n",
        "\n",
        "plt.show()\n"
      ],
      "execution_count": 32,
      "outputs": [
        {
          "output_type": "display_data",
          "data": {
            "image/png": "[encoded data removed]",
            "text/plain": [
              "<Figure size 1080x576 with 2 Axes>"
            ]
          },
          "metadata": {
            "tags": [],
            "needs_background": "light"
          }
        }
      ]
    },
    {
      "cell_type": "code",
      "metadata": {
        "id": "0kDB-ljpatJl",
        "colab_type": "code",
        "colab": {}
      },
      "source": [
        ""
      ],
      "execution_count": null,
      "outputs": []
    }
  ]
}