{
  "nbformat": 4,
  "nbformat_minor": 0,
  "metadata": {
    "colab": {
      "name": "DL Assignment 7",
      "provenance": [],
      "collapsed_sections": [],
      "authorship_tag": "ABX9TyNmqAVUleCDK9/bj7loeoOh",
      "include_colab_link": true
    },
    "kernelspec": {
      "name": "python3",
      "display_name": "Python 3"
    },
    "accelerator": "GPU"
  },
  "cells": [
    {
      "cell_type": "markdown",
      "metadata": {
        "id": "view-in-github",
        "colab_type": "text"
      },
      "source": [
        "<a href=\"https://colab.research.google.com/github/harshbelani/M.Tech-DS/blob/master/Deep_Learning/DL_Assignment_7.ipynb\" target=\"_parent\"><img src=\"https://colab.research.google.com/assets/colab-badge.svg\" alt=\"Open In Colab\"/></a>"
      ]
    },
    {
      "cell_type": "markdown",
      "metadata": {
        "id": "o23BHxH4opUK"
      },
      "source": [
        "#Importing Required libraries"
      ]
    },
    {
      "cell_type": "code",
      "metadata": {
        "id": "DS2R9N1Wn78J"
      },
      "source": [
        "import keras\n",
        "from keras.datasets import cifar10\n",
        "import numpy as np\n",
        "from keras.utils import to_categorical\n",
        "from keras.models import Sequential\n",
        "from keras.layers import Conv2D, MaxPooling2D, Flatten, Dense, AveragePooling2D, Dropout\n",
        "from keras.optimizers import SGD"
      ],
      "execution_count": 1,
      "outputs": []
    },
    {
      "cell_type": "markdown",
      "metadata": {
        "id": "KZnhwgQvoswQ"
      },
      "source": [
        "#Loading Cifar100 dataset"
      ]
    },
    {
      "cell_type": "code",
      "metadata": {
        "id": "TkPl-Xf6oQSx",
        "outputId": "41fb9dbc-adb2-4039-b06a-425031cf7242",
        "colab": {
          "base_uri": "https://localhost:8080/"
        }
      },
      "source": [
        "(X_train, y_train), (X_test, y_test) = keras.datasets.cifar10.load_data()"
      ],
      "execution_count": 19,
      "outputs": [
        {
          "output_type": "stream",
          "text": [
            "Downloading data from https://www.cs.toronto.edu/~kriz/cifar-10-python.tar.gz\n",
            "170500096/170498071 [==============================] - 5s 0us/step\n"
          ],
          "name": "stdout"
        }
      ]
    },
    {
      "cell_type": "code",
      "metadata": {
        "id": "TS6FMzrlo1as",
        "outputId": "4e61681c-216f-4787-ba69-6c9cf77bc7ec",
        "colab": {
          "base_uri": "https://localhost:8080/"
        }
      },
      "source": [
        "print(\"Train dataset = \", X_train.shape)\n",
        "print(\"Train dataset labels = \", y_train.shape)\n",
        "print(\"Test dataset = \", X_test.shape)\n",
        "print(\"Test dataset labels = \", y_test.shape)"
      ],
      "execution_count": 20,
      "outputs": [
        {
          "output_type": "stream",
          "text": [
            "Train dataset =  (50000, 32, 32, 3)\n",
            "Train dataset labels =  (50000, 1)\n",
            "Test dataset =  (10000, 32, 32, 3)\n",
            "Test dataset labels =  (10000, 1)\n"
          ],
          "name": "stdout"
        }
      ]
    },
    {
      "cell_type": "markdown",
      "metadata": {
        "id": "GfVVjAbuo6XT"
      },
      "source": [
        "#normalizing dataset"
      ]
    },
    {
      "cell_type": "code",
      "metadata": {
        "id": "F6pPCO--o3ri"
      },
      "source": [
        "X_train = X_train.astype('float32')/255\n",
        "X_test = X_test.astype('float32')/255"
      ],
      "execution_count": 21,
      "outputs": []
    },
    {
      "cell_type": "markdown",
      "metadata": {
        "id": "y2eSISPqo_WP"
      },
      "source": [
        "#One-hot encoding of labels"
      ]
    },
    {
      "cell_type": "code",
      "metadata": {
        "id": "ZNbW6c7bo893"
      },
      "source": [
        "y_test = to_categorical(y_test)\n",
        "y_train = to_categorical(y_train)"
      ],
      "execution_count": 22,
      "outputs": []
    },
    {
      "cell_type": "code",
      "metadata": {
        "id": "kylhoAzQpBuT",
        "outputId": "629d5889-a83e-4193-aa6f-aa044cc38169",
        "colab": {
          "base_uri": "https://localhost:8080/"
        }
      },
      "source": [
        "y_test.shape"
      ],
      "execution_count": 23,
      "outputs": [
        {
          "output_type": "execute_result",
          "data": {
            "text/plain": [
              "(10000, 10)"
            ]
          },
          "metadata": {
            "tags": []
          },
          "execution_count": 23
        }
      ]
    },
    {
      "cell_type": "code",
      "metadata": {
        "id": "A8wkUy3opEBx",
        "outputId": "5ef7d185-ef33-4e62-c186-abc9458c60fa",
        "colab": {
          "base_uri": "https://localhost:8080/"
        }
      },
      "source": [
        "y_train.shape"
      ],
      "execution_count": 24,
      "outputs": [
        {
          "output_type": "execute_result",
          "data": {
            "text/plain": [
              "(50000, 10)"
            ]
          },
          "metadata": {
            "tags": []
          },
          "execution_count": 24
        }
      ]
    },
    {
      "cell_type": "markdown",
      "metadata": {
        "id": "j3QmZh4BpKpJ"
      },
      "source": [
        "There are 10 categories in Cifar100 dataset."
      ]
    },
    {
      "cell_type": "markdown",
      "metadata": {
        "id": "_efYa7gKpNW9"
      },
      "source": [
        "#Model Building"
      ]
    },
    {
      "cell_type": "markdown",
      "metadata": {
        "id": "02_QGNjvsKEv"
      },
      "source": [
        "## Simple Model"
      ]
    },
    {
      "cell_type": "code",
      "metadata": {
        "id": "02V_txGpsTKy"
      },
      "source": [
        "from keras.models import Sequential                         \n",
        "from keras.layers import Dense, Dropout, Activation, Flatten,Conv2D,MaxPooling2D, BatchNormalization\n",
        "from keras.utils import to_categorical\n",
        "from keras.callbacks import ModelCheckpoint, EarlyStopping\n",
        "from keras.optimizers import SGD, Adam, RMSprop"
      ],
      "execution_count": 25,
      "outputs": []
    },
    {
      "cell_type": "code",
      "metadata": {
        "id": "dE-Cf5TWsJfe"
      },
      "source": [
        "model1 = Sequential()\n",
        "model1.add(Conv2D(32,(3,3),activation='relu',kernel_initializer='he_uniform',padding='same',input_shape=(32,32,3)))\n",
        "model1.add(Conv2D(32,(3,3),activation='relu',kernel_initializer='he_uniform',padding='same'))\n",
        "model1.add(MaxPooling2D((2,2)))\n",
        "model1.add(BatchNormalization())\n",
        "model1.add(Dropout(0.1))\n",
        "model1.add(Conv2D(64,(3,3),activation='relu',kernel_initializer='he_uniform',padding='same'))\n",
        "model1.add(Conv2D(64,(3,3),activation='relu',kernel_initializer='he_uniform',padding='same'))\n",
        "model1.add(MaxPooling2D((2,2)))\n",
        "model1.add(BatchNormalization())\n",
        "model1.add(Dropout(0.1))\n",
        "model1.add(Conv2D(128,(3,3),activation='relu',kernel_initializer='he_uniform',padding='same'))\n",
        "model1.add(Conv2D(128,(3,3),activation='relu',kernel_initializer='he_uniform',padding='same'))\n",
        "model1.add(MaxPooling2D((2,2)))\n",
        "model1.add(BatchNormalization())\n",
        "model1.add(Dropout(0.1))\n",
        "model1.add(Flatten())\n",
        "model1.add(Dense(128,activation='relu'))\n",
        "model1.add(BatchNormalization())\n",
        "model1.add(Dropout(0.1))\n",
        "model1.add(Dense(10,activation='softmax'))"
      ],
      "execution_count": 27,
      "outputs": []
    },
    {
      "cell_type": "code",
      "metadata": {
        "id": "4oIvMETcpKK0",
        "outputId": "1eaf5348-eb7d-47a6-cbc8-eaa8465ecb46",
        "colab": {
          "base_uri": "https://localhost:8080/"
        }
      },
      "source": [
        "model1.summary()"
      ],
      "execution_count": 28,
      "outputs": [
        {
          "output_type": "stream",
          "text": [
            "Model: \"sequential_3\"\n",
            "_________________________________________________________________\n",
            "Layer (type)                 Output Shape              Param #   \n",
            "=================================================================\n",
            "conv2d_14 (Conv2D)           (None, 32, 32, 32)        896       \n",
            "_________________________________________________________________\n",
            "conv2d_15 (Conv2D)           (None, 32, 32, 32)        9248      \n",
            "_________________________________________________________________\n",
            "max_pooling2d_8 (MaxPooling2 (None, 16, 16, 32)        0         \n",
            "_________________________________________________________________\n",
            "batch_normalization_8 (Batch (None, 16, 16, 32)        128       \n",
            "_________________________________________________________________\n",
            "dropout_8 (Dropout)          (None, 16, 16, 32)        0         \n",
            "_________________________________________________________________\n",
            "conv2d_16 (Conv2D)           (None, 16, 16, 64)        18496     \n",
            "_________________________________________________________________\n",
            "conv2d_17 (Conv2D)           (None, 16, 16, 64)        36928     \n",
            "_________________________________________________________________\n",
            "max_pooling2d_9 (MaxPooling2 (None, 8, 8, 64)          0         \n",
            "_________________________________________________________________\n",
            "batch_normalization_9 (Batch (None, 8, 8, 64)          256       \n",
            "_________________________________________________________________\n",
            "dropout_9 (Dropout)          (None, 8, 8, 64)          0         \n",
            "_________________________________________________________________\n",
            "conv2d_18 (Conv2D)           (None, 8, 8, 128)         73856     \n",
            "_________________________________________________________________\n",
            "conv2d_19 (Conv2D)           (None, 8, 8, 128)         147584    \n",
            "_________________________________________________________________\n",
            "max_pooling2d_10 (MaxPooling (None, 4, 4, 128)         0         \n",
            "_________________________________________________________________\n",
            "batch_normalization_10 (Batc (None, 4, 4, 128)         512       \n",
            "_________________________________________________________________\n",
            "dropout_10 (Dropout)         (None, 4, 4, 128)         0         \n",
            "_________________________________________________________________\n",
            "flatten_3 (Flatten)          (None, 2048)              0         \n",
            "_________________________________________________________________\n",
            "dense_7 (Dense)              (None, 128)               262272    \n",
            "_________________________________________________________________\n",
            "batch_normalization_11 (Batc (None, 128)               512       \n",
            "_________________________________________________________________\n",
            "dropout_11 (Dropout)         (None, 128)               0         \n",
            "_________________________________________________________________\n",
            "dense_8 (Dense)              (None, 10)                1290      \n",
            "=================================================================\n",
            "Total params: 551,978\n",
            "Trainable params: 551,274\n",
            "Non-trainable params: 704\n",
            "_________________________________________________________________\n"
          ],
          "name": "stdout"
        }
      ]
    },
    {
      "cell_type": "code",
      "metadata": {
        "id": "tI2SQuIwsW6-",
        "outputId": "9af72262-6f21-4e4c-dfe2-f1bbb496b90e",
        "colab": {
          "base_uri": "https://localhost:8080/"
        }
      },
      "source": [
        "model1.compile(optimizer='adam',loss='categorical_crossentropy',metrics=['accuracy'])\n",
        "history1=model1.fit(X_train,y_train,epochs=50,validation_split=0.2,verbose=1)"
      ],
      "execution_count": 29,
      "outputs": [
        {
          "output_type": "stream",
          "text": [
            "Epoch 1/50\n",
            "1250/1250 [==============================] - 7s 6ms/step - loss: 1.3519 - accuracy: 0.5236 - val_loss: 1.0039 - val_accuracy: 0.6402\n",
            "Epoch 2/50\n",
            "1250/1250 [==============================] - 7s 5ms/step - loss: 0.8935 - accuracy: 0.6844 - val_loss: 0.9232 - val_accuracy: 0.6866\n",
            "Epoch 3/50\n",
            "1250/1250 [==============================] - 7s 6ms/step - loss: 0.7291 - accuracy: 0.7455 - val_loss: 0.8683 - val_accuracy: 0.6931\n",
            "Epoch 4/50\n",
            "1250/1250 [==============================] - 7s 5ms/step - loss: 0.6246 - accuracy: 0.7817 - val_loss: 0.7615 - val_accuracy: 0.7391\n",
            "Epoch 5/50\n",
            "1250/1250 [==============================] - 7s 6ms/step - loss: 0.5385 - accuracy: 0.8126 - val_loss: 0.7287 - val_accuracy: 0.7524\n",
            "Epoch 6/50\n",
            "1250/1250 [==============================] - 7s 5ms/step - loss: 0.4696 - accuracy: 0.8346 - val_loss: 0.6117 - val_accuracy: 0.7954\n",
            "Epoch 7/50\n",
            "1250/1250 [==============================] - 7s 5ms/step - loss: 0.4095 - accuracy: 0.8573 - val_loss: 0.6798 - val_accuracy: 0.7758\n",
            "Epoch 8/50\n",
            "1250/1250 [==============================] - 7s 5ms/step - loss: 0.3557 - accuracy: 0.8751 - val_loss: 0.7183 - val_accuracy: 0.7725\n",
            "Epoch 9/50\n",
            "1250/1250 [==============================] - 7s 5ms/step - loss: 0.3053 - accuracy: 0.8912 - val_loss: 0.6464 - val_accuracy: 0.7968\n",
            "Epoch 10/50\n",
            "1250/1250 [==============================] - 7s 5ms/step - loss: 0.2790 - accuracy: 0.9025 - val_loss: 0.6572 - val_accuracy: 0.8008\n",
            "Epoch 11/50\n",
            "1250/1250 [==============================] - 7s 5ms/step - loss: 0.2505 - accuracy: 0.9113 - val_loss: 0.6865 - val_accuracy: 0.7985\n",
            "Epoch 12/50\n",
            "1250/1250 [==============================] - 7s 6ms/step - loss: 0.2202 - accuracy: 0.9212 - val_loss: 0.6998 - val_accuracy: 0.7998\n",
            "Epoch 13/50\n",
            "1250/1250 [==============================] - 7s 5ms/step - loss: 0.2100 - accuracy: 0.9262 - val_loss: 0.6460 - val_accuracy: 0.8134\n",
            "Epoch 14/50\n",
            "1250/1250 [==============================] - 7s 5ms/step - loss: 0.1847 - accuracy: 0.9341 - val_loss: 0.6555 - val_accuracy: 0.8216\n",
            "Epoch 15/50\n",
            "1250/1250 [==============================] - 7s 5ms/step - loss: 0.1819 - accuracy: 0.9358 - val_loss: 0.8236 - val_accuracy: 0.7834\n",
            "Epoch 16/50\n",
            "1250/1250 [==============================] - 7s 5ms/step - loss: 0.1560 - accuracy: 0.9454 - val_loss: 0.7864 - val_accuracy: 0.7945\n",
            "Epoch 17/50\n",
            "1250/1250 [==============================] - 7s 5ms/step - loss: 0.1583 - accuracy: 0.9441 - val_loss: 0.7275 - val_accuracy: 0.8111\n",
            "Epoch 18/50\n",
            "1250/1250 [==============================] - 7s 5ms/step - loss: 0.1443 - accuracy: 0.9500 - val_loss: 0.6972 - val_accuracy: 0.8153\n",
            "Epoch 19/50\n",
            "1250/1250 [==============================] - 7s 5ms/step - loss: 0.1365 - accuracy: 0.9511 - val_loss: 0.7394 - val_accuracy: 0.8111\n",
            "Epoch 20/50\n",
            "1250/1250 [==============================] - 7s 5ms/step - loss: 0.1374 - accuracy: 0.9534 - val_loss: 0.6957 - val_accuracy: 0.8190\n",
            "Epoch 21/50\n",
            "1250/1250 [==============================] - 7s 5ms/step - loss: 0.1225 - accuracy: 0.9568 - val_loss: 0.7337 - val_accuracy: 0.8140\n",
            "Epoch 22/50\n",
            "1250/1250 [==============================] - 7s 5ms/step - loss: 0.1194 - accuracy: 0.9574 - val_loss: 0.8362 - val_accuracy: 0.8031\n",
            "Epoch 23/50\n",
            "1250/1250 [==============================] - 7s 5ms/step - loss: 0.1137 - accuracy: 0.9589 - val_loss: 0.7518 - val_accuracy: 0.8149\n",
            "Epoch 24/50\n",
            "1250/1250 [==============================] - 7s 5ms/step - loss: 0.1067 - accuracy: 0.9619 - val_loss: 0.9283 - val_accuracy: 0.7983\n",
            "Epoch 25/50\n",
            "1250/1250 [==============================] - 7s 5ms/step - loss: 0.1081 - accuracy: 0.9628 - val_loss: 0.7965 - val_accuracy: 0.8152\n",
            "Epoch 26/50\n",
            "1250/1250 [==============================] - 7s 5ms/step - loss: 0.0964 - accuracy: 0.9653 - val_loss: 0.7777 - val_accuracy: 0.8233\n",
            "Epoch 27/50\n",
            "1250/1250 [==============================] - 7s 5ms/step - loss: 0.1023 - accuracy: 0.9645 - val_loss: 0.8807 - val_accuracy: 0.8036\n",
            "Epoch 28/50\n",
            "1250/1250 [==============================] - 7s 5ms/step - loss: 0.0981 - accuracy: 0.9652 - val_loss: 0.7537 - val_accuracy: 0.8237\n",
            "Epoch 29/50\n",
            "1250/1250 [==============================] - 7s 5ms/step - loss: 0.0900 - accuracy: 0.9681 - val_loss: 0.8161 - val_accuracy: 0.8192\n",
            "Epoch 30/50\n",
            "1250/1250 [==============================] - 7s 5ms/step - loss: 0.0914 - accuracy: 0.9672 - val_loss: 0.7814 - val_accuracy: 0.8211\n",
            "Epoch 31/50\n",
            "1250/1250 [==============================] - 7s 5ms/step - loss: 0.0885 - accuracy: 0.9690 - val_loss: 0.8084 - val_accuracy: 0.8211\n",
            "Epoch 32/50\n",
            "1250/1250 [==============================] - 7s 5ms/step - loss: 0.0883 - accuracy: 0.9689 - val_loss: 0.7555 - val_accuracy: 0.8276\n",
            "Epoch 33/50\n",
            "1250/1250 [==============================] - 7s 6ms/step - loss: 0.0819 - accuracy: 0.9717 - val_loss: 0.8036 - val_accuracy: 0.8186\n",
            "Epoch 34/50\n",
            "1250/1250 [==============================] - 7s 6ms/step - loss: 0.0811 - accuracy: 0.9728 - val_loss: 0.8297 - val_accuracy: 0.8177\n",
            "Epoch 35/50\n",
            "1250/1250 [==============================] - 7s 6ms/step - loss: 0.0849 - accuracy: 0.9703 - val_loss: 0.8902 - val_accuracy: 0.8130\n",
            "Epoch 36/50\n",
            "1250/1250 [==============================] - 7s 6ms/step - loss: 0.0753 - accuracy: 0.9746 - val_loss: 0.7889 - val_accuracy: 0.8248\n",
            "Epoch 37/50\n",
            "1250/1250 [==============================] - 7s 5ms/step - loss: 0.0732 - accuracy: 0.9746 - val_loss: 0.8129 - val_accuracy: 0.8255\n",
            "Epoch 38/50\n",
            "1250/1250 [==============================] - 7s 5ms/step - loss: 0.0714 - accuracy: 0.9743 - val_loss: 0.7912 - val_accuracy: 0.8283\n",
            "Epoch 39/50\n",
            "1250/1250 [==============================] - 7s 5ms/step - loss: 0.0730 - accuracy: 0.9748 - val_loss: 0.8105 - val_accuracy: 0.8280\n",
            "Epoch 40/50\n",
            "1250/1250 [==============================] - 7s 5ms/step - loss: 0.0730 - accuracy: 0.9743 - val_loss: 0.8525 - val_accuracy: 0.8168\n",
            "Epoch 41/50\n",
            "1250/1250 [==============================] - 7s 5ms/step - loss: 0.0730 - accuracy: 0.9752 - val_loss: 0.7673 - val_accuracy: 0.8328\n",
            "Epoch 42/50\n",
            "1250/1250 [==============================] - 7s 5ms/step - loss: 0.0629 - accuracy: 0.9778 - val_loss: 0.8650 - val_accuracy: 0.8225\n",
            "Epoch 43/50\n",
            "1250/1250 [==============================] - 7s 5ms/step - loss: 0.0679 - accuracy: 0.9753 - val_loss: 0.8233 - val_accuracy: 0.8244\n",
            "Epoch 44/50\n",
            "1250/1250 [==============================] - 7s 5ms/step - loss: 0.0663 - accuracy: 0.9765 - val_loss: 0.8402 - val_accuracy: 0.8260\n",
            "Epoch 45/50\n",
            "1250/1250 [==============================] - 7s 5ms/step - loss: 0.0638 - accuracy: 0.9780 - val_loss: 0.9189 - val_accuracy: 0.8134\n",
            "Epoch 46/50\n",
            "1250/1250 [==============================] - 7s 5ms/step - loss: 0.0629 - accuracy: 0.9784 - val_loss: 0.8423 - val_accuracy: 0.8271\n",
            "Epoch 47/50\n",
            "1250/1250 [==============================] - 7s 6ms/step - loss: 0.0569 - accuracy: 0.9802 - val_loss: 0.8132 - val_accuracy: 0.8288\n",
            "Epoch 48/50\n",
            "1250/1250 [==============================] - 7s 5ms/step - loss: 0.0588 - accuracy: 0.9795 - val_loss: 0.8304 - val_accuracy: 0.8285\n",
            "Epoch 49/50\n",
            "1250/1250 [==============================] - 7s 5ms/step - loss: 0.0586 - accuracy: 0.9798 - val_loss: 0.8305 - val_accuracy: 0.8260\n",
            "Epoch 50/50\n",
            "1250/1250 [==============================] - 7s 6ms/step - loss: 0.0624 - accuracy: 0.9778 - val_loss: 0.8457 - val_accuracy: 0.8262\n"
          ],
          "name": "stdout"
        }
      ]
    },
    {
      "cell_type": "code",
      "metadata": {
        "id": "PVOoywpcsY7e",
        "outputId": "781e386f-55f6-4cbf-9bf1-2741b517e188",
        "colab": {
          "base_uri": "https://localhost:8080/",
          "height": 300
        }
      },
      "source": [
        "import matplotlib.pyplot as plt\n",
        "\n",
        "plt.plot(history1.history['accuracy'], label='accuracy')\n",
        "plt.plot(history1.history['val_accuracy'], label = 'val_accuracy')\n",
        "plt.xlabel('Epoch')\n",
        "plt.ylabel('Accuracy')\n",
        "plt.legend(loc='upper right')"
      ],
      "execution_count": 37,
      "outputs": [
        {
          "output_type": "execute_result",
          "data": {
            "text/plain": [
              "<matplotlib.legend.Legend at 0x7f4210379be0>"
            ]
          },
          "metadata": {
            "tags": []
          },
          "execution_count": 37
        },
        {
          "output_type": "display_data",
          "data": {
            "image/png": "[encoded data removed]",
            "text/plain": [
              "<Figure size 432x288 with 1 Axes>"
            ]
          },
          "metadata": {
            "tags": [],
            "needs_background": "light"
          }
        }
      ]
    },
    {
      "cell_type": "code",
      "metadata": {
        "id": "hJh0lH5PsbXM",
        "outputId": "9267e595-5f64-4462-ff38-11702a63ef25",
        "colab": {
          "base_uri": "https://localhost:8080/"
        }
      },
      "source": [
        "model1.evaluate(X_test,y_test,batch_size=64)"
      ],
      "execution_count": 31,
      "outputs": [
        {
          "output_type": "stream",
          "text": [
            "157/157 [==============================] - 0s 3ms/step - loss: 0.8867 - accuracy: 0.8193\n"
          ],
          "name": "stdout"
        },
        {
          "output_type": "execute_result",
          "data": {
            "text/plain": [
              "[0.8867400288581848, 0.8192999958992004]"
            ]
          },
          "metadata": {
            "tags": []
          },
          "execution_count": 31
        }
      ]
    },
    {
      "cell_type": "markdown",
      "metadata": {
        "id": "fCWNVlPgsfEP"
      },
      "source": [
        "## LeNet5 Architecture"
      ]
    },
    {
      "cell_type": "code",
      "metadata": {
        "id": "ukyARPVqsdhh"
      },
      "source": [
        "classifier=Sequential()\n",
        "classifier.add(Conv2D(filters=6,kernel_size=(5,5),strides=(1,1),activation=\"sigmoid\",input_shape=(32,32,3)))\n",
        "classifier.add(MaxPooling2D(pool_size=(2,2)))\n",
        "classifier.add(Conv2D(filters=16,kernel_size=(5,5),strides=(1,1),activation=\"sigmoid\"))\n",
        "classifier.add(MaxPooling2D(pool_size=(2,2)))\n",
        "classifier.add(Flatten())\n",
        "classifier.add(Dense(units=120,activation='sigmoid'))\n",
        "classifier.add(Dense(units=84,activation='sigmoid'))\n",
        "classifier.add(Dense(units=10,activation='softmax'))\n",
        "\n",
        "classifier.compile(loss='mse',metrics=['accuracy'],optimizer='adam')"
      ],
      "execution_count": 32,
      "outputs": []
    },
    {
      "cell_type": "code",
      "metadata": {
        "id": "qcuujdp5sm3W",
        "outputId": "eb45d4fc-5cd8-4e9d-8b16-50756031d229",
        "colab": {
          "base_uri": "https://localhost:8080/"
        }
      },
      "source": [
        "classifier.summary()"
      ],
      "execution_count": 33,
      "outputs": [
        {
          "output_type": "stream",
          "text": [
            "Model: \"sequential_4\"\n",
            "_________________________________________________________________\n",
            "Layer (type)                 Output Shape              Param #   \n",
            "=================================================================\n",
            "conv2d_20 (Conv2D)           (None, 28, 28, 6)         456       \n",
            "_________________________________________________________________\n",
            "max_pooling2d_11 (MaxPooling (None, 14, 14, 6)         0         \n",
            "_________________________________________________________________\n",
            "conv2d_21 (Conv2D)           (None, 10, 10, 16)        2416      \n",
            "_________________________________________________________________\n",
            "max_pooling2d_12 (MaxPooling (None, 5, 5, 16)          0         \n",
            "_________________________________________________________________\n",
            "flatten_4 (Flatten)          (None, 400)               0         \n",
            "_________________________________________________________________\n",
            "dense_9 (Dense)              (None, 120)               48120     \n",
            "_________________________________________________________________\n",
            "dense_10 (Dense)             (None, 84)                10164     \n",
            "_________________________________________________________________\n",
            "dense_11 (Dense)             (None, 10)                850       \n",
            "=================================================================\n",
            "Total params: 62,006\n",
            "Trainable params: 62,006\n",
            "Non-trainable params: 0\n",
            "_________________________________________________________________\n"
          ],
          "name": "stdout"
        }
      ]
    },
    {
      "cell_type": "code",
      "metadata": {
        "id": "RVZo-7I7sou0",
        "outputId": "e36027a3-567a-479c-8725-44bd820b332e",
        "colab": {
          "base_uri": "https://localhost:8080/"
        }
      },
      "source": [
        "classifier.fit(X_train,y_train,epochs=100,batch_size=32,steps_per_epoch=30,validation_split=0.2)"
      ],
      "execution_count": 34,
      "outputs": [
        {
          "output_type": "stream",
          "text": [
            "Epoch 1/100\n",
            "30/30 [==============================] - 1s 27ms/step - loss: 0.0905 - accuracy: 0.0885 - val_loss: 0.0904 - val_accuracy: 0.0977\n",
            "Epoch 2/100\n",
            "30/30 [==============================] - 1s 22ms/step - loss: 0.0903 - accuracy: 0.1083 - val_loss: 0.0901 - val_accuracy: 0.1022\n",
            "Epoch 3/100\n",
            "30/30 [==============================] - 1s 21ms/step - loss: 0.0903 - accuracy: 0.0833 - val_loss: 0.0901 - val_accuracy: 0.1014\n",
            "Epoch 4/100\n",
            "30/30 [==============================] - 1s 21ms/step - loss: 0.0903 - accuracy: 0.0906 - val_loss: 0.0901 - val_accuracy: 0.0997\n",
            "Epoch 5/100\n",
            "30/30 [==============================] - 1s 21ms/step - loss: 0.0902 - accuracy: 0.1021 - val_loss: 0.0902 - val_accuracy: 0.1016\n",
            "Epoch 6/100\n",
            "30/30 [==============================] - 1s 21ms/step - loss: 0.0900 - accuracy: 0.1146 - val_loss: 0.0901 - val_accuracy: 0.0997\n",
            "Epoch 7/100\n",
            "30/30 [==============================] - 1s 22ms/step - loss: 0.0902 - accuracy: 0.1073 - val_loss: 0.0900 - val_accuracy: 0.1014\n",
            "Epoch 8/100\n",
            "30/30 [==============================] - 1s 21ms/step - loss: 0.0900 - accuracy: 0.1219 - val_loss: 0.0896 - val_accuracy: 0.1553\n",
            "Epoch 9/100\n",
            "30/30 [==============================] - 1s 21ms/step - loss: 0.0892 - accuracy: 0.1594 - val_loss: 0.0885 - val_accuracy: 0.1732\n",
            "Epoch 10/100\n",
            "30/30 [==============================] - 1s 21ms/step - loss: 0.0876 - accuracy: 0.1875 - val_loss: 0.0871 - val_accuracy: 0.1821\n",
            "Epoch 11/100\n",
            "30/30 [==============================] - 1s 21ms/step - loss: 0.0871 - accuracy: 0.2010 - val_loss: 0.0869 - val_accuracy: 0.1535\n",
            "Epoch 12/100\n",
            "30/30 [==============================] - 1s 21ms/step - loss: 0.0868 - accuracy: 0.1792 - val_loss: 0.0863 - val_accuracy: 0.1918\n",
            "Epoch 13/100\n",
            "30/30 [==============================] - 1s 21ms/step - loss: 0.0861 - accuracy: 0.2062 - val_loss: 0.0856 - val_accuracy: 0.2135\n",
            "Epoch 14/100\n",
            "30/30 [==============================] - 1s 21ms/step - loss: 0.0850 - accuracy: 0.2260 - val_loss: 0.0853 - val_accuracy: 0.2155\n",
            "Epoch 15/100\n",
            "30/30 [==============================] - 1s 22ms/step - loss: 0.0856 - accuracy: 0.2146 - val_loss: 0.0850 - val_accuracy: 0.2242\n",
            "Epoch 16/100\n",
            "30/30 [==============================] - 1s 22ms/step - loss: 0.0851 - accuracy: 0.2010 - val_loss: 0.0857 - val_accuracy: 0.2192\n",
            "Epoch 17/100\n",
            "30/30 [==============================] - 1s 21ms/step - loss: 0.0843 - accuracy: 0.2594 - val_loss: 0.0856 - val_accuracy: 0.2273\n",
            "Epoch 18/100\n",
            "30/30 [==============================] - 1s 22ms/step - loss: 0.0846 - accuracy: 0.2188 - val_loss: 0.0846 - val_accuracy: 0.2406\n",
            "Epoch 19/100\n",
            "30/30 [==============================] - 1s 22ms/step - loss: 0.0846 - accuracy: 0.2156 - val_loss: 0.0843 - val_accuracy: 0.2442\n",
            "Epoch 20/100\n",
            "30/30 [==============================] - 1s 22ms/step - loss: 0.0844 - accuracy: 0.2573 - val_loss: 0.0845 - val_accuracy: 0.2499\n",
            "Epoch 21/100\n",
            "30/30 [==============================] - 1s 22ms/step - loss: 0.0836 - accuracy: 0.2615 - val_loss: 0.0844 - val_accuracy: 0.2412\n",
            "Epoch 22/100\n",
            "30/30 [==============================] - 1s 21ms/step - loss: 0.0849 - accuracy: 0.2406 - val_loss: 0.0844 - val_accuracy: 0.2542\n",
            "Epoch 23/100\n",
            "30/30 [==============================] - 1s 21ms/step - loss: 0.0840 - accuracy: 0.2406 - val_loss: 0.0839 - val_accuracy: 0.2589\n",
            "Epoch 24/100\n",
            "30/30 [==============================] - 1s 22ms/step - loss: 0.0838 - accuracy: 0.2510 - val_loss: 0.0840 - val_accuracy: 0.2476\n",
            "Epoch 25/100\n",
            "30/30 [==============================] - 1s 22ms/step - loss: 0.0828 - accuracy: 0.2625 - val_loss: 0.0832 - val_accuracy: 0.2615\n",
            "Epoch 26/100\n",
            "30/30 [==============================] - 1s 21ms/step - loss: 0.0827 - accuracy: 0.2667 - val_loss: 0.0839 - val_accuracy: 0.2523\n",
            "Epoch 27/100\n",
            "30/30 [==============================] - 1s 22ms/step - loss: 0.0833 - accuracy: 0.2490 - val_loss: 0.0840 - val_accuracy: 0.2440\n",
            "Epoch 28/100\n",
            "30/30 [==============================] - 1s 22ms/step - loss: 0.0821 - accuracy: 0.3010 - val_loss: 0.0841 - val_accuracy: 0.2561\n",
            "Epoch 29/100\n",
            "30/30 [==============================] - 1s 22ms/step - loss: 0.0825 - accuracy: 0.2667 - val_loss: 0.0839 - val_accuracy: 0.2594\n",
            "Epoch 30/100\n",
            "30/30 [==============================] - 1s 21ms/step - loss: 0.0830 - accuracy: 0.2469 - val_loss: 0.0827 - val_accuracy: 0.2651\n",
            "Epoch 31/100\n",
            "30/30 [==============================] - 1s 21ms/step - loss: 0.0829 - accuracy: 0.2729 - val_loss: 0.0830 - val_accuracy: 0.2620\n",
            "Epoch 32/100\n",
            "30/30 [==============================] - 1s 21ms/step - loss: 0.0829 - accuracy: 0.2490 - val_loss: 0.0836 - val_accuracy: 0.2520\n",
            "Epoch 33/100\n",
            "30/30 [==============================] - 1s 22ms/step - loss: 0.0839 - accuracy: 0.2562 - val_loss: 0.0826 - val_accuracy: 0.2722\n",
            "Epoch 34/100\n",
            "30/30 [==============================] - 1s 22ms/step - loss: 0.0834 - accuracy: 0.2469 - val_loss: 0.0831 - val_accuracy: 0.2704\n",
            "Epoch 35/100\n",
            "30/30 [==============================] - 1s 22ms/step - loss: 0.0836 - accuracy: 0.2625 - val_loss: 0.0825 - val_accuracy: 0.2691\n",
            "Epoch 36/100\n",
            "30/30 [==============================] - 1s 22ms/step - loss: 0.0827 - accuracy: 0.2656 - val_loss: 0.0826 - val_accuracy: 0.2747\n",
            "Epoch 37/100\n",
            "30/30 [==============================] - 1s 22ms/step - loss: 0.0827 - accuracy: 0.2573 - val_loss: 0.0824 - val_accuracy: 0.2792\n",
            "Epoch 38/100\n",
            "30/30 [==============================] - 1s 22ms/step - loss: 0.0811 - accuracy: 0.2990 - val_loss: 0.0822 - val_accuracy: 0.2720\n",
            "Epoch 39/100\n",
            "30/30 [==============================] - 1s 22ms/step - loss: 0.0820 - accuracy: 0.2917 - val_loss: 0.0823 - val_accuracy: 0.2788\n",
            "Epoch 40/100\n",
            "30/30 [==============================] - 1s 21ms/step - loss: 0.0833 - accuracy: 0.2594 - val_loss: 0.0820 - val_accuracy: 0.2728\n",
            "Epoch 41/100\n",
            "30/30 [==============================] - 1s 22ms/step - loss: 0.0820 - accuracy: 0.2927 - val_loss: 0.0821 - val_accuracy: 0.2730\n",
            "Epoch 42/100\n",
            "30/30 [==============================] - 1s 22ms/step - loss: 0.0818 - accuracy: 0.2802 - val_loss: 0.0824 - val_accuracy: 0.2723\n",
            "Epoch 43/100\n",
            "30/30 [==============================] - 1s 22ms/step - loss: 0.0814 - accuracy: 0.2792 - val_loss: 0.0816 - val_accuracy: 0.2886\n",
            "Epoch 44/100\n",
            "30/30 [==============================] - 1s 22ms/step - loss: 0.0819 - accuracy: 0.2688 - val_loss: 0.0819 - val_accuracy: 0.2835\n",
            "Epoch 45/100\n",
            "30/30 [==============================] - 1s 22ms/step - loss: 0.0807 - accuracy: 0.3125 - val_loss: 0.0812 - val_accuracy: 0.2911\n",
            "Epoch 46/100\n",
            "30/30 [==============================] - 1s 22ms/step - loss: 0.0819 - accuracy: 0.2823 - val_loss: 0.0814 - val_accuracy: 0.2911\n",
            "Epoch 47/100\n",
            "30/30 [==============================] - 1s 22ms/step - loss: 0.0821 - accuracy: 0.2792 - val_loss: 0.0812 - val_accuracy: 0.3005\n",
            "Epoch 48/100\n",
            "30/30 [==============================] - 1s 22ms/step - loss: 0.0817 - accuracy: 0.2917 - val_loss: 0.0812 - val_accuracy: 0.3006\n",
            "Epoch 49/100\n",
            "30/30 [==============================] - 1s 22ms/step - loss: 0.0796 - accuracy: 0.3260 - val_loss: 0.0814 - val_accuracy: 0.2870\n",
            "Epoch 50/100\n",
            "30/30 [==============================] - 1s 22ms/step - loss: 0.0811 - accuracy: 0.3042 - val_loss: 0.0815 - val_accuracy: 0.2948\n",
            "Epoch 51/100\n",
            "30/30 [==============================] - 1s 23ms/step - loss: 0.0803 - accuracy: 0.3083 - val_loss: 0.0819 - val_accuracy: 0.2922\n",
            "Epoch 52/100\n",
            "30/30 [==============================] - 1s 23ms/step - loss: 0.0786 - accuracy: 0.3385 - val_loss: 0.0808 - val_accuracy: 0.3019\n",
            "Epoch 53/100\n",
            "30/30 [==============================] - 1s 21ms/step - loss: 0.0804 - accuracy: 0.3063 - val_loss: 0.0806 - val_accuracy: 0.3080\n",
            "Epoch 54/100\n",
            "30/30 [==============================] - 1s 21ms/step - loss: 0.0801 - accuracy: 0.3125 - val_loss: 0.0808 - val_accuracy: 0.3054\n",
            "Epoch 55/100\n",
            "30/30 [==============================] - 1s 22ms/step - loss: 0.0803 - accuracy: 0.3187 - val_loss: 0.0802 - val_accuracy: 0.3151\n",
            "Epoch 56/100\n",
            "30/30 [==============================] - 1s 22ms/step - loss: 0.0811 - accuracy: 0.2750 - val_loss: 0.0802 - val_accuracy: 0.3165\n",
            "Epoch 57/100\n",
            "30/30 [==============================] - 1s 21ms/step - loss: 0.0805 - accuracy: 0.3000 - val_loss: 0.0802 - val_accuracy: 0.3147\n",
            "Epoch 58/100\n",
            "30/30 [==============================] - 1s 21ms/step - loss: 0.0798 - accuracy: 0.3302 - val_loss: 0.0805 - val_accuracy: 0.3086\n",
            "Epoch 59/100\n",
            "30/30 [==============================] - 1s 22ms/step - loss: 0.0807 - accuracy: 0.3156 - val_loss: 0.0803 - val_accuracy: 0.3012\n",
            "Epoch 60/100\n",
            "30/30 [==============================] - 1s 22ms/step - loss: 0.0801 - accuracy: 0.3187 - val_loss: 0.0804 - val_accuracy: 0.3165\n",
            "Epoch 61/100\n",
            "30/30 [==============================] - 1s 21ms/step - loss: 0.0801 - accuracy: 0.2937 - val_loss: 0.0792 - val_accuracy: 0.3249\n",
            "Epoch 62/100\n",
            "30/30 [==============================] - 1s 21ms/step - loss: 0.0796 - accuracy: 0.3177 - val_loss: 0.0794 - val_accuracy: 0.3197\n",
            "Epoch 63/100\n",
            "30/30 [==============================] - 1s 21ms/step - loss: 0.0790 - accuracy: 0.3198 - val_loss: 0.0793 - val_accuracy: 0.3327\n",
            "Epoch 64/100\n",
            "30/30 [==============================] - 1s 21ms/step - loss: 0.0796 - accuracy: 0.3323 - val_loss: 0.0798 - val_accuracy: 0.3250\n",
            "Epoch 65/100\n",
            "30/30 [==============================] - 1s 22ms/step - loss: 0.0793 - accuracy: 0.3292 - val_loss: 0.0797 - val_accuracy: 0.3172\n",
            "Epoch 66/100\n",
            "30/30 [==============================] - 1s 22ms/step - loss: 0.0790 - accuracy: 0.3302 - val_loss: 0.0792 - val_accuracy: 0.3287\n",
            "Epoch 67/100\n",
            "30/30 [==============================] - 1s 22ms/step - loss: 0.0785 - accuracy: 0.3427 - val_loss: 0.0793 - val_accuracy: 0.3275\n",
            "Epoch 68/100\n",
            "30/30 [==============================] - 1s 22ms/step - loss: 0.0798 - accuracy: 0.3208 - val_loss: 0.0792 - val_accuracy: 0.3255\n",
            "Epoch 69/100\n",
            "30/30 [==============================] - 1s 22ms/step - loss: 0.0806 - accuracy: 0.2937 - val_loss: 0.0791 - val_accuracy: 0.3241\n",
            "Epoch 70/100\n",
            "30/30 [==============================] - 1s 22ms/step - loss: 0.0779 - accuracy: 0.3469 - val_loss: 0.0791 - val_accuracy: 0.3257\n",
            "Epoch 71/100\n",
            "30/30 [==============================] - 1s 22ms/step - loss: 0.0774 - accuracy: 0.3625 - val_loss: 0.0784 - val_accuracy: 0.3389\n",
            "Epoch 72/100\n",
            "30/30 [==============================] - 1s 22ms/step - loss: 0.0792 - accuracy: 0.3219 - val_loss: 0.0785 - val_accuracy: 0.3395\n",
            "Epoch 73/100\n",
            "30/30 [==============================] - 1s 21ms/step - loss: 0.0775 - accuracy: 0.3354 - val_loss: 0.0783 - val_accuracy: 0.3431\n",
            "Epoch 74/100\n",
            "30/30 [==============================] - 1s 21ms/step - loss: 0.0782 - accuracy: 0.3458 - val_loss: 0.0785 - val_accuracy: 0.3324\n",
            "Epoch 75/100\n",
            "30/30 [==============================] - 1s 22ms/step - loss: 0.0786 - accuracy: 0.3292 - val_loss: 0.0785 - val_accuracy: 0.3374\n",
            "Epoch 76/100\n",
            "30/30 [==============================] - 1s 22ms/step - loss: 0.0784 - accuracy: 0.3448 - val_loss: 0.0782 - val_accuracy: 0.3406\n",
            "Epoch 77/100\n",
            "30/30 [==============================] - 1s 22ms/step - loss: 0.0777 - accuracy: 0.3438 - val_loss: 0.0787 - val_accuracy: 0.3351\n",
            "Epoch 78/100\n",
            "30/30 [==============================] - 1s 22ms/step - loss: 0.0772 - accuracy: 0.3667 - val_loss: 0.0781 - val_accuracy: 0.3421\n",
            "Epoch 79/100\n",
            "30/30 [==============================] - 1s 22ms/step - loss: 0.0775 - accuracy: 0.3281 - val_loss: 0.0784 - val_accuracy: 0.3380\n",
            "Epoch 80/100\n",
            "30/30 [==============================] - 1s 21ms/step - loss: 0.0780 - accuracy: 0.3500 - val_loss: 0.0781 - val_accuracy: 0.3412\n",
            "Epoch 81/100\n",
            "30/30 [==============================] - 1s 22ms/step - loss: 0.0785 - accuracy: 0.3396 - val_loss: 0.0771 - val_accuracy: 0.3533\n",
            "Epoch 82/100\n",
            "30/30 [==============================] - 1s 22ms/step - loss: 0.0774 - accuracy: 0.3594 - val_loss: 0.0774 - val_accuracy: 0.3478\n",
            "Epoch 83/100\n",
            "30/30 [==============================] - 1s 22ms/step - loss: 0.0760 - accuracy: 0.3604 - val_loss: 0.0774 - val_accuracy: 0.3542\n",
            "Epoch 84/100\n",
            "30/30 [==============================] - 1s 21ms/step - loss: 0.0771 - accuracy: 0.3531 - val_loss: 0.0772 - val_accuracy: 0.3541\n",
            "Epoch 85/100\n",
            "30/30 [==============================] - 1s 22ms/step - loss: 0.0774 - accuracy: 0.3531 - val_loss: 0.0778 - val_accuracy: 0.3366\n",
            "Epoch 86/100\n",
            "30/30 [==============================] - 1s 22ms/step - loss: 0.0777 - accuracy: 0.3490 - val_loss: 0.0774 - val_accuracy: 0.3543\n",
            "Epoch 87/100\n",
            "30/30 [==============================] - 1s 22ms/step - loss: 0.0760 - accuracy: 0.3562 - val_loss: 0.0765 - val_accuracy: 0.3657\n",
            "Epoch 88/100\n",
            "30/30 [==============================] - 1s 21ms/step - loss: 0.0769 - accuracy: 0.3594 - val_loss: 0.0763 - val_accuracy: 0.3640\n",
            "Epoch 89/100\n",
            "30/30 [==============================] - 1s 22ms/step - loss: 0.0771 - accuracy: 0.3406 - val_loss: 0.0776 - val_accuracy: 0.3407\n",
            "Epoch 90/100\n",
            "30/30 [==============================] - 1s 22ms/step - loss: 0.0758 - accuracy: 0.3812 - val_loss: 0.0765 - val_accuracy: 0.3577\n",
            "Epoch 91/100\n",
            "30/30 [==============================] - 1s 21ms/step - loss: 0.0758 - accuracy: 0.3865 - val_loss: 0.0764 - val_accuracy: 0.3634\n",
            "Epoch 92/100\n",
            "30/30 [==============================] - 1s 21ms/step - loss: 0.0761 - accuracy: 0.3698 - val_loss: 0.0759 - val_accuracy: 0.3678\n",
            "Epoch 93/100\n",
            "30/30 [==============================] - 1s 22ms/step - loss: 0.0755 - accuracy: 0.3812 - val_loss: 0.0766 - val_accuracy: 0.3591\n",
            "Epoch 94/100\n",
            "30/30 [==============================] - 1s 22ms/step - loss: 0.0763 - accuracy: 0.3688 - val_loss: 0.0765 - val_accuracy: 0.3539\n",
            "Epoch 95/100\n",
            "30/30 [==============================] - 1s 21ms/step - loss: 0.0752 - accuracy: 0.3823 - val_loss: 0.0763 - val_accuracy: 0.3653\n",
            "Epoch 96/100\n",
            "30/30 [==============================] - 1s 22ms/step - loss: 0.0744 - accuracy: 0.4062 - val_loss: 0.0757 - val_accuracy: 0.3674\n",
            "Epoch 97/100\n",
            "30/30 [==============================] - 1s 22ms/step - loss: 0.0765 - accuracy: 0.3604 - val_loss: 0.0755 - val_accuracy: 0.3739\n",
            "Epoch 98/100\n",
            "30/30 [==============================] - 1s 22ms/step - loss: 0.0758 - accuracy: 0.3677 - val_loss: 0.0761 - val_accuracy: 0.3690\n",
            "Epoch 99/100\n",
            "30/30 [==============================] - 1s 21ms/step - loss: 0.0769 - accuracy: 0.3552 - val_loss: 0.0764 - val_accuracy: 0.3604\n",
            "Epoch 100/100\n",
            "30/30 [==============================] - 1s 21ms/step - loss: 0.0758 - accuracy: 0.3615 - val_loss: 0.0755 - val_accuracy: 0.3705\n"
          ],
          "name": "stdout"
        },
        {
          "output_type": "execute_result",
          "data": {
            "text/plain": [
              "<tensorflow.python.keras.callbacks.History at 0x7f421044b748>"
            ]
          },
          "metadata": {
            "tags": []
          },
          "execution_count": 34
        }
      ]
    },
    {
      "cell_type": "code",
      "metadata": {
        "id": "fMxWBDGDxNUF",
        "outputId": "9ee1a8b9-e480-4009-a26c-cf06f2e3bec0",
        "colab": {
          "base_uri": "https://localhost:8080/"
        }
      },
      "source": [
        "classifier.evaluate(X_test,y_test,batch_size=64)"
      ],
      "execution_count": 38,
      "outputs": [
        {
          "output_type": "stream",
          "text": [
            "157/157 [==============================] - 0s 2ms/step - loss: 0.0745 - accuracy: 0.3860\n"
          ],
          "name": "stdout"
        },
        {
          "output_type": "execute_result",
          "data": {
            "text/plain": [
              "[0.07451857626438141, 0.38600000739097595]"
            ]
          },
          "metadata": {
            "tags": []
          },
          "execution_count": 38
        }
      ]
    },
    {
      "cell_type": "markdown",
      "metadata": {
        "id": "Cjl7hZsqsuhq"
      },
      "source": [
        "## VGG-16 Architecture"
      ]
    },
    {
      "cell_type": "code",
      "metadata": {
        "id": "27VLGI1hsq_F"
      },
      "source": [
        "model_vgg16=Sequential()\n",
        "\n",
        "model_vgg16.add(Conv2D(filters=64,kernel_size=(3,3),strides=(2,2),padding=\"same\",activation=\"relu\",input_shape=(32,32,3)))\n",
        "model_vgg16.add(Conv2D(filters=64,kernel_size=(3,3),strides=(2,2),padding=\"same\",activation=\"relu\"))\n",
        "model_vgg16.add(MaxPooling2D(pool_size=(2,2)))\n",
        "\n",
        "model_vgg16.add(Conv2D(filters=128,kernel_size=(3,3),strides=(2,2),padding=\"same\",activation=\"relu\"))\n",
        "model_vgg16.add(Conv2D(filters=128,kernel_size=(3,3),strides=(2,2),padding=\"same\",activation=\"relu\"))\n",
        "model_vgg16.add(MaxPooling2D(pool_size=(2,2),padding=\"same\"))\n",
        "\n",
        "model_vgg16.add(Conv2D(filters=256,kernel_size=(3,3),strides=(2,2),padding=\"same\",activation=\"relu\"))\n",
        "model_vgg16.add(Conv2D(filters=256,kernel_size=(3,3),strides=(2,2),padding=\"same\",activation=\"relu\"))\n",
        "model_vgg16.add(Conv2D(filters=256,kernel_size=(3,3),strides=(2,2),padding=\"same\",activation=\"relu\"))\n",
        "model_vgg16.add(MaxPooling2D(pool_size=(2,2),padding=\"same\"))\n",
        "\n",
        "model_vgg16.add(Conv2D(filters=512,kernel_size=(3,3),strides=(1,1),padding=\"same\",activation=\"relu\"))\n",
        "model_vgg16.add(Conv2D(filters=512,kernel_size=(3,3),strides=(1,1),padding=\"same\",activation=\"relu\"))\n",
        "model_vgg16.add(Conv2D(filters=512,kernel_size=(3,3),strides=(1,1),padding=\"same\",activation=\"relu\"))\n",
        "model_vgg16.add(MaxPooling2D(pool_size=(2,2),padding=\"same\"))\n",
        "\n",
        "model_vgg16.add(Conv2D(filters=512,kernel_size=(3,3),strides=(1,1),padding=\"same\",activation=\"relu\"))\n",
        "model_vgg16.add(Conv2D(filters=512,kernel_size=(3,3),strides=(1,1),padding=\"same\",activation=\"relu\"))\n",
        "model_vgg16.add(Conv2D(filters=512,kernel_size=(3,3),strides=(1,1),padding=\"same\",activation=\"relu\"))\n",
        "model_vgg16.add(MaxPooling2D(pool_size=(2,2),padding=\"same\"))\n",
        "model_vgg16.add(Flatten())\n",
        "model_vgg16.add(Dense(units=128,activation='relu'))\n",
        "model_vgg16.add(Dense(units=10,activation='softmax'))\n",
        "\n",
        "opt = SGD(lr = 0.01, momentum = 0.9)\n",
        "model_vgg16.compile(loss='categorical_crossentropy',metrics=['accuracy'],optimizer=opt)"
      ],
      "execution_count": 35,
      "outputs": []
    },
    {
      "cell_type": "code",
      "metadata": {
        "id": "I97edgm0szzD",
        "outputId": "2f35f6b6-6980-419e-95e7-91958d4d8c1d",
        "colab": {
          "base_uri": "https://localhost:8080/"
        }
      },
      "source": [
        "steps = int(X_train.shape[0] / 64)\n",
        "model_vgg16.fit(X_train,y_train,epochs=30,batch_size=32,steps_per_epoch=steps,validation_data=(X_test,y_test),verbose = 1)#,steps_per_epoch=1000"
      ],
      "execution_count": 39,
      "outputs": [
        {
          "output_type": "stream",
          "text": [
            "Epoch 1/30\n",
            "781/781 [==============================] - 18s 23ms/step - loss: 2.3034 - accuracy: 0.1002 - val_loss: 2.3029 - val_accuracy: 0.1000\n",
            "Epoch 2/30\n",
            "781/781 [==============================] - 17s 22ms/step - loss: 2.3033 - accuracy: 0.0989 - val_loss: 2.3034 - val_accuracy: 0.1000\n",
            "Epoch 3/30\n",
            "781/781 [==============================] - 17s 22ms/step - loss: 2.3034 - accuracy: 0.0961 - val_loss: 2.3032 - val_accuracy: 0.1000\n",
            "Epoch 4/30\n",
            "781/781 [==============================] - 17s 22ms/step - loss: 2.3033 - accuracy: 0.1002 - val_loss: 2.3030 - val_accuracy: 0.1000\n",
            "Epoch 5/30\n",
            "781/781 [==============================] - 17s 22ms/step - loss: 2.3035 - accuracy: 0.0972 - val_loss: 2.3030 - val_accuracy: 0.1000\n",
            "Epoch 6/30\n",
            "781/781 [==============================] - 17s 22ms/step - loss: 2.3035 - accuracy: 0.0968 - val_loss: 2.3034 - val_accuracy: 0.1000\n",
            "Epoch 7/30\n",
            "781/781 [==============================] - 17s 22ms/step - loss: 2.3033 - accuracy: 0.0994 - val_loss: 2.3033 - val_accuracy: 0.1000\n",
            "Epoch 8/30\n",
            "781/781 [==============================] - 17s 22ms/step - loss: 2.3034 - accuracy: 0.0992 - val_loss: 2.3032 - val_accuracy: 0.1000\n",
            "Epoch 9/30\n",
            "781/781 [==============================] - 17s 22ms/step - loss: 2.3035 - accuracy: 0.0969 - val_loss: 2.3033 - val_accuracy: 0.1000\n",
            "Epoch 10/30\n",
            "781/781 [==============================] - 17s 22ms/step - loss: 2.3033 - accuracy: 0.1012 - val_loss: 2.3032 - val_accuracy: 0.1000\n",
            "Epoch 11/30\n",
            "781/781 [==============================] - 17s 22ms/step - loss: 2.3034 - accuracy: 0.0973 - val_loss: 2.3032 - val_accuracy: 0.1000\n",
            "Epoch 12/30\n",
            "781/781 [==============================] - 17s 22ms/step - loss: 2.3034 - accuracy: 0.0981 - val_loss: 2.3030 - val_accuracy: 0.1000\n",
            "Epoch 13/30\n",
            "781/781 [==============================] - 17s 22ms/step - loss: 2.3033 - accuracy: 0.0986 - val_loss: 2.3034 - val_accuracy: 0.1000\n",
            "Epoch 14/30\n",
            "781/781 [==============================] - 17s 22ms/step - loss: 2.3032 - accuracy: 0.0975 - val_loss: 2.3037 - val_accuracy: 0.1000\n",
            "Epoch 15/30\n",
            "781/781 [==============================] - 17s 22ms/step - loss: 2.3035 - accuracy: 0.1001 - val_loss: 2.3028 - val_accuracy: 0.1000\n",
            "Epoch 16/30\n",
            "781/781 [==============================] - 17s 22ms/step - loss: 2.3033 - accuracy: 0.0984 - val_loss: 2.3029 - val_accuracy: 0.1000\n",
            "Epoch 17/30\n",
            "781/781 [==============================] - 17s 22ms/step - loss: 2.3031 - accuracy: 0.1030 - val_loss: 2.3032 - val_accuracy: 0.1000\n",
            "Epoch 18/30\n",
            "781/781 [==============================] - 17s 22ms/step - loss: 2.3033 - accuracy: 0.0984 - val_loss: 2.3037 - val_accuracy: 0.1000\n",
            "Epoch 19/30\n",
            "781/781 [==============================] - 17s 22ms/step - loss: 2.3035 - accuracy: 0.0979 - val_loss: 2.3032 - val_accuracy: 0.1000\n",
            "Epoch 20/30\n",
            "781/781 [==============================] - 17s 22ms/step - loss: 2.3033 - accuracy: 0.0978 - val_loss: 2.3030 - val_accuracy: 0.1000\n",
            "Epoch 21/30\n",
            "781/781 [==============================] - 17s 22ms/step - loss: 2.3034 - accuracy: 0.0968 - val_loss: 2.3034 - val_accuracy: 0.1000\n",
            "Epoch 22/30\n",
            "781/781 [==============================] - 17s 22ms/step - loss: 2.3035 - accuracy: 0.0992 - val_loss: 2.3028 - val_accuracy: 0.1000\n",
            "Epoch 23/30\n",
            "781/781 [==============================] - 17s 22ms/step - loss: 2.3034 - accuracy: 0.0982 - val_loss: 2.3032 - val_accuracy: 0.1000\n",
            "Epoch 24/30\n",
            "781/781 [==============================] - 17s 22ms/step - loss: 2.3033 - accuracy: 0.0990 - val_loss: 2.3031 - val_accuracy: 0.1000\n",
            "Epoch 25/30\n",
            "781/781 [==============================] - 17s 22ms/step - loss: 2.3031 - accuracy: 0.1021 - val_loss: 2.3033 - val_accuracy: 0.1000\n",
            "Epoch 26/30\n",
            "781/781 [==============================] - 17s 22ms/step - loss: 2.3035 - accuracy: 0.0972 - val_loss: 2.3031 - val_accuracy: 0.1000\n",
            "Epoch 27/30\n",
            "781/781 [==============================] - 17s 22ms/step - loss: 2.3034 - accuracy: 0.0986 - val_loss: 2.3030 - val_accuracy: 0.1000\n",
            "Epoch 28/30\n",
            "781/781 [==============================] - 17s 22ms/step - loss: 2.3033 - accuracy: 0.0963 - val_loss: 2.3032 - val_accuracy: 0.1000\n",
            "Epoch 29/30\n",
            "781/781 [==============================] - 17s 22ms/step - loss: 2.3033 - accuracy: 0.0996 - val_loss: 2.3032 - val_accuracy: 0.1000\n",
            "Epoch 30/30\n",
            "781/781 [==============================] - 17s 22ms/step - loss: 2.3031 - accuracy: 0.1030 - val_loss: 2.3031 - val_accuracy: 0.1000\n"
          ],
          "name": "stdout"
        },
        {
          "output_type": "execute_result",
          "data": {
            "text/plain": [
              "<tensorflow.python.keras.callbacks.History at 0x7f4210278f28>"
            ]
          },
          "metadata": {
            "tags": []
          },
          "execution_count": 39
        }
      ]
    },
    {
      "cell_type": "code",
      "metadata": {
        "id": "OezChM08s28Y",
        "outputId": "8560cce4-a0d7-472d-9fab-b87fbd78aa5b",
        "colab": {
          "base_uri": "https://localhost:8080/"
        }
      },
      "source": [
        "model_vgg16.evaluate(X_test,y_test,batch_size=64)"
      ],
      "execution_count": 44,
      "outputs": [
        {
          "output_type": "stream",
          "text": [
            "157/157 [==============================] - 1s 5ms/step - loss: 2.3031 - accuracy: 0.1000\n"
          ],
          "name": "stdout"
        },
        {
          "output_type": "execute_result",
          "data": {
            "text/plain": [
              "[2.3030779361724854, 0.10000000149011612]"
            ]
          },
          "metadata": {
            "tags": []
          },
          "execution_count": 44
        }
      ]
    },
    {
      "cell_type": "markdown",
      "metadata": {
        "id": "zVvCAfo3uJr0"
      },
      "source": [
        "## AlexNet Architecture"
      ]
    },
    {
      "cell_type": "code",
      "metadata": {
        "id": "m1WFDFMpuMEl"
      },
      "source": [
        "model_alexnet=Sequential()\n",
        "\n",
        "model_alexnet.add(Conv2D(filters=96,kernel_size=(11,11),strides=(4,4),padding=\"same\",activation=\"relu\",input_shape=(32,32,3)))\n",
        "model_alexnet.add(MaxPooling2D(pool_size=(2,2), strides=(2,2), padding=\"valid\"))\n",
        "\n",
        "model_alexnet.add(Conv2D(filters=256,kernel_size=(11,11),strides=(1,1),padding=\"same\",activation=\"relu\"))\n",
        "model_alexnet.add(MaxPooling2D(pool_size=(2,2), strides=(2,2), padding=\"valid\"))\n",
        "\n",
        "model_alexnet.add(Conv2D(filters=384,kernel_size=(3,3),strides=(1,1),padding=\"same\",activation=\"relu\"))\n",
        "model_alexnet.add(Conv2D(filters=384,kernel_size=(3,3),strides=(1,1),padding=\"same\",activation=\"relu\"))\n",
        "model_alexnet.add(Conv2D(filters=256,kernel_size=(3,3),strides=(1,1),padding=\"same\",activation=\"relu\"))\n",
        "model_alexnet.add(MaxPooling2D(pool_size=(2,2), strides=(2,2), padding=\"valid\"))\n",
        "\n",
        "model_alexnet.add(Flatten())\n",
        "model_alexnet.add(Dense(units=4096,input_shape=(32*32*3,),activation='relu'))\n",
        "model_alexnet.add(Dropout(0.4))\n",
        "model_alexnet.add(Dense(units=4096,activation='relu'))\n",
        "model_alexnet.add(Dropout(0.4))\n",
        "model_alexnet.add(Dense(units=1000,activation='relu'))\n",
        "model_alexnet.add(Dropout(0.4))\n",
        "model_alexnet.add(Dense(units=10,activation='softmax'))\n",
        "\n",
        "model_alexnet.compile(loss='categorical_crossentropy',metrics=['accuracy'],optimizer='adam')"
      ],
      "execution_count": 40,
      "outputs": []
    },
    {
      "cell_type": "code",
      "metadata": {
        "id": "6eoxca5DuPiK",
        "outputId": "7e913183-7ca6-42e7-d681-35edf5fcdb3b",
        "colab": {
          "base_uri": "https://localhost:8080/"
        }
      },
      "source": [
        "steps = int(X_train.shape[0] / 64)\n",
        "model_alexnet.fit(X_train,y_train,epochs=30,batch_size=32,steps_per_epoch=100,validation_data=(X_test,y_test),verbose = 1)"
      ],
      "execution_count": 43,
      "outputs": [
        {
          "output_type": "stream",
          "text": [
            "Epoch 1/30\n",
            "100/100 [==============================] - 3s 30ms/step - loss: 2.3060 - accuracy: 0.0934 - val_loss: 2.3028 - val_accuracy: 0.1000\n",
            "Epoch 2/30\n",
            "100/100 [==============================] - 3s 28ms/step - loss: 2.3034 - accuracy: 0.1028 - val_loss: 2.3029 - val_accuracy: 0.1000\n",
            "Epoch 3/30\n",
            "100/100 [==============================] - 3s 28ms/step - loss: 2.3030 - accuracy: 0.1013 - val_loss: 2.3028 - val_accuracy: 0.1000\n",
            "Epoch 4/30\n",
            "100/100 [==============================] - 3s 28ms/step - loss: 2.3034 - accuracy: 0.0941 - val_loss: 2.3027 - val_accuracy: 0.1000\n",
            "Epoch 5/30\n",
            "100/100 [==============================] - 3s 29ms/step - loss: 2.3031 - accuracy: 0.0950 - val_loss: 2.3027 - val_accuracy: 0.1000\n",
            "Epoch 6/30\n",
            "100/100 [==============================] - 3s 29ms/step - loss: 2.3023 - accuracy: 0.1041 - val_loss: 2.3030 - val_accuracy: 0.1000\n",
            "Epoch 7/30\n",
            "100/100 [==============================] - 3s 29ms/step - loss: 2.3034 - accuracy: 0.0984 - val_loss: 2.3027 - val_accuracy: 0.1000\n",
            "Epoch 8/30\n",
            "100/100 [==============================] - 3s 29ms/step - loss: 2.3031 - accuracy: 0.0913 - val_loss: 2.3027 - val_accuracy: 0.1000\n",
            "Epoch 9/30\n",
            "100/100 [==============================] - 3s 28ms/step - loss: 2.3028 - accuracy: 0.0953 - val_loss: 2.3027 - val_accuracy: 0.1000\n",
            "Epoch 10/30\n",
            "100/100 [==============================] - 3s 28ms/step - loss: 2.3030 - accuracy: 0.0925 - val_loss: 2.3027 - val_accuracy: 0.1000\n",
            "Epoch 11/30\n",
            "100/100 [==============================] - 3s 28ms/step - loss: 2.3031 - accuracy: 0.1059 - val_loss: 2.3027 - val_accuracy: 0.1000\n",
            "Epoch 12/30\n",
            "100/100 [==============================] - 3s 28ms/step - loss: 2.3028 - accuracy: 0.0953 - val_loss: 2.3027 - val_accuracy: 0.1000\n",
            "Epoch 13/30\n",
            "100/100 [==============================] - 3s 28ms/step - loss: 2.3031 - accuracy: 0.0909 - val_loss: 2.3026 - val_accuracy: 0.1000\n",
            "Epoch 14/30\n",
            "100/100 [==============================] - 3s 28ms/step - loss: 2.3029 - accuracy: 0.0966 - val_loss: 2.3026 - val_accuracy: 0.1000\n",
            "Epoch 15/30\n",
            "100/100 [==============================] - 3s 28ms/step - loss: 2.3027 - accuracy: 0.1056 - val_loss: 2.3027 - val_accuracy: 0.1000\n",
            "Epoch 16/30\n",
            "100/100 [==============================] - 3s 28ms/step - loss: 2.3028 - accuracy: 0.0958 - val_loss: 2.3027 - val_accuracy: 0.1000\n",
            "Epoch 17/30\n",
            "100/100 [==============================] - 3s 28ms/step - loss: 2.3028 - accuracy: 0.1050 - val_loss: 2.3026 - val_accuracy: 0.1000\n",
            "Epoch 18/30\n",
            "100/100 [==============================] - 3s 28ms/step - loss: 2.3026 - accuracy: 0.1050 - val_loss: 2.3027 - val_accuracy: 0.1000\n",
            "Epoch 19/30\n",
            "100/100 [==============================] - 3s 28ms/step - loss: 2.3029 - accuracy: 0.1000 - val_loss: 2.3027 - val_accuracy: 0.1000\n",
            "Epoch 20/30\n",
            "100/100 [==============================] - 3s 27ms/step - loss: 2.3024 - accuracy: 0.1150 - val_loss: 2.3028 - val_accuracy: 0.1000\n",
            "Epoch 21/30\n",
            "100/100 [==============================] - 3s 27ms/step - loss: 2.3028 - accuracy: 0.1009 - val_loss: 2.3027 - val_accuracy: 0.1000\n",
            "Epoch 22/30\n",
            "100/100 [==============================] - 3s 28ms/step - loss: 2.3027 - accuracy: 0.1053 - val_loss: 2.3028 - val_accuracy: 0.1000\n",
            "Epoch 23/30\n",
            "100/100 [==============================] - 3s 28ms/step - loss: 2.3030 - accuracy: 0.1031 - val_loss: 2.3027 - val_accuracy: 0.1000\n",
            "Epoch 24/30\n",
            "100/100 [==============================] - 3s 28ms/step - loss: 2.3029 - accuracy: 0.0847 - val_loss: 2.3027 - val_accuracy: 0.1000\n",
            "Epoch 25/30\n",
            "100/100 [==============================] - 3s 28ms/step - loss: 2.3030 - accuracy: 0.0972 - val_loss: 2.3027 - val_accuracy: 0.1000\n",
            "Epoch 26/30\n",
            "100/100 [==============================] - 3s 28ms/step - loss: 2.3029 - accuracy: 0.0928 - val_loss: 2.3026 - val_accuracy: 0.1000\n",
            "Epoch 27/30\n",
            "100/100 [==============================] - 3s 27ms/step - loss: 2.3028 - accuracy: 0.1025 - val_loss: 2.3026 - val_accuracy: 0.1000\n",
            "Epoch 28/30\n",
            "100/100 [==============================] - 3s 28ms/step - loss: 2.3027 - accuracy: 0.0975 - val_loss: 2.3026 - val_accuracy: 0.1000\n",
            "Epoch 29/30\n",
            "100/100 [==============================] - 3s 27ms/step - loss: 2.3027 - accuracy: 0.1056 - val_loss: 2.3027 - val_accuracy: 0.1000\n",
            "Epoch 30/30\n",
            "100/100 [==============================] - 3s 28ms/step - loss: 2.3028 - accuracy: 0.0962 - val_loss: 2.3027 - val_accuracy: 0.1000\n"
          ],
          "name": "stdout"
        },
        {
          "output_type": "execute_result",
          "data": {
            "text/plain": [
              "<tensorflow.python.keras.callbacks.History at 0x7f42205dcf60>"
            ]
          },
          "metadata": {
            "tags": []
          },
          "execution_count": 43
        }
      ]
    },
    {
      "cell_type": "code",
      "metadata": {
        "id": "ehPH4BgLvkyR",
        "outputId": "18a92f08-d460-42e1-ccf8-a01ffa080f1e",
        "colab": {
          "base_uri": "https://localhost:8080/"
        }
      },
      "source": [
        "model_alexnet.evaluate(X_test,y_test,batch_size=64)"
      ],
      "execution_count": 45,
      "outputs": [
        {
          "output_type": "stream",
          "text": [
            "157/157 [==============================] - 1s 5ms/step - loss: 2.3027 - accuracy: 0.1000\n"
          ],
          "name": "stdout"
        },
        {
          "output_type": "execute_result",
          "data": {
            "text/plain": [
              "[2.3026719093322754, 0.10000000149011612]"
            ]
          },
          "metadata": {
            "tags": []
          },
          "execution_count": 45
        }
      ]
    },
    {
      "cell_type": "code",
      "metadata": {
        "id": "HWtg-Nx8xmMV"
      },
      "source": [
        ""
      ],
      "execution_count": null,
      "outputs": []
    }
  ]
}