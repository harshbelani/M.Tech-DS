{
  "nbformat": 4,
  "nbformat_minor": 0,
  "metadata": {
    "colab": {
      "name": "A* Search",
      "provenance": [],
      "collapsed_sections": [],
      "authorship_tag": "ABX9TyPdgiHHTqbQxHaZIHlW6sGp",
      "include_colab_link": true
    },
    "kernelspec": {
      "name": "python3",
      "display_name": "Python 3"
    }
  },
  "cells": [
    {
      "cell_type": "markdown",
      "metadata": {
        "id": "view-in-github",
        "colab_type": "text"
      },
      "source": [
        "<a href=\"https://colab.research.google.com/github/harshbelani/M.Tech-DS/blob/master/AI/Searches/A_star_Search.ipynb\" target=\"_parent\"><img src=\"https://colab.research.google.com/assets/colab-badge.svg\" alt=\"Open In Colab\"/></a>"
      ]
    },
    {
      "cell_type": "code",
      "metadata": {
        "id": "jxp0FmGHHi2C"
      },
      "source": [
        "class Node():\n",
        "    def __init__(self, state, parent, action, g_n, h_n):\n",
        "        self.state = state\n",
        "        self.parent = parent\n",
        "        self.action = action\n",
        "        self.g_n = g_n\n",
        "        self.h_n = h_n"
      ],
      "execution_count": 86,
      "outputs": []
    },
    {
      "cell_type": "code",
      "metadata": {
        "id": "mvYp18SUIpMJ"
      },
      "source": [
        "class StackFrontier():\n",
        "    def __init__(self):\n",
        "        self.frontier = []\n",
        "        \n",
        "    def add_node(self, node):\n",
        "        self.frontier.append(node)\n",
        "        \n",
        "    def empty(self):\n",
        "        return len(self.frontier)==0        \n",
        "        \n",
        "    def remove_node(self):\n",
        "        \n",
        "        if self.empty():\n",
        "            return(\"No Solution\")\n",
        "            \n",
        "        else:\n",
        "          self.frontier = sorted(self.frontier, key = lambda x: x.g_n+x.h_n , reverse = True)\n",
        "          for i in self.frontier:\n",
        "            print(i.state, i.g_n, i.h_n, i.action, \";\", end=\" \")\n",
        "\n",
        "          print()\n",
        "          node = self.frontier[-1]\n",
        "          self.frontier = self.frontier[:-1]\n",
        "          return node\n",
        "    \n",
        "    def contains_state(self, state):\n",
        "        return any(node.state == state for node in self.frontier)"
      ],
      "execution_count": 87,
      "outputs": []
    },
    {
      "cell_type": "code",
      "metadata": {
        "id": "-ZgBequcIrLu"
      },
      "source": [
        "class QueueFrontier(StackFrontier):\n",
        "    \n",
        "    def remove_node(self):\n",
        "        \n",
        "        if self.empty():\n",
        "            return(\"No Solution\")\n",
        "            \n",
        "        else:\n",
        "            node = self.frontier[0]\n",
        "            self.frontier = self.frontier[1:]\n",
        "            return node"
      ],
      "execution_count": 88,
      "outputs": []
    },
    {
      "cell_type": "code",
      "metadata": {
        "id": "RL0Bw2K-ItyB",
        "outputId": "084840f7-ebb7-455d-dc1d-5f90d22b713a",
        "colab": {
          "base_uri": "https://localhost:8080/",
          "height": 141
        }
      },
      "source": [
        "file = open(\"maze5.txt\", \"r\")\n",
        "maze = file.read()\n",
        "maze = maze.split(\"\\n\")\n",
        "maze"
      ],
      "execution_count": 89,
      "outputs": [
        {
          "output_type": "execute_result",
          "data": {
            "text/plain": [
              "['##          B',\n",
              " '## ######### ',\n",
              " '## ######### ',\n",
              " '## #   ##### ',\n",
              " '##   # ##### ',\n",
              " '#### # ##### ',\n",
              " 'A    #       ']"
            ]
          },
          "metadata": {
            "tags": []
          },
          "execution_count": 89
        }
      ]
    },
    {
      "cell_type": "code",
      "metadata": {
        "id": "Jh9BwbI7Iz4K"
      },
      "source": [
        "length = len(maze)\n",
        "width = max(len(i) for i in maze)"
      ],
      "execution_count": 90,
      "outputs": []
    },
    {
      "cell_type": "code",
      "metadata": {
        "id": "wYjgTEi4KTFq",
        "outputId": "aeb39c6e-8fb7-4d0a-b074-0484a5ea262f",
        "colab": {
          "base_uri": "https://localhost:8080/",
          "height": 195
        }
      },
      "source": [
        "array_maze = []\n",
        "print(\"\\nGiven Maze: \\n\")        \n",
        "for row in maze:\n",
        "    row = list(row)\n",
        "    for i in row:\n",
        "        print(i, end=\"\")\n",
        "    array_maze.append(row)\n",
        "    print()\n"
      ],
      "execution_count": 91,
      "outputs": [
        {
          "output_type": "stream",
          "text": [
            "\n",
            "Given Maze: \n",
            "\n",
            "##          B\n",
            "## ######### \n",
            "## ######### \n",
            "## #   ##### \n",
            "##   # ##### \n",
            "#### # ##### \n",
            "A    #       \n"
          ],
          "name": "stdout"
        }
      ]
    },
    {
      "cell_type": "code",
      "metadata": {
        "id": "8duHeE1EKUiy",
        "outputId": "08603e3c-0ea6-43a6-ea80-ba619d8ad77a",
        "colab": {
          "base_uri": "https://localhost:8080/",
          "height": 141
        }
      },
      "source": [
        "walls = []\n",
        "\n",
        "for i, row in enumerate(array_maze):\n",
        "    row_walls = []\n",
        "    for j, col in enumerate(row):\n",
        "        \n",
        "        if col == \"A\":\n",
        "            starting_point = (i,j)\n",
        "            row_walls.append(False)\n",
        "        elif col == \"B\":\n",
        "            ending_point = (i,j)\n",
        "            row_walls.append(False)\n",
        "        elif col == \"#\":\n",
        "            row_walls.append(True)\n",
        "        else:\n",
        "            row_walls.append(False)\n",
        "    print(row_walls)        \n",
        "    walls.append(row_walls)"
      ],
      "execution_count": 92,
      "outputs": [
        {
          "output_type": "stream",
          "text": [
            "[True, True, False, False, False, False, False, False, False, False, False, False, False]\n",
            "[True, True, False, True, True, True, True, True, True, True, True, True, False]\n",
            "[True, True, False, True, True, True, True, True, True, True, True, True, False]\n",
            "[True, True, False, True, False, False, False, True, True, True, True, True, False]\n",
            "[True, True, False, False, False, True, False, True, True, True, True, True, False]\n",
            "[True, True, True, True, False, True, False, True, True, True, True, True, False]\n",
            "[False, False, False, False, False, True, False, False, False, False, False, False, False]\n"
          ],
          "name": "stdout"
        }
      ]
    },
    {
      "cell_type": "code",
      "metadata": {
        "id": "CAugqfVfL8hq"
      },
      "source": [
        "def find_neighbours(node):\n",
        "    (x,y) = node.state\n",
        "    all = [[(x-1,y), \"up\"], [(x+1,y), \"down\"], [(x, y-1), \"left\"], [(x, y+1), \"right\"]]\n",
        "    \n",
        "    neighbours = []\n",
        "    for (x,y),move in all:\n",
        "      if 0<=x<length and 0<=y<width and not walls[x][y]:\n",
        "        if (x,y) not in explored:\n",
        "          g_n = node.g_n+1\n",
        "          heuristic =  (abs(ending_point[0]-x)+abs(ending_point[1]-y))\n",
        "          neighbours.append([(x,y), move, g_n, heuristic])\n",
        "        \n",
        "    return neighbours"
      ],
      "execution_count": 93,
      "outputs": []
    },
    {
      "cell_type": "code",
      "metadata": {
        "id": "kd0RXro_L_Rc",
        "outputId": "352a504a-2505-4ac4-c973-c85a3524470f",
        "colab": {
          "base_uri": "https://localhost:8080/",
          "height": 532
        }
      },
      "source": [
        "explored = [starting_point]\n",
        "starting_heuristic = abs(ending_point[0]-starting_point[0]) + abs(ending_point[1]-starting_point[1])\n",
        "current_position = Node(starting_point, None, None, 0 , starting_heuristic)\n",
        "frontier = StackFrontier()\n",
        "\n",
        "while True:\n",
        "    \n",
        "    neighbours = find_neighbours(current_position)\n",
        "    #neighbours = sorted(neighbours, key= lambda x: x[2]+x[3], reverse=True)\n",
        "    #print(neighbours)\n",
        "    \n",
        "    for position,action,g_n,h_n in neighbours:\n",
        "\n",
        "        frontier.add_node(Node(position, current_position, action, g_n, h_n))\n",
        "        \n",
        "    \n",
        "    current_position = frontier.remove_node()\n",
        "    if current_position == \"No Solution\":\n",
        "        print(\"No Solution\")\n",
        "        break\n",
        "    explored.append(current_position.state)\n",
        "    \n",
        "    if current_position.state == ending_point:\n",
        "        print(\"\\nSolution Found:\\n\")\n",
        "        solutions = []\n",
        "        node = current_position\n",
        "        \n",
        "        while node.parent != None:\n",
        "            solutions.append(node.state)\n",
        "            node = node.parent\n",
        "        \n",
        "        break"
      ],
      "execution_count": 94,
      "outputs": [
        {
          "output_type": "stream",
          "text": [
            "(6, 1) 1 17 right ; \n",
            "(6, 2) 2 16 right ; \n",
            "(6, 3) 3 15 right ; \n",
            "(6, 4) 4 14 right ; \n",
            "(5, 4) 5 13 up ; \n",
            "(4, 4) 6 12 up ; \n",
            "(4, 3) 7 13 left ; (3, 4) 7 11 up ; \n",
            "(4, 3) 7 13 left ; (3, 5) 8 10 right ; \n",
            "(4, 3) 7 13 left ; (3, 6) 9 9 right ; \n",
            "(4, 3) 7 13 left ; (4, 6) 10 10 down ; \n",
            "(5, 6) 11 11 down ; (4, 3) 7 13 left ; \n",
            "(5, 6) 11 11 down ; (4, 2) 8 14 left ; \n",
            "(5, 6) 11 11 down ; (3, 2) 9 13 up ; \n",
            "(5, 6) 11 11 down ; (2, 2) 10 12 up ; \n",
            "(5, 6) 11 11 down ; (1, 2) 11 11 up ; \n",
            "(5, 6) 11 11 down ; (0, 2) 12 10 up ; \n",
            "(5, 6) 11 11 down ; (0, 3) 13 9 right ; \n",
            "(5, 6) 11 11 down ; (0, 4) 14 8 right ; \n",
            "(5, 6) 11 11 down ; (0, 5) 15 7 right ; \n",
            "(5, 6) 11 11 down ; (0, 6) 16 6 right ; \n",
            "(5, 6) 11 11 down ; (0, 7) 17 5 right ; \n",
            "(5, 6) 11 11 down ; (0, 8) 18 4 right ; \n",
            "(5, 6) 11 11 down ; (0, 9) 19 3 right ; \n",
            "(5, 6) 11 11 down ; (0, 10) 20 2 right ; \n",
            "(5, 6) 11 11 down ; (0, 11) 21 1 right ; \n",
            "(5, 6) 11 11 down ; (0, 12) 22 0 right ; \n",
            "\n",
            "Solution Found:\n",
            "\n"
          ],
          "name": "stdout"
        }
      ]
    },
    {
      "cell_type": "markdown",
      "metadata": {
        "id": "ac30dpF-CwfB"
      },
      "source": [
        "#Drawing Output"
      ]
    },
    {
      "cell_type": "code",
      "metadata": {
        "id": "w6JKY49tCkkC",
        "outputId": "c5a51321-a613-4975-b7cd-ef37d07c561d",
        "colab": {
          "base_uri": "https://localhost:8080/",
          "height": 141
        }
      },
      "source": [
        "output=[]\n",
        "\n",
        "for i in range(length):\n",
        "    output_row = []\n",
        "    \n",
        "    for j in range(width):\n",
        "        \n",
        "        if (i,j) in solutions and (i,j) != ending_point and (i,j) != starting_point:\n",
        "            print(\"S\", end=\"\")\n",
        "            output_row.append(\"S\")\n",
        "            \n",
        "        elif (i,j) in explored and (i,j) != ending_point and (i,j) != starting_point and (i,j) not in solutions:\n",
        "            print(\"E\", end=\"\")\n",
        "            output_row.append(\"E\")\n",
        "            \n",
        "        else:\n",
        "            print(array_maze[i][j], end=\"\")\n",
        "            output_row.append(array_maze[i][j])\n",
        "            \n",
        "    output.append(output_row)\n",
        "    print()"
      ],
      "execution_count": 95,
      "outputs": [
        {
          "output_type": "stream",
          "text": [
            "##SSSSSSSSSSB\n",
            "##S######### \n",
            "##S######### \n",
            "##S#EEE##### \n",
            "##SSS#E##### \n",
            "####S# ##### \n",
            "ASSSS#       \n"
          ],
          "name": "stdout"
        }
      ]
    },
    {
      "cell_type": "code",
      "metadata": {
        "id": "8_XUL5KjC3Cu",
        "outputId": "d545aca8-028a-42b0-89c4-02f04208382b",
        "colab": {
          "base_uri": "https://localhost:8080/",
          "height": 52
        }
      },
      "source": [
        "print(\"\\nNo. of nodes explored: \",len(explored))"
      ],
      "execution_count": 96,
      "outputs": [
        {
          "output_type": "stream",
          "text": [
            "\n",
            "No. of nodes explored:  27\n"
          ],
          "name": "stdout"
        }
      ]
    },
    {
      "cell_type": "code",
      "metadata": {
        "id": "_nAotd7jPUTM",
        "outputId": "9cfe5c19-239b-4da7-ecc3-0a783200821b",
        "colab": {
          "base_uri": "https://localhost:8080/",
          "height": 35
        }
      },
      "source": [
        "frontier.frontier[0].state"
      ],
      "execution_count": 97,
      "outputs": [
        {
          "output_type": "execute_result",
          "data": {
            "text/plain": [
              "(5, 6)"
            ]
          },
          "metadata": {
            "tags": []
          },
          "execution_count": 97
        }
      ]
    },
    {
      "cell_type": "code",
      "metadata": {
        "id": "pA1dd5KCPXXa",
        "outputId": "630635f1-4bdf-4e04-c929-a863029f45ef",
        "colab": {
          "base_uri": "https://localhost:8080/",
          "height": 35
        }
      },
      "source": [
        "ending_point"
      ],
      "execution_count": 98,
      "outputs": [
        {
          "output_type": "execute_result",
          "data": {
            "text/plain": [
              "(0, 12)"
            ]
          },
          "metadata": {
            "tags": []
          },
          "execution_count": 98
        }
      ]
    },
    {
      "cell_type": "code",
      "metadata": {
        "id": "0gX4drxMPoJq"
      },
      "source": [
        ""
      ],
      "execution_count": 98,
      "outputs": []
    }
  ]
}