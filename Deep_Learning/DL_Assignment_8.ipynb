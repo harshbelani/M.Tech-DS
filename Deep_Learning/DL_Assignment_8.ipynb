{
  "nbformat": 4,
  "nbformat_minor": 0,
  "metadata": {
    "colab": {
      "name": "DL_Assignment_8",
      "provenance": [],
      "collapsed_sections": [],
      "toc_visible": true,
      "authorship_tag": "ABX9TyMVv6sPiDzF17fd6UoAT7rt",
      "include_colab_link": true
    },
    "kernelspec": {
      "name": "python3",
      "display_name": "Python 3"
    },
    "accelerator": "GPU"
  },
  "cells": [
    {
      "cell_type": "markdown",
      "metadata": {
        "id": "view-in-github",
        "colab_type": "text"
      },
      "source": [
        "<a href=\"https://colab.research.google.com/github/harshbelani/M.Tech-DS/blob/master/Deep_Learning/DL_Assignment_8.ipynb\" target=\"_parent\"><img src=\"https://colab.research.google.com/assets/colab-badge.svg\" alt=\"Open In Colab\"/></a>"
      ]
    },
    {
      "cell_type": "code",
      "metadata": {
        "id": "p6LAi8dsfBN7",
        "colab_type": "code",
        "colab": {}
      },
      "source": [
        "#code part 1\n",
        "from bs4 import BeautifulSoup\n",
        "import numpy as np\n",
        "import requests\n",
        "import cv2\n",
        "import PIL.Image\n",
        "import urllib\n",
        "import os\n",
        "import pandas as pd"
      ],
      "execution_count": null,
      "outputs": []
    },
    {
      "cell_type": "markdown",
      "metadata": {
        "id": "2rNixw5V2--2",
        "colab_type": "text"
      },
      "source": [
        "## Creating soups and url strings"
      ]
    },
    {
      "cell_type": "code",
      "metadata": {
        "id": "HdqWR0SB20Fq",
        "colab_type": "code",
        "colab": {}
      },
      "source": [
        "ie_page = requests.get(\"http://www.image-net.org/api/text/imagenet.synset.geturls?wnid=n02504013\")    #indian elephant\n",
        "\n",
        "# BeautifulSoup is an HTML parsing library\n",
        "\n",
        "ie_soup = BeautifulSoup(ie_page.content, 'html.parser')   #puts the content of the website into the soup variable, each url on a different line\n",
        "#print(soup)\n",
        "#print(soup.prettify())"
      ],
      "execution_count": null,
      "outputs": []
    },
    {
      "cell_type": "code",
      "metadata": {
        "id": "xv3GoErrf94t",
        "colab_type": "code",
        "colab": {}
      },
      "source": [
        "ae_page = requests.get(\"http://www.image-net.org/api/text/imagenet.synset.geturls?wnid=n02504458\")    #african elephant synset\n",
        "#print(ae_page.content)\n",
        "\n",
        "ae_soup = BeautifulSoup(ae_page.content, 'html.parser')#puts the content of the website into the soup variable, each url on a different line"
      ],
      "execution_count": null,
      "outputs": []
    },
    {
      "cell_type": "code",
      "metadata": {
        "id": "ps1-uGC8gWiN",
        "colab_type": "code",
        "colab": {}
      },
      "source": [
        "t_page = requests.get(\"http://www.image-net.org/api/text/imagenet.synset.geturls?wnid=n01871265\")   #tuskers synset\n",
        "#print(t_page.content)\n",
        "\n",
        "t_soup = BeautifulSoup(t_page.content, 'html.parser')#puts the content of the website into the soup variable, each url on a different line"
      ],
      "execution_count": null,
      "outputs": []
    },
    {
      "cell_type": "code",
      "metadata": {
        "id": "G9XB6ycyhEx7",
        "colab_type": "code",
        "colab": {
          "base_uri": "https://localhost:8080/",
          "height": 35
        },
        "outputId": "244a6db2-7c31-4685-d196-336a6bf4c0da"
      },
      "source": [
        "ie_str_soup=str(ie_soup)    #convert soup to string so it can be split\n",
        "type(ie_str_soup)\n",
        "ie_split_urls=ie_str_soup.split('\\r\\n')     #split so each url is a different possition on a list\n",
        "print(len(ie_split_urls))     #print the length of the list so you know how many urls you have\n"
      ],
      "execution_count": null,
      "outputs": [
        {
          "output_type": "stream",
          "text": [
            "1650\n"
          ],
          "name": "stdout"
        }
      ]
    },
    {
      "cell_type": "code",
      "metadata": {
        "id": "rqoEELtK3KMB",
        "colab_type": "code",
        "colab": {
          "base_uri": "https://localhost:8080/",
          "height": 35
        },
        "outputId": "5b7e6abb-11d2-4a9e-bc40-66c2577cea35"
      },
      "source": [
        "ae_str_soup=str(ae_soup)      #convert soup to string so it can be split\n",
        "type(ae_str_soup)\n",
        "ae_split_urls=ae_str_soup.split('\\r\\n')     #split so each url is a different possition on a list\n",
        "print(len(ae_split_urls))"
      ],
      "execution_count": null,
      "outputs": [
        {
          "output_type": "stream",
          "text": [
            "2278\n"
          ],
          "name": "stdout"
        }
      ]
    },
    {
      "cell_type": "code",
      "metadata": {
        "id": "XHFnqREa3OzW",
        "colab_type": "code",
        "colab": {
          "base_uri": "https://localhost:8080/",
          "height": 35
        },
        "outputId": "76538218-e678-49b3-95a2-650423d21374"
      },
      "source": [
        "t_str_soup=str(t_soup)      #convert soup to string so it can be split\n",
        "type(t_str_soup)\n",
        "t_split_urls=t_str_soup.split('\\r\\n')     #split so each url is a different possition on a list\n",
        "print(len(t_split_urls))"
      ],
      "execution_count": null,
      "outputs": [
        {
          "output_type": "stream",
          "text": [
            "1065\n"
          ],
          "name": "stdout"
        }
      ]
    },
    {
      "cell_type": "markdown",
      "metadata": {
        "id": "AbyMiCOO3ZY9",
        "colab_type": "text"
      },
      "source": [
        "## Making Directories"
      ]
    },
    {
      "cell_type": "code",
      "metadata": {
        "id": "5H0ZjtfOjKgE",
        "colab_type": "code",
        "colab": {}
      },
      "source": [
        "#check if all the images where stored on the files system\n",
        "!mkdir /content/train #create the Train folder\n",
        "!mkdir /content/train/Indian_Elephant    #create the ie folder\n",
        "!mkdir /content/train/African_Alephant    #create the ae folder\n",
        "!mkdir /content/train/Tuskers    #create the t folder\n",
        "\n",
        "!mkdir /content/validation\n",
        "!mkdir /content/validation/Indian_Elephant #create the ie folder\n",
        "!mkdir /content/validation/African_Alephant #create the ae folder\n",
        "!mkdir /content/validation/Tuskers #create the t folder\n",
        "\n",
        "!mkdir /content/test/ \n",
        "!mkdir /content/test/test #list the files inside test"
      ],
      "execution_count": null,
      "outputs": []
    },
    {
      "cell_type": "markdown",
      "metadata": {
        "id": "Sa1kK5NO3_l_",
        "colab_type": "text"
      },
      "source": [
        "## Setting up Image parameter and fetching function"
      ]
    },
    {
      "cell_type": "code",
      "metadata": {
        "id": "4T6xVheljmVI",
        "colab_type": "code",
        "colab": {}
      },
      "source": [
        "img_rows, img_cols = 32, 32     #number of rows and columns to convert the images to\n",
        "input_shape = (img_rows, img_cols, 3)   #format to store the images (rows, columns,channels) called channels last\n",
        "\n",
        "def url_to_image(url):\n",
        "\t# download the image, convert it to a NumPy array, and then read\n",
        "\t# it into OpenCV format\n",
        "\tresp = urllib.request.urlopen(url)\n",
        "\timage = np.asarray(bytearray(resp.read()), dtype=\"uint8\")\n",
        "\timage = cv2.imdecode(image, cv2.IMREAD_COLOR)\n",
        " \n",
        "\t# return the image\n",
        "\treturn image\n"
      ],
      "execution_count": null,
      "outputs": []
    },
    {
      "cell_type": "markdown",
      "metadata": {
        "id": "AEgaqMts4H5P",
        "colab_type": "text"
      },
      "source": [
        "## Storing Train Images"
      ]
    },
    {
      "cell_type": "code",
      "metadata": {
        "id": "2NpplKkZ4Fxg",
        "colab_type": "code",
        "colab": {
          "base_uri": "https://localhost:8080/",
          "height": 159
        },
        "outputId": "a59c4f96-c296-49c5-ca39-1e7b0370edad"
      },
      "source": [
        "n_of_training_images=150    #the number of training images to use\n",
        "\n",
        "for progress in range(n_of_training_images):    #store all the images on a directory\n",
        "    # Print out progress whenever progress is a multiple of 20 so we can follow the\n",
        "    # (relatively slow) progress\n",
        "    if(progress%20==0):\n",
        "        print(progress)\n",
        "    if not ie_split_urls[progress] == None:\n",
        "      try:\n",
        "        I = url_to_image(ie_split_urls[progress])\n",
        "        if (len(I.shape))==3:    #check if the image has width, length and channels\n",
        "          save_path = '/content/train/Indian_Elephant/img'+str(progress)+'.jpg'      #create a name of each image\n",
        "          cv2.imwrite(save_path,I)\n",
        "\n",
        "      except:\n",
        "        None"
      ],
      "execution_count": null,
      "outputs": [
        {
          "output_type": "stream",
          "text": [
            "0\n",
            "20\n",
            "40\n",
            "60\n",
            "80\n",
            "100\n",
            "120\n",
            "140\n"
          ],
          "name": "stdout"
        }
      ]
    },
    {
      "cell_type": "code",
      "metadata": {
        "id": "M3METs6K4P6F",
        "colab_type": "code",
        "colab": {
          "base_uri": "https://localhost:8080/",
          "height": 159
        },
        "outputId": "db4738fa-8595-418b-ad34-8aee118f4759"
      },
      "source": [
        "#do the same for ae:\n",
        "for progress in range(n_of_training_images):#store all the images on a directory\n",
        "    # Print out progress whenever progress is a multiple of 20 so we can follow the\n",
        "    # (relatively slow) progress\n",
        "    if(progress%20==0):\n",
        "        print(progress)\n",
        "    if not ae_split_urls[progress] == None:\n",
        "      try:\n",
        "        I = url_to_image(ae_split_urls[progress])\n",
        "        if (len(I.shape))==3: #check if the image has width, length and channels\n",
        "          save_path = '/content/train/African_Alephant/img'+str(progress)+'.jpg'#create a name of each image\n",
        "          cv2.imwrite(save_path,I)\n",
        "\n",
        "      except:\n",
        "        None"
      ],
      "execution_count": null,
      "outputs": [
        {
          "output_type": "stream",
          "text": [
            "0\n",
            "20\n",
            "40\n",
            "60\n",
            "80\n",
            "100\n",
            "120\n",
            "140\n"
          ],
          "name": "stdout"
        }
      ]
    },
    {
      "cell_type": "code",
      "metadata": {
        "id": "cxaRpd5q4f_M",
        "colab_type": "code",
        "colab": {
          "base_uri": "https://localhost:8080/",
          "height": 159
        },
        "outputId": "c6b7369b-b654-461f-d0f1-c38967f517f2"
      },
      "source": [
        "#do the same for t:\n",
        "for progress in range(n_of_training_images):#store all the images on a directory\n",
        "    # Print out progress whenever progress is a multiple of 20 so we can follow the\n",
        "    # (relatively slow) progress\n",
        "    if(progress%20==0):\n",
        "        print(progress)\n",
        "    if not t_split_urls[progress] == None:\n",
        "      try:\n",
        "        I = url_to_image(t_split_urls[progress])\n",
        "        if (len(I.shape))==3: #check if the image has width, length and channels\n",
        "          save_path = '/content/train/Tuskers/img'+str(progress)+'.jpg'#create a name of each image\n",
        "          cv2.imwrite(save_path,I)\n",
        "\n",
        "      except:\n",
        "        None"
      ],
      "execution_count": null,
      "outputs": [
        {
          "output_type": "stream",
          "text": [
            "0\n",
            "20\n",
            "40\n",
            "60\n",
            "80\n",
            "100\n",
            "120\n",
            "140\n"
          ],
          "name": "stdout"
        }
      ]
    },
    {
      "cell_type": "markdown",
      "metadata": {
        "id": "HGmbc9CJ4lqB",
        "colab_type": "text"
      },
      "source": [
        "## Storing Validation Images"
      ]
    },
    {
      "cell_type": "code",
      "metadata": {
        "id": "b1kb0vzr4kQa",
        "colab_type": "code",
        "colab": {
          "base_uri": "https://localhost:8080/",
          "height": 106
        },
        "outputId": "68680086-e853-455a-aa79-7c4fce437801"
      },
      "source": [
        "for progress in range(50):      #store all the images on a directory\n",
        "    # Print out progress whenever progress is a multiple of 10 so we can follow the\n",
        "    # (relatively slow) progress\n",
        "    if(progress%10==0):\n",
        "        print(progress)\n",
        "    if not ie_split_urls[n_of_training_images+progress] == None:\n",
        "      try:\n",
        "        I = url_to_image(ie_split_urls[n_of_training_images+progress])      #get images that are different from the ones used for training\n",
        "        if (len(I.shape))==3:       #check if the image has width, length and channels\n",
        "          save_path = '/content/validation/Indian_Elephant/img'+str(progress)+'.jpg'      #create a name of each image\n",
        "          cv2.imwrite(save_path,I)\n",
        "\n",
        "      except:\n",
        "        None"
      ],
      "execution_count": null,
      "outputs": [
        {
          "output_type": "stream",
          "text": [
            "0\n",
            "10\n",
            "20\n",
            "30\n",
            "40\n"
          ],
          "name": "stdout"
        }
      ]
    },
    {
      "cell_type": "code",
      "metadata": {
        "id": "MZeoDSKe4r8O",
        "colab_type": "code",
        "colab": {
          "base_uri": "https://localhost:8080/",
          "height": 106
        },
        "outputId": "a941df77-580e-45ff-cb91-61626bb1e1d8"
      },
      "source": [
        "#do the same for ae:\n",
        "for progress in range(50):    #store all the images on a directory\n",
        "    # Print out progress whenever progress is a multiple of 10 so we can follow the\n",
        "    # (relatively slow) progress\n",
        "    if(progress%10==0):\n",
        "        print(progress)\n",
        "    if not ae_split_urls[n_of_training_images+progress] == None:\n",
        "      try:\n",
        "        I = url_to_image(ae_split_urls[n_of_training_images+progress])   #get images that are different from the ones used for training\n",
        "        if (len(I.shape))==3:     #check if the image has width, length and channels\n",
        "          save_path = '/content/validation/African_Alephant/img'+str(progress)+'.jpg'   #create a name of each image\n",
        "          cv2.imwrite(save_path,I)\n",
        "\n",
        "      except:\n",
        "        None"
      ],
      "execution_count": null,
      "outputs": [
        {
          "output_type": "stream",
          "text": [
            "0\n",
            "10\n",
            "20\n",
            "30\n",
            "40\n"
          ],
          "name": "stdout"
        }
      ]
    },
    {
      "cell_type": "code",
      "metadata": {
        "id": "9ugPn4IA4wIQ",
        "colab_type": "code",
        "colab": {
          "base_uri": "https://localhost:8080/",
          "height": 106
        },
        "outputId": "65d4a8bb-4a0a-46c0-8fa8-7a5bc3919074"
      },
      "source": [
        "#do the same for t:\n",
        "for progress in range(50):    #store all the images on a directory\n",
        "    # Print out progress whenever progress is a multiple of 10 so we can follow the\n",
        "    # (relatively slow) progress\n",
        "    if(progress%10==0):\n",
        "        print(progress)\n",
        "    if not t_split_urls[progress] == None:\n",
        "      try:\n",
        "        I = url_to_image(t_split_urls[n_of_training_images+progress])   #get images that are different from the ones used for training\n",
        "        if (len(I.shape))==3:       #check if the image has width, length and channels\n",
        "          save_path = '/content/validation/Tuskers/img'+str(progress)+'.jpg'    #create a name of each image\n",
        "          cv2.imwrite(save_path,I)\n",
        "\n",
        "      except:\n",
        "        None"
      ],
      "execution_count": null,
      "outputs": [
        {
          "output_type": "stream",
          "text": [
            "0\n",
            "10\n",
            "20\n",
            "30\n",
            "40\n"
          ],
          "name": "stdout"
        }
      ]
    },
    {
      "cell_type": "code",
      "metadata": {
        "id": "74-1FU_Z4z-z",
        "colab_type": "code",
        "colab": {
          "base_uri": "https://localhost:8080/",
          "height": 1000
        },
        "outputId": "348c563c-1404-42b4-9b2d-aa971bdbf927"
      },
      "source": [
        "print(\"\\nTRAIN:\\n\")          \n",
        "print(\"\\nlist the files inside Indian_Elephant directory:\\n\")        \n",
        "!ls /content/train/Indian_Elephant    #list the files inside ships\n",
        "print(\"\\nlist the files inside African_Alephant directory:\\n\")\n",
        "!ls /content/train/African_Alephant    #list the files inside bikes\n",
        "print(\"\\nlist the files inside Tuskers directory:\\n\")\n",
        "!ls /content/train/Tuskers    #list the files inside bikes\n",
        "\n",
        "\n",
        "print(\"\\nVALIDATION:\\n\")\n",
        "print(\"\\nlist the files inside Indian_Elephant directory:\\n\")        \n",
        "!ls /content/validation/Indian_Elephant     #list the files inside ships\n",
        "print(\"\\nlist the files inside African_Alephant directory:\\n\")\n",
        "!ls /content/validation/African_Alephant     #list the files inside bikes \n",
        "print(\"\\nlist the files inside Tuskers directory:\\n\")\n",
        "!ls /content/validation/Tuskers     #list the files inside bikes   "
      ],
      "execution_count": null,
      "outputs": [
        {
          "output_type": "stream",
          "text": [
            "\n",
            "TRAIN:\n",
            "\n",
            "\n",
            "list the files inside Indian_Elephant directory:\n",
            "\n",
            "img0.jpg    img115.jpg\timg131.jpg  img25.jpg  img48.jpg  img70.jpg  img87.jpg\n",
            "img100.jpg  img117.jpg\timg133.jpg  img2.jpg   img51.jpg  img71.jpg  img88.jpg\n",
            "img103.jpg  img119.jpg\timg139.jpg  img30.jpg  img52.jpg  img74.jpg  img91.jpg\n",
            "img104.jpg  img11.jpg\timg145.jpg  img31.jpg  img54.jpg  img76.jpg  img92.jpg\n",
            "img105.jpg  img121.jpg\timg148.jpg  img35.jpg  img55.jpg  img77.jpg  img94.jpg\n",
            "img106.jpg  img122.jpg\timg15.jpg   img3.jpg   img57.jpg  img78.jpg  img95.jpg\n",
            "img107.jpg  img123.jpg\timg17.jpg   img41.jpg  img5.jpg   img79.jpg  img97.jpg\n",
            "img108.jpg  img125.jpg\timg18.jpg   img44.jpg  img60.jpg  img7.jpg   img98.jpg\n",
            "img110.jpg  img127.jpg\timg1.jpg    img45.jpg  img63.jpg  img80.jpg  img9.jpg\n",
            "img112.jpg  img12.jpg\timg20.jpg   img46.jpg  img64.jpg  img82.jpg\n",
            "img114.jpg  img130.jpg\timg22.jpg   img47.jpg  img65.jpg  img83.jpg\n",
            "\n",
            "list the files inside African_Alephant directory:\n",
            "\n",
            "img0.jpg    img125.jpg\timg144.jpg  img27.jpg  img46.jpg  img67.jpg  img82.jpg\n",
            "img101.jpg  img126.jpg\timg145.jpg  img28.jpg  img47.jpg  img68.jpg  img85.jpg\n",
            "img105.jpg  img127.jpg\timg146.jpg  img2.jpg   img49.jpg  img69.jpg  img86.jpg\n",
            "img106.jpg  img129.jpg\timg147.jpg  img30.jpg  img4.jpg   img6.jpg   img87.jpg\n",
            "img107.jpg  img12.jpg\timg149.jpg  img31.jpg  img50.jpg  img70.jpg  img8.jpg\n",
            "img108.jpg  img130.jpg\timg14.jpg   img32.jpg  img52.jpg  img71.jpg  img90.jpg\n",
            "img109.jpg  img131.jpg\timg17.jpg   img34.jpg  img54.jpg  img72.jpg  img92.jpg\n",
            "img112.jpg  img132.jpg\timg19.jpg   img35.jpg  img55.jpg  img73.jpg  img93.jpg\n",
            "img113.jpg  img134.jpg\timg1.jpg    img36.jpg  img58.jpg  img75.jpg  img95.jpg\n",
            "img115.jpg  img135.jpg\timg20.jpg   img37.jpg  img59.jpg  img76.jpg  img96.jpg\n",
            "img116.jpg  img137.jpg\timg21.jpg   img39.jpg  img5.jpg   img77.jpg  img97.jpg\n",
            "img119.jpg  img138.jpg\timg22.jpg   img3.jpg   img61.jpg  img78.jpg  img98.jpg\n",
            "img120.jpg  img13.jpg\timg23.jpg   img40.jpg  img62.jpg  img79.jpg  img99.jpg\n",
            "img121.jpg  img140.jpg\timg24.jpg   img41.jpg  img63.jpg  img7.jpg   img9.jpg\n",
            "img122.jpg  img142.jpg\timg25.jpg   img43.jpg  img64.jpg  img80.jpg\n",
            "img123.jpg  img143.jpg\timg26.jpg   img45.jpg  img65.jpg  img81.jpg\n",
            "\n",
            "list the files inside Tuskers directory:\n",
            "\n",
            "img0.jpg    img124.jpg\timg141.jpg  img27.jpg  img46.jpg  img73.jpg  img88.jpg\n",
            "img100.jpg  img125.jpg\timg142.jpg  img28.jpg  img49.jpg  img74.jpg  img89.jpg\n",
            "img101.jpg  img126.jpg\timg145.jpg  img29.jpg  img52.jpg  img75.jpg  img91.jpg\n",
            "img102.jpg  img127.jpg\timg148.jpg  img2.jpg   img53.jpg  img76.jpg  img92.jpg\n",
            "img105.jpg  img128.jpg\timg149.jpg  img32.jpg  img56.jpg  img77.jpg  img94.jpg\n",
            "img109.jpg  img12.jpg\timg14.jpg   img33.jpg  img57.jpg  img78.jpg  img95.jpg\n",
            "img110.jpg  img130.jpg\timg16.jpg   img34.jpg  img61.jpg  img79.jpg  img96.jpg\n",
            "img112.jpg  img131.jpg\timg17.jpg   img35.jpg  img62.jpg  img7.jpg   img97.jpg\n",
            "img114.jpg  img132.jpg\timg18.jpg   img36.jpg  img64.jpg  img81.jpg  img98.jpg\n",
            "img115.jpg  img134.jpg\timg19.jpg   img38.jpg  img65.jpg  img82.jpg  img99.jpg\n",
            "img118.jpg  img136.jpg\timg1.jpg    img39.jpg  img66.jpg  img83.jpg  img9.jpg\n",
            "img11.jpg   img137.jpg\timg21.jpg   img42.jpg  img69.jpg  img84.jpg\n",
            "img120.jpg  img139.jpg\timg23.jpg   img44.jpg  img6.jpg   img85.jpg\n",
            "img121.jpg  img13.jpg\timg24.jpg   img45.jpg  img71.jpg  img87.jpg\n",
            "\n",
            "VALIDATION:\n",
            "\n",
            "\n",
            "list the files inside Indian_Elephant directory:\n",
            "\n",
            "img0.jpg   img13.jpg  img20.jpg  img27.jpg  img31.jpg  img42.jpg  img5.jpg\n",
            "img10.jpg  img15.jpg  img22.jpg  img28.jpg  img34.jpg  img44.jpg  img6.jpg\n",
            "img11.jpg  img18.jpg  img24.jpg  img29.jpg  img38.jpg  img46.jpg  img7.jpg\n",
            "img12.jpg  img19.jpg  img25.jpg  img2.jpg   img3.jpg   img47.jpg  img9.jpg\n",
            "\n",
            "list the files inside African_Alephant directory:\n",
            "\n",
            "img0.jpg   img16.jpg  img24.jpg  img30.jpg  img39.jpg  img46.jpg  img9.jpg\n",
            "img10.jpg  img17.jpg  img25.jpg  img31.jpg  img3.jpg   img48.jpg\n",
            "img11.jpg  img19.jpg  img26.jpg  img33.jpg  img41.jpg  img49.jpg\n",
            "img12.jpg  img1.jpg   img27.jpg  img36.jpg  img43.jpg  img4.jpg\n",
            "img13.jpg  img21.jpg  img28.jpg  img37.jpg  img44.jpg  img5.jpg\n",
            "img15.jpg  img23.jpg  img29.jpg  img38.jpg  img45.jpg  img6.jpg\n",
            "\n",
            "list the files inside Tuskers directory:\n",
            "\n",
            "img10.jpg  img17.jpg  img23.jpg  img2.jpg   img38.jpg  img45.jpg  img6.jpg\n",
            "img11.jpg  img18.jpg  img24.jpg  img31.jpg  img39.jpg  img46.jpg  img8.jpg\n",
            "img12.jpg  img19.jpg  img26.jpg  img32.jpg  img40.jpg  img47.jpg  img9.jpg\n",
            "img14.jpg  img20.jpg  img27.jpg  img34.jpg  img41.jpg  img49.jpg\n",
            "img15.jpg  img21.jpg  img28.jpg  img36.jpg  img42.jpg  img4.jpg\n",
            "img16.jpg  img22.jpg  img29.jpg  img37.jpg  img43.jpg  img5.jpg\n"
          ],
          "name": "stdout"
        }
      ]
    },
    {
      "cell_type": "markdown",
      "metadata": {
        "id": "C7Nl3Ztt9qXo",
        "colab_type": "text"
      },
      "source": [
        "## Modelling"
      ]
    },
    {
      "cell_type": "markdown",
      "metadata": {
        "id": "Fv4glaTQ-Aq1",
        "colab_type": "text"
      },
      "source": [
        "### Resnet 50"
      ]
    },
    {
      "cell_type": "code",
      "metadata": {
        "id": "T7cxG8hp9r9Q",
        "colab_type": "code",
        "colab": {}
      },
      "source": [
        "from keras.applications.resnet50 import ResNet50\n",
        "from keras.preprocessing import image\n",
        "from keras.applications.resnet50 import preprocess_input, decode_predictions\n",
        "from tensorflow.python.keras.models import Sequential\n",
        "from tensorflow.python.keras.layers import Dense\n",
        "from keras.preprocessing.image import ImageDataGenerator"
      ],
      "execution_count": null,
      "outputs": []
    },
    {
      "cell_type": "code",
      "metadata": {
        "id": "AjOHa1_w-EpZ",
        "colab_type": "code",
        "colab": {
          "base_uri": "https://localhost:8080/",
          "height": 52
        },
        "outputId": "6fea6465-5de8-4301-8327-181c7334aea6"
      },
      "source": [
        "resnet_50_model = ResNet50(weights='imagenet')"
      ],
      "execution_count": null,
      "outputs": [
        {
          "output_type": "stream",
          "text": [
            "Downloading data from https://storage.googleapis.com/tensorflow/keras-applications/resnet/resnet50_weights_tf_dim_ordering_tf_kernels.h5\n",
            "102973440/102967424 [==============================] - 1s 0us/step\n"
          ],
          "name": "stdout"
        }
      ]
    },
    {
      "cell_type": "code",
      "metadata": {
        "id": "MH2jUEJ_-NlR",
        "colab_type": "code",
        "colab": {}
      },
      "source": [
        "NUM_CLASSES = 3\n",
        "CHANNELS = 3\n",
        "IMAGE_RESIZE = 224\n",
        "RESNET50_POOLING_AVERAGE = 'avg'\n",
        "DENSE_LAYER_ACTIVATION = 'softmax'\n",
        "OBJECTIVE_FUNCTION = 'categorical_crossentropy'\n",
        "\n",
        "LOSS_METRICS = ['accuracy']\n",
        "NUM_EPOCHS = 20\n",
        "EARLY_STOP_PATIENCE = 3\n",
        "STEPS_PER_EPOCH_TRAINING = 10\n",
        "STEPS_PER_EPOCH_VALIDATION = 10\n",
        "\n",
        "BATCH_SIZE_TRAINING = 100\n",
        "BATCH_SIZE_VALIDATION = 100"
      ],
      "execution_count": null,
      "outputs": []
    },
    {
      "cell_type": "code",
      "metadata": {
        "id": "3ledyQwhFjXY",
        "colab_type": "code",
        "colab": {}
      },
      "source": [
        "custom_model = Sequential()\n",
        "custom_model.add(ResNet50(include_top = False, pooling = RESNET50_POOLING_AVERAGE, weights = \"imagenet\"))\n",
        "custom_model.add(Dense(NUM_CLASSES, activation = DENSE_LAYER_ACTIVATION))\n",
        "custom_model.layers[0].trainable = False"
      ],
      "execution_count": null,
      "outputs": []
    },
    {
      "cell_type": "code",
      "metadata": {
        "id": "NdCVSfj8F_ox",
        "colab_type": "code",
        "colab": {
          "base_uri": "https://localhost:8080/",
          "height": 230
        },
        "outputId": "f6f5d564-964b-4521-85ef-aea89773b7ff"
      },
      "source": [
        "custom_model.summary()"
      ],
      "execution_count": null,
      "outputs": [
        {
          "output_type": "stream",
          "text": [
            "Model: \"sequential_1\"\n",
            "_________________________________________________________________\n",
            "Layer (type)                 Output Shape              Param #   \n",
            "=================================================================\n",
            "resnet50 (Functional)        (None, 2048)              23587712  \n",
            "_________________________________________________________________\n",
            "dense_1 (Dense)              (None, 3)                 6147      \n",
            "=================================================================\n",
            "Total params: 23,593,859\n",
            "Trainable params: 6,147\n",
            "Non-trainable params: 23,587,712\n",
            "_________________________________________________________________\n"
          ],
          "name": "stdout"
        }
      ]
    },
    {
      "cell_type": "code",
      "metadata": {
        "id": "KkEOEXDKGP_-",
        "colab_type": "code",
        "colab": {}
      },
      "source": [
        "custom_model.compile(optimizer = \"adam\", loss = OBJECTIVE_FUNCTION, metrics = LOSS_METRICS)"
      ],
      "execution_count": null,
      "outputs": []
    },
    {
      "cell_type": "code",
      "metadata": {
        "id": "jgjiz_91GkOw",
        "colab_type": "code",
        "colab": {
          "base_uri": "https://localhost:8080/",
          "height": 52
        },
        "outputId": "346c968f-7898-4014-f0da-275872c56520"
      },
      "source": [
        "image_size = IMAGE_RESIZE\n",
        "data_generator = ImageDataGenerator(preprocessing_function=preprocess_input)\n",
        "\n",
        "train_generator = data_generator.flow_from_directory(\n",
        "        '/content/train',\n",
        "        target_size=(image_size, image_size),\n",
        "        batch_size=BATCH_SIZE_TRAINING,\n",
        "        class_mode='categorical')\n",
        "\n",
        "validation_generator = data_generator.flow_from_directory(\n",
        "        '/content/validation',\n",
        "        target_size=(image_size, image_size),\n",
        "        batch_size=BATCH_SIZE_VALIDATION,\n",
        "        class_mode='categorical') "
      ],
      "execution_count": null,
      "outputs": [
        {
          "output_type": "stream",
          "text": [
            "Found 280 images belonging to 3 classes.\n",
            "Found 104 images belonging to 3 classes.\n"
          ],
          "name": "stdout"
        }
      ]
    },
    {
      "cell_type": "code",
      "metadata": {
        "id": "YaEYRGQoJ7Q8",
        "colab_type": "code",
        "colab": {}
      },
      "source": [
        "from tensorflow.python.keras.callbacks import EarlyStopping, ModelCheckpoint\n",
        "\n",
        "cb_early_stopper = EarlyStopping(monitor = 'val_loss', patience = EARLY_STOP_PATIENCE)\n",
        "cb_checkpointer = ModelCheckpoint(filepath = 'best.hdf5', monitor = 'val_loss', save_best_only = True, mode = 'auto')"
      ],
      "execution_count": null,
      "outputs": []
    },
    {
      "cell_type": "code",
      "metadata": {
        "id": "hKAnw_ZASK59",
        "colab_type": "code",
        "colab": {
          "base_uri": "https://localhost:8080/",
          "height": 586
        },
        "outputId": "c84c73be-fa9c-4a9d-d95d-6dad54901066"
      },
      "source": [
        "fit_history = custom_model.fit_generator(\n",
        "        train_generator,\n",
        "        #steps_per_epoch=STEPS_PER_EPOCH_TRAINING,\n",
        "        epochs = NUM_EPOCHS,\n",
        "        validation_data=validation_generator,\n",
        "        #validation_steps=STEPS_PER_EPOCH_VALIDATION,\n",
        "        callbacks=[cb_checkpointer, cb_early_stopper]\n",
        ")"
      ],
      "execution_count": null,
      "outputs": [
        {
          "output_type": "stream",
          "text": [
            "Epoch 1/20\n",
            "3/3 [==============================] - 4s 1s/step - loss: 1.2243 - accuracy: 0.4036 - val_loss: 1.0959 - val_accuracy: 0.4423\n",
            "Epoch 2/20\n",
            "3/3 [==============================] - 2s 771ms/step - loss: 1.0054 - accuracy: 0.4964 - val_loss: 1.0925 - val_accuracy: 0.4519\n",
            "Epoch 3/20\n",
            "3/3 [==============================] - 2s 752ms/step - loss: 0.8769 - accuracy: 0.6036 - val_loss: 0.9709 - val_accuracy: 0.4904\n",
            "Epoch 4/20\n",
            "3/3 [==============================] - 2s 817ms/step - loss: 0.8116 - accuracy: 0.6536 - val_loss: 0.9388 - val_accuracy: 0.5481\n",
            "Epoch 5/20\n",
            "3/3 [==============================] - 2s 632ms/step - loss: 0.7139 - accuracy: 0.6821 - val_loss: 0.9423 - val_accuracy: 0.5192\n",
            "Epoch 6/20\n",
            "3/3 [==============================] - 2s 741ms/step - loss: 0.6644 - accuracy: 0.6893 - val_loss: 0.9324 - val_accuracy: 0.5481\n",
            "Epoch 7/20\n",
            "3/3 [==============================] - 2s 792ms/step - loss: 0.5981 - accuracy: 0.7429 - val_loss: 0.8788 - val_accuracy: 0.5577\n",
            "Epoch 8/20\n",
            "3/3 [==============================] - 2s 751ms/step - loss: 0.5634 - accuracy: 0.7821 - val_loss: 0.8626 - val_accuracy: 0.5962\n",
            "Epoch 9/20\n",
            "3/3 [==============================] - 2s 622ms/step - loss: 0.5298 - accuracy: 0.7857 - val_loss: 0.8697 - val_accuracy: 0.5769\n",
            "Epoch 10/20\n",
            "3/3 [==============================] - 2s 633ms/step - loss: 0.4882 - accuracy: 0.8250 - val_loss: 0.8677 - val_accuracy: 0.5769\n",
            "Epoch 11/20\n",
            "3/3 [==============================] - 2s 750ms/step - loss: 0.4631 - accuracy: 0.8393 - val_loss: 0.8477 - val_accuracy: 0.5865\n",
            "Epoch 12/20\n",
            "3/3 [==============================] - 2s 786ms/step - loss: 0.4382 - accuracy: 0.8500 - val_loss: 0.8472 - val_accuracy: 0.6058\n",
            "Epoch 13/20\n",
            "3/3 [==============================] - 2s 757ms/step - loss: 0.4172 - accuracy: 0.8643 - val_loss: 0.8434 - val_accuracy: 0.6154\n",
            "Epoch 14/20\n",
            "3/3 [==============================] - 2s 689ms/step - loss: 0.3943 - accuracy: 0.8821 - val_loss: 0.8453 - val_accuracy: 0.6154\n",
            "Epoch 15/20\n",
            "3/3 [==============================] - 2s 674ms/step - loss: 0.3773 - accuracy: 0.8893 - val_loss: 0.8505 - val_accuracy: 0.6250\n",
            "Epoch 16/20\n",
            "3/3 [==============================] - 2s 638ms/step - loss: 0.3600 - accuracy: 0.8929 - val_loss: 0.8502 - val_accuracy: 0.6154\n"
          ],
          "name": "stdout"
        }
      ]
    },
    {
      "cell_type": "code",
      "metadata": {
        "id": "VCtnhTGGSeFy",
        "colab_type": "code",
        "colab": {
          "base_uri": "https://localhost:8080/",
          "height": 35
        },
        "outputId": "8edde12a-29e3-4036-dc11-a1f9eaefa706"
      },
      "source": [
        "print(fit_history.history.keys())"
      ],
      "execution_count": null,
      "outputs": [
        {
          "output_type": "stream",
          "text": [
            "dict_keys(['loss', 'accuracy', 'val_loss', 'val_accuracy'])\n"
          ],
          "name": "stdout"
        }
      ]
    },
    {
      "cell_type": "code",
      "metadata": {
        "id": "UhhjfeKWauM8",
        "colab_type": "code",
        "colab": {}
      },
      "source": [
        "import matplotlib.pyplot as plt\n"
      ],
      "execution_count": null,
      "outputs": []
    },
    {
      "cell_type": "code",
      "metadata": {
        "id": "nFcdVIkVaodg",
        "colab_type": "code",
        "colab": {
          "base_uri": "https://localhost:8080/",
          "height": 276
        },
        "outputId": "de3321de-45b9-440f-981e-db55592fd041"
      },
      "source": [
        "plt.figure(1, figsize = (15,8)) \n",
        "    \n",
        "plt.subplot(221)  \n",
        "plt.plot(fit_history.history['accuracy'])  \n",
        "plt.plot(fit_history.history['val_accuracy'])  \n",
        "plt.title('model accuracy')  \n",
        "plt.ylabel('accuracy')  \n",
        "plt.xlabel('epoch')  \n",
        "plt.legend(['train', 'valid']) \n",
        "    \n",
        "plt.subplot(222)  \n",
        "plt.plot(fit_history.history['loss'])  \n",
        "plt.plot(fit_history.history['val_loss'])  \n",
        "plt.title('model loss')  \n",
        "plt.ylabel('loss')  \n",
        "plt.xlabel('epoch')  \n",
        "plt.legend(['train', 'valid']) \n",
        "\n",
        "plt.show()\n"
      ],
      "execution_count": null,
      "outputs": [
        {
          "output_type": "display_data",
          "data": {
            "image/png": "[encoded data removed]",
            "text/plain": [
              "<Figure size 1080x576 with 2 Axes>"
            ]
          },
          "metadata": {
            "tags": [],
            "needs_background": "light"
          }
        }
      ]
    },
    {
      "cell_type": "markdown",
      "metadata": {
        "id": "uAdaYBORmo3P",
        "colab_type": "text"
      },
      "source": [
        "### Xception"
      ]
    },
    {
      "cell_type": "code",
      "metadata": {
        "id": "Cu1lyuOsmrpc",
        "colab_type": "code",
        "colab": {}
      },
      "source": [
        "from keras.applications import Xception"
      ],
      "execution_count": null,
      "outputs": []
    },
    {
      "cell_type": "code",
      "metadata": {
        "id": "IzlFy6n5nZRx",
        "colab_type": "code",
        "colab": {
          "base_uri": "https://localhost:8080/",
          "height": 204
        },
        "outputId": "363228fe-f6c0-4544-abfe-7922b75313e4"
      },
      "source": [
        "xception_custom_model = Sequential()\n",
        "xception_custom_model.add(Xception(include_top=False, weights=\"imagenet\", input_shape = (224, 224, 3), pooling=\"avg\"))\n",
        "xception_custom_model.add(Dense(3, activation=\"softmax\"))"
      ],
      "execution_count": null,
      "outputs": [
        {
          "output_type": "error",
          "ename": "NameError",
          "evalue": "ignored",
          "traceback": [
            "\u001b[0;31m---------------------------------------------------------------------------\u001b[0m",
            "\u001b[0;31mNameError\u001b[0m                                 Traceback (most recent call last)",
            "\u001b[0;32m<ipython-input-2-db82bc45a7a8>\u001b[0m in \u001b[0;36m<module>\u001b[0;34m()\u001b[0m\n\u001b[0;32m----> 1\u001b[0;31m \u001b[0mxception_custom_model\u001b[0m \u001b[0;34m=\u001b[0m \u001b[0mSequential\u001b[0m\u001b[0;34m(\u001b[0m\u001b[0;34m)\u001b[0m\u001b[0;34m\u001b[0m\u001b[0;34m\u001b[0m\u001b[0m\n\u001b[0m\u001b[1;32m      2\u001b[0m \u001b[0mxception_custom_model\u001b[0m\u001b[0;34m.\u001b[0m\u001b[0madd\u001b[0m\u001b[0;34m(\u001b[0m\u001b[0mXception\u001b[0m\u001b[0;34m(\u001b[0m\u001b[0minclude_top\u001b[0m\u001b[0;34m=\u001b[0m\u001b[0;32mFalse\u001b[0m\u001b[0;34m,\u001b[0m \u001b[0mweights\u001b[0m\u001b[0;34m=\u001b[0m\u001b[0;34m\"imagenet\"\u001b[0m\u001b[0;34m,\u001b[0m \u001b[0minput_shape\u001b[0m \u001b[0;34m=\u001b[0m \u001b[0;34m(\u001b[0m\u001b[0;36m224\u001b[0m\u001b[0;34m,\u001b[0m \u001b[0;36m224\u001b[0m\u001b[0;34m,\u001b[0m \u001b[0;36m3\u001b[0m\u001b[0;34m)\u001b[0m\u001b[0;34m,\u001b[0m \u001b[0mpooling\u001b[0m\u001b[0;34m=\u001b[0m\u001b[0;34m\"avg\"\u001b[0m\u001b[0;34m)\u001b[0m\u001b[0;34m)\u001b[0m\u001b[0;34m\u001b[0m\u001b[0;34m\u001b[0m\u001b[0m\n\u001b[1;32m      3\u001b[0m \u001b[0mxception_custom_model\u001b[0m\u001b[0;34m.\u001b[0m\u001b[0madd\u001b[0m\u001b[0;34m(\u001b[0m\u001b[0mDense\u001b[0m\u001b[0;34m(\u001b[0m\u001b[0;36m3\u001b[0m\u001b[0;34m,\u001b[0m \u001b[0mactivation\u001b[0m\u001b[0;34m=\u001b[0m\u001b[0;34m\"softmax\"\u001b[0m\u001b[0;34m)\u001b[0m\u001b[0;34m)\u001b[0m\u001b[0;34m\u001b[0m\u001b[0;34m\u001b[0m\u001b[0m\n",
            "\u001b[0;31mNameError\u001b[0m: name 'Sequential' is not defined"
          ]
        }
      ]
    },
    {
      "cell_type": "code",
      "metadata": {
        "id": "Zyp26h9pooIW",
        "colab_type": "code",
        "colab": {}
      },
      "source": [
        "xception_custom_model.layers[0].trainable = False"
      ],
      "execution_count": null,
      "outputs": []
    },
    {
      "cell_type": "code",
      "metadata": {
        "id": "cd3UYJ_johxS",
        "colab_type": "code",
        "colab": {
          "base_uri": "https://localhost:8080/",
          "height": 230
        },
        "outputId": "14b5091f-7c1e-4bff-d08f-82e84323e0ac"
      },
      "source": [
        "xception_custom_model.summary()"
      ],
      "execution_count": null,
      "outputs": [
        {
          "output_type": "stream",
          "text": [
            "Model: \"sequential_3\"\n",
            "_________________________________________________________________\n",
            "Layer (type)                 Output Shape              Param #   \n",
            "=================================================================\n",
            "xception (Functional)        (None, 2048)              20861480  \n",
            "_________________________________________________________________\n",
            "dense_3 (Dense)              (None, 3)                 6147      \n",
            "=================================================================\n",
            "Total params: 20,867,627\n",
            "Trainable params: 6,147\n",
            "Non-trainable params: 20,861,480\n",
            "_________________________________________________________________\n"
          ],
          "name": "stdout"
        }
      ]
    },
    {
      "cell_type": "code",
      "metadata": {
        "id": "DECxlQo6oloC",
        "colab_type": "code",
        "colab": {}
      },
      "source": [
        "xception_custom_model.compile(optimizer = \"adam\", loss = \"categorical_crossentropy\", metrics = \"accuracy\")"
      ],
      "execution_count": null,
      "outputs": []
    },
    {
      "cell_type": "code",
      "metadata": {
        "id": "oiREcQcLpAAc",
        "colab_type": "code",
        "colab": {
          "base_uri": "https://localhost:8080/",
          "height": 230
        },
        "outputId": "57f61344-7972-4a9a-b586-b7ea8de92b66"
      },
      "source": [
        "xception_fit_history = xception_custom_model.fit_generator(\n",
        "        train_generator,\n",
        "        #steps_per_epoch=STEPS_PER_EPOCH_TRAINING,\n",
        "        epochs = NUM_EPOCHS,\n",
        "        validation_data=validation_generator,\n",
        "        #validation_steps=STEPS_PER_EPOCH_VALIDATION,\n",
        "        callbacks=[cb_checkpointer, cb_early_stopper]\n",
        ")"
      ],
      "execution_count": null,
      "outputs": [
        {
          "output_type": "stream",
          "text": [
            "Epoch 1/20\n",
            "3/3 [==============================] - 2s 809ms/step - loss: 0.5483 - accuracy: 0.8071 - val_loss: 1.3047 - val_accuracy: 0.4808\n",
            "Epoch 2/20\n",
            "3/3 [==============================] - 2s 670ms/step - loss: 0.5336 - accuracy: 0.8250 - val_loss: 1.2985 - val_accuracy: 0.5096\n",
            "Epoch 3/20\n",
            "3/3 [==============================] - 2s 661ms/step - loss: 0.5213 - accuracy: 0.8071 - val_loss: 1.2985 - val_accuracy: 0.5000\n",
            "Epoch 4/20\n",
            "3/3 [==============================] - 2s 746ms/step - loss: 0.5073 - accuracy: 0.8214 - val_loss: 1.3021 - val_accuracy: 0.5000\n",
            "Epoch 5/20\n",
            "3/3 [==============================] - 2s 751ms/step - loss: 0.4962 - accuracy: 0.8321 - val_loss: 1.3065 - val_accuracy: 0.5096\n",
            "Epoch 6/20\n",
            "3/3 [==============================] - 2s 665ms/step - loss: 0.4847 - accuracy: 0.8464 - val_loss: 1.3053 - val_accuracy: 0.5192\n"
          ],
          "name": "stdout"
        }
      ]
    },
    {
      "cell_type": "code",
      "metadata": {
        "id": "sAhrWlkQpnw1",
        "colab_type": "code",
        "colab": {}
      },
      "source": [
        ""
      ],
      "execution_count": null,
      "outputs": []
    }
  ]
}