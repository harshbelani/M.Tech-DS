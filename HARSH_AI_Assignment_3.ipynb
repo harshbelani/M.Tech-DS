{
  "nbformat": 4,
  "nbformat_minor": 0,
  "metadata": {
    "colab": {
      "name": "HARSH_AI_Assignment_3.ipynb",
      "provenance": [],
      "include_colab_link": true
    },
    "kernelspec": {
      "name": "python3",
      "display_name": "Python 3"
    }
  },
  "cells": [
    {
      "cell_type": "markdown",
      "metadata": {
        "id": "view-in-github",
        "colab_type": "text"
      },
      "source": [
        "<a href=\"https://colab.research.google.com/github/harshbelani/M.Tech-DS/blob/master/HARSH_AI_Assignment_3.ipynb\" target=\"_parent\"><img src=\"https://colab.research.google.com/assets/colab-badge.svg\" alt=\"Open In Colab\"/></a>"
      ]
    },
    {
      "cell_type": "code",
      "metadata": {
        "id": "xTpwaCLVKZ8K",
        "colab_type": "code",
        "colab": {
          "base_uri": "https://localhost:8080/",
          "height": 84
        },
        "outputId": "6717b1fc-84ff-49e6-977c-2e1cd7fb5a6c"
      },
      "source": [
        "pip install binarytree"
      ],
      "execution_count": null,
      "outputs": [
        {
          "output_type": "stream",
          "text": [
            "Collecting binarytree\n",
            "  Downloading https://files.pythonhosted.org/packages/80/cf/09e363df1fbdfbf1413f1c737a7da8ce22559456b3ac520ba3008fef2996/binarytree-5.1.0-py2.py3-none-any.whl\n",
            "Installing collected packages: binarytree\n",
            "Successfully installed binarytree-5.1.0\n"
          ],
          "name": "stdout"
        }
      ]
    },
    {
      "cell_type": "code",
      "metadata": {
        "id": "sf1mTd6dKc4B",
        "colab_type": "code",
        "colab": {
          "base_uri": "https://localhost:8080/",
          "height": 235
        },
        "outputId": "e21b7367-6cb7-4277-d4d5-6b315578a745"
      },
      "source": [
        "from binarytree import bst\n",
        "b_tree = bst(height=5, is_perfect=True)\n",
        "print(b_tree)"
      ],
      "execution_count": null,
      "outputs": [
        {
          "output_type": "stream",
          "text": [
            "\n",
            "                                     ______________________________________________31_____________________________________________\n",
            "                                    /                                                                                             \\\n",
            "                ___________________15_____________________                                                   ______________________47_____________________\n",
            "               /                                          \\                                                 /                                             \\\n",
            "        ______7_______                           __________23_________                           __________39_________                           __________55_________\n",
            "       /              \\                         /                     \\                         /                     \\                         /                     \\\n",
            "    __3__           ___11___               ____19___               ____27___               ____35___               ____43___               ____51___               ____59___\n",
            "   /     \\         /        \\             /         \\             /         \\             /         \\             /         \\             /         \\             /         \\\n",
            "  1       5       9         _13         _17         _21         _25         _29         _33         _37         _41         _45         _49         _53         _57         _61\n",
            " / \\     / \\     / \\       /   \\       /   \\       /   \\       /   \\       /   \\       /   \\       /   \\       /   \\       /   \\       /   \\       /   \\       /   \\       /   \\\n",
            "0   2   4   6   8   10    12    14    16    18    20    22    24    26    28    30    32    34    36    38    40    42    44    46    48    50    52    54    56    58    60    62\n",
            "\n"
          ],
          "name": "stdout"
        }
      ]
    },
    {
      "cell_type": "code",
      "metadata": {
        "id": "CjRDhTOSKmjJ",
        "colab_type": "code",
        "colab": {
          "base_uri": "https://localhost:8080/",
          "height": 67
        },
        "outputId": "06345b16-da8e-42fd-afe6-bf840babcfcb"
      },
      "source": [
        "graph = {\n",
        "    'A' : ['E','F'],\n",
        "    'B' : ['D', 'C'],\n",
        "    'C' : ['E'],\n",
        "    'D' : [],\n",
        "    'E' : ['F'],\n",
        "    'F' : []\n",
        "}\n",
        "\n",
        "visited = set()\n",
        "def dfs(visited, graph, node):\n",
        "    if node not in visited:\n",
        "        print (node)\n",
        "        visited.add(node)\n",
        "        for neighbour in graph[node]:\n",
        "            dfs(visited, graph, neighbour)\n",
        "\n",
        "dfs(visited, graph, 'A')"
      ],
      "execution_count": null,
      "outputs": [
        {
          "output_type": "stream",
          "text": [
            "A\n",
            "E\n",
            "F\n"
          ],
          "name": "stdout"
        }
      ]
    },
    {
      "cell_type": "code",
      "metadata": {
        "id": "NvTGP02LK1nq",
        "colab_type": "code",
        "colab": {}
      },
      "source": [
        ""
      ],
      "execution_count": null,
      "outputs": []
    }
  ]
}