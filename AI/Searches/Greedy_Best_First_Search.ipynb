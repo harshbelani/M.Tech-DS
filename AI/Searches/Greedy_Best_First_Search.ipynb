{
  "nbformat": 4,
  "nbformat_minor": 0,
  "metadata": {
    "colab": {
      "name": "Greedy Best First Search",
      "provenance": [],
      "authorship_tag": "ABX9TyMNqLoFOkc5BB3dXQQPFdjw",
      "include_colab_link": true
    },
    "kernelspec": {
      "name": "python3",
      "display_name": "Python 3"
    }
  },
  "cells": [
    {
      "cell_type": "markdown",
      "metadata": {
        "id": "view-in-github",
        "colab_type": "text"
      },
      "source": [
        "<a href=\"https://colab.research.google.com/github/harshbelani/M.Tech-DS/blob/master/AI/Searches/Greedy_Best_First_Search.ipynb\" target=\"_parent\"><img src=\"https://colab.research.google.com/assets/colab-badge.svg\" alt=\"Open In Colab\"/></a>"
      ]
    },
    {
      "cell_type": "code",
      "metadata": {
        "id": "8X7vpuHk9bJZ",
        "colab_type": "code",
        "colab": {}
      },
      "source": [
        "class Node():\n",
        "    def __init__(self, state, parent, action):\n",
        "        self.state = state\n",
        "        self.parent = parent\n",
        "        self.action = action"
      ],
      "execution_count": 13,
      "outputs": []
    },
    {
      "cell_type": "code",
      "metadata": {
        "id": "ivJSe6ZF-jHl",
        "colab_type": "code",
        "colab": {}
      },
      "source": [
        "class StackFrontier():\n",
        "    def __init__(self):\n",
        "        self.frontier = []\n",
        "        \n",
        "    def add_node(self, node):\n",
        "        self.frontier.append(node)\n",
        "        \n",
        "    def empty(self):\n",
        "        return len(self.frontier)==0        \n",
        "        \n",
        "    def remove_node(self):\n",
        "        \n",
        "        if self.empty():\n",
        "            return(\"No Solution\")\n",
        "            \n",
        "        else:\n",
        "            node = self.frontier[-1]\n",
        "            self.frontier = self.frontier[:-1]\n",
        "            return node\n",
        "    \n",
        "    def contains_state(self, state):\n",
        "        return any(node.state == state for node in self.frontier)"
      ],
      "execution_count": 14,
      "outputs": []
    },
    {
      "cell_type": "code",
      "metadata": {
        "id": "7ugmzGc2-l3_",
        "colab_type": "code",
        "colab": {}
      },
      "source": [
        "class QueueFrontier(StackFrontier):\n",
        "    \n",
        "    def remove_node(self):\n",
        "        \n",
        "        if self.empty():\n",
        "            return(\"No Solution\")\n",
        "            \n",
        "        else:\n",
        "            node = self.frontier[0]\n",
        "            self.frontier = self.frontier[1:]\n",
        "            return node"
      ],
      "execution_count": 15,
      "outputs": []
    },
    {
      "cell_type": "markdown",
      "metadata": {
        "id": "UF9qNVzPBAi4",
        "colab_type": "text"
      },
      "source": [
        "#Setting up the Maze"
      ]
    },
    {
      "cell_type": "code",
      "metadata": {
        "id": "G0Z1IuiiA_bs",
        "colab_type": "code",
        "colab": {
          "base_uri": "https://localhost:8080/",
          "height": 141
        },
        "outputId": "b6cf8a55-29a3-469d-ebea-7fd1c007db56"
      },
      "source": [
        "file = open(\"maze5.txt\", \"r\")\n",
        "maze = file.read()\n",
        "maze = maze.split(\"\\n\")\n",
        "maze"
      ],
      "execution_count": 16,
      "outputs": [
        {
          "output_type": "execute_result",
          "data": {
            "text/plain": [
              "['#           B',\n",
              " '# ########## ',\n",
              " '# #########  ',\n",
              " '# ##     ## #',\n",
              " '#    #   ##  ',\n",
              " '#### # ##### ',\n",
              " 'A    #       ']"
            ]
          },
          "metadata": {
            "tags": []
          },
          "execution_count": 16
        }
      ]
    },
    {
      "cell_type": "code",
      "metadata": {
        "id": "eWEnn24pBDnR",
        "colab_type": "code",
        "colab": {}
      },
      "source": [
        "length = len(maze)\n",
        "width = max(len(i) for i in maze)"
      ],
      "execution_count": 17,
      "outputs": []
    },
    {
      "cell_type": "code",
      "metadata": {
        "id": "3_P6_iaKBFZB",
        "colab_type": "code",
        "colab": {
          "base_uri": "https://localhost:8080/",
          "height": 195
        },
        "outputId": "a0249cad-dd0b-400b-87f2-d1c42992d563"
      },
      "source": [
        "array_maze = []\n",
        "print(\"\\nGiven Maze: \\n\")        \n",
        "for row in maze:\n",
        "    row = list(row)\n",
        "    for i in row:\n",
        "        print(i, end=\"\")\n",
        "    array_maze.append(row)\n",
        "    print()\n"
      ],
      "execution_count": 18,
      "outputs": [
        {
          "output_type": "stream",
          "text": [
            "\n",
            "Given Maze: \n",
            "\n",
            "#           B\n",
            "# ########## \n",
            "# #########  \n",
            "# ##     ## #\n",
            "#    #   ##  \n",
            "#### # ##### \n",
            "A    #       \n"
          ],
          "name": "stdout"
        }
      ]
    },
    {
      "cell_type": "code",
      "metadata": {
        "id": "2sZV6QDGBIKb",
        "colab_type": "code",
        "colab": {
          "base_uri": "https://localhost:8080/",
          "height": 1000
        },
        "outputId": "30c490f4-16cc-4407-ee26-ab4c63eb01ed"
      },
      "source": [
        "walls = []\n",
        "\n",
        "for i, row in enumerate(array_maze):\n",
        "    row_walls = []\n",
        "    for j, col in enumerate(row):\n",
        "        \n",
        "        if col == \"A\":\n",
        "            starting_point = (i,j)\n",
        "            row_walls.append(False)\n",
        "        elif col == \"B\":\n",
        "            ending_point = (i,j)\n",
        "            row_walls.append(False)\n",
        "        elif col == \"#\":\n",
        "            row_walls.append(True)\n",
        "        else:\n",
        "            row_walls.append(False)\n",
        "            \n",
        "    walls.append(row_walls)\n",
        "            \n",
        "walls"
      ],
      "execution_count": 19,
      "outputs": [
        {
          "output_type": "execute_result",
          "data": {
            "text/plain": [
              "[[True,\n",
              "  False,\n",
              "  False,\n",
              "  False,\n",
              "  False,\n",
              "  False,\n",
              "  False,\n",
              "  False,\n",
              "  False,\n",
              "  False,\n",
              "  False,\n",
              "  False,\n",
              "  False],\n",
              " [True,\n",
              "  False,\n",
              "  True,\n",
              "  True,\n",
              "  True,\n",
              "  True,\n",
              "  True,\n",
              "  True,\n",
              "  True,\n",
              "  True,\n",
              "  True,\n",
              "  True,\n",
              "  False],\n",
              " [True,\n",
              "  False,\n",
              "  True,\n",
              "  True,\n",
              "  True,\n",
              "  True,\n",
              "  True,\n",
              "  True,\n",
              "  True,\n",
              "  True,\n",
              "  True,\n",
              "  False,\n",
              "  False],\n",
              " [True,\n",
              "  False,\n",
              "  True,\n",
              "  True,\n",
              "  False,\n",
              "  False,\n",
              "  False,\n",
              "  False,\n",
              "  False,\n",
              "  True,\n",
              "  True,\n",
              "  False,\n",
              "  True],\n",
              " [True,\n",
              "  False,\n",
              "  False,\n",
              "  False,\n",
              "  False,\n",
              "  True,\n",
              "  False,\n",
              "  False,\n",
              "  False,\n",
              "  True,\n",
              "  True,\n",
              "  False,\n",
              "  False],\n",
              " [True,\n",
              "  True,\n",
              "  True,\n",
              "  True,\n",
              "  False,\n",
              "  True,\n",
              "  False,\n",
              "  True,\n",
              "  True,\n",
              "  True,\n",
              "  True,\n",
              "  True,\n",
              "  False],\n",
              " [False,\n",
              "  False,\n",
              "  False,\n",
              "  False,\n",
              "  False,\n",
              "  True,\n",
              "  False,\n",
              "  False,\n",
              "  False,\n",
              "  False,\n",
              "  False,\n",
              "  False,\n",
              "  False]]"
            ]
          },
          "metadata": {
            "tags": []
          },
          "execution_count": 19
        }
      ]
    },
    {
      "cell_type": "code",
      "metadata": {
        "id": "ujZqJFp0B445",
        "colab_type": "code",
        "colab": {}
      },
      "source": [
        "def find_neighbours(node):\n",
        "    (x,y) = node.state\n",
        "    all = [[(x-1,y), \"up\"], [(x+1,y), \"down\"], [(x, y-1), \"left\"], [(x, y+1), \"right\"]]\n",
        "    \n",
        "    neighbours = []\n",
        "    for (x,y),move in all:\n",
        "        if 0<=x<length and 0<=y<width and not walls[x][y]:\n",
        "            if (x,y) not in explored:\n",
        "                neighbours.append([(x,y), move, (abs(ending_point[0]-x)+abs(ending_point[1]-y))])\n",
        "        \n",
        "    return neighbours"
      ],
      "execution_count": 20,
      "outputs": []
    },
    {
      "cell_type": "markdown",
      "metadata": {
        "id": "XK0YCdCdCcUc",
        "colab_type": "text"
      },
      "source": [
        "#Finding Solution"
      ]
    },
    {
      "cell_type": "code",
      "metadata": {
        "id": "05TDd9nGCXRB",
        "colab_type": "code",
        "colab": {
          "base_uri": "https://localhost:8080/",
          "height": 604
        },
        "outputId": "a90be409-b6b9-4b0c-90a9-1842364e41c1"
      },
      "source": [
        "explored = []\n",
        "current_position = Node(starting_point, None, None)\n",
        "frontier = StackFrontier()\n",
        "\n",
        "while True:\n",
        "    \n",
        "    neighbours = find_neighbours(current_position)\n",
        "    neighbours = sorted(neighbours, key= lambda x: x[2], reverse=True)\n",
        "    print(neighbours)\n",
        "    \n",
        "    for position,action,dis in neighbours:\n",
        "        #if position not in (explored):\n",
        "            #print(position, action,dis)\n",
        "        frontier.add_node(Node(position, current_position, action))\n",
        "        \n",
        "    \n",
        "    current_position = frontier.remove_node()\n",
        "    if current_position == \"No Solution\":\n",
        "        print(\"No Solution\")\n",
        "        break\n",
        "    explored.append(current_position.state)\n",
        "    \n",
        "    if current_position.state == ending_point:\n",
        "        print(\"\\nSolution Found:\\n\")\n",
        "        solutions = []\n",
        "        node = current_position\n",
        "        \n",
        "        while node.parent != None:\n",
        "            solutions.append(node.state)\n",
        "            node = node.parent\n",
        "        \n",
        "        break"
      ],
      "execution_count": 21,
      "outputs": [
        {
          "output_type": "stream",
          "text": [
            "[[(6, 1), 'right', 17]]\n",
            "[[(6, 0), 'left', 18], [(6, 2), 'right', 16]]\n",
            "[[(6, 3), 'right', 15]]\n",
            "[[(6, 4), 'right', 14]]\n",
            "[[(5, 4), 'up', 13]]\n",
            "[[(4, 4), 'up', 12]]\n",
            "[[(4, 3), 'left', 13], [(3, 4), 'up', 11]]\n",
            "[[(3, 5), 'right', 10]]\n",
            "[[(3, 6), 'right', 9]]\n",
            "[[(4, 6), 'down', 10], [(3, 7), 'right', 8]]\n",
            "[[(4, 7), 'down', 9], [(3, 8), 'right', 7]]\n",
            "[[(4, 8), 'down', 8]]\n",
            "[[(4, 7), 'left', 9]]\n",
            "[[(4, 6), 'left', 10]]\n",
            "[[(5, 6), 'down', 11]]\n",
            "[[(6, 6), 'down', 12]]\n",
            "[[(6, 7), 'right', 11]]\n",
            "[[(6, 8), 'right', 10]]\n",
            "[[(6, 9), 'right', 9]]\n",
            "[[(6, 10), 'right', 8]]\n",
            "[[(6, 11), 'right', 7]]\n",
            "[[(6, 12), 'right', 6]]\n",
            "[[(5, 12), 'up', 5]]\n",
            "[[(4, 12), 'up', 4]]\n",
            "[[(4, 11), 'left', 5]]\n",
            "[[(3, 11), 'up', 4]]\n",
            "[[(2, 11), 'up', 3]]\n",
            "[[(2, 12), 'right', 2]]\n",
            "[[(1, 12), 'up', 1]]\n",
            "[[(0, 12), 'up', 0]]\n",
            "\n",
            "Solution Found:\n",
            "\n"
          ],
          "name": "stdout"
        }
      ]
    },
    {
      "cell_type": "markdown",
      "metadata": {
        "id": "ac30dpF-CwfB",
        "colab_type": "text"
      },
      "source": [
        "#Drawing Output"
      ]
    },
    {
      "cell_type": "code",
      "metadata": {
        "id": "w6JKY49tCkkC",
        "colab_type": "code",
        "colab": {
          "base_uri": "https://localhost:8080/",
          "height": 141
        },
        "outputId": "b5aa3af1-76bb-4209-cc61-4ca01a16a23e"
      },
      "source": [
        "output=[]\n",
        "\n",
        "for i in range(length):\n",
        "    output_row = []\n",
        "    \n",
        "    for j in range(width):\n",
        "        \n",
        "        if (i,j) in solutions and (i,j) != ending_point and (i,j) != starting_point:\n",
        "            print(\"S\", end=\"\")\n",
        "            output_row.append(\"S\")\n",
        "            \n",
        "        elif (i,j) in explored and (i,j) != ending_point and (i,j) != starting_point and (i,j) not in solutions:\n",
        "            print(\"E\", end=\"\")\n",
        "            output_row.append(\"E\")\n",
        "            \n",
        "        else:\n",
        "            print(array_maze[i][j], end=\"\")\n",
        "            output_row.append(array_maze[i][j])\n",
        "            \n",
        "    output.append(output_row)\n",
        "    print()"
      ],
      "execution_count": 22,
      "outputs": [
        {
          "output_type": "stream",
          "text": [
            "#           B\n",
            "# ##########S\n",
            "# #########SS\n",
            "# ##SSSSS##S#\n",
            "#   S#SSS##SS\n",
            "####S#S#####S\n",
            "ASSSS#SSSSSSS\n"
          ],
          "name": "stdout"
        }
      ]
    },
    {
      "cell_type": "code",
      "metadata": {
        "id": "8_XUL5KjC3Cu",
        "colab_type": "code",
        "colab": {
          "base_uri": "https://localhost:8080/",
          "height": 52
        },
        "outputId": "e372f0ce-331d-40b9-bf85-fccb9ec04f5d"
      },
      "source": [
        "print(\"\\nNo. of nodes explored: \",len(explored))"
      ],
      "execution_count": 23,
      "outputs": [
        {
          "output_type": "stream",
          "text": [
            "\n",
            "No. of nodes explored:  30\n"
          ],
          "name": "stdout"
        }
      ]
    },
    {
      "cell_type": "code",
      "metadata": {
        "id": "7FLyLzx7C4Iq",
        "colab_type": "code",
        "colab": {}
      },
      "source": [
        ""
      ],
      "execution_count": null,
      "outputs": []
    }
  ]
}