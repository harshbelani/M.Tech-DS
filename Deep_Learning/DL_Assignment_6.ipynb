{
  "nbformat": 4,
  "nbformat_minor": 0,
  "metadata": {
    "colab": {
      "name": "DL Assignment 6",
      "provenance": [],
      "authorship_tag": "ABX9TyM1USfRRirwyQX0ZbUvrYj7",
      "include_colab_link": true
    },
    "kernelspec": {
      "name": "python3",
      "display_name": "Python 3"
    },
    "accelerator": "GPU"
  },
  "cells": [
    {
      "cell_type": "markdown",
      "metadata": {
        "id": "view-in-github",
        "colab_type": "text"
      },
      "source": [
        "<a href=\"https://colab.research.google.com/github/harshbelani/M.Tech-DS/blob/master/Deep_Learning/DL_Assignment_6.ipynb\" target=\"_parent\"><img src=\"https://colab.research.google.com/assets/colab-badge.svg\" alt=\"Open In Colab\"/></a>"
      ]
    },
    {
      "cell_type": "markdown",
      "metadata": {
        "id": "M5rkOcVYgMmz"
      },
      "source": [
        "#Loading required packages"
      ]
    },
    {
      "cell_type": "code",
      "metadata": {
        "id": "KO64zkzVeZ6R"
      },
      "source": [
        "import keras\n",
        "from keras.layers import Dense\n",
        "from keras.utils import to_categorical\n",
        "import tensorflow as tf\n",
        "from keras.models import Sequential\n",
        "from keras.layers import Dense"
      ],
      "execution_count": 10,
      "outputs": []
    },
    {
      "cell_type": "markdown",
      "metadata": {
        "id": "S7AXFrcJgHX_"
      },
      "source": [
        "#Importing Cifar100 data"
      ]
    },
    {
      "cell_type": "code",
      "metadata": {
        "id": "i3UZ9zLygET7",
        "outputId": "9f280492-4206-4d1e-a29c-43e9e4b32a5e",
        "colab": {
          "base_uri": "https://localhost:8080/"
        }
      },
      "source": [
        "(X_train, y_train), (X_test, y_test) = keras.datasets.cifar100.load_data()"
      ],
      "execution_count": 2,
      "outputs": [
        {
          "output_type": "stream",
          "text": [
            "Downloading data from https://www.cs.toronto.edu/~kriz/cifar-100-python.tar.gz\n",
            "169009152/169001437 [==============================] - 4s 0us/step\n"
          ],
          "name": "stdout"
        }
      ]
    },
    {
      "cell_type": "code",
      "metadata": {
        "id": "9LOCQWc5gStQ",
        "outputId": "7a1db70f-3d90-4f40-add7-be97f0ae720e",
        "colab": {
          "base_uri": "https://localhost:8080/"
        }
      },
      "source": [
        "print(\"Train dataset = \", X_train.shape)\n",
        "print(\"Train dataset labels = \", y_train.shape)\n",
        "print(\"Test dataset = \", X_test.shape)\n",
        "print(\"Test dataset labels = \", y_test.shape)"
      ],
      "execution_count": 3,
      "outputs": [
        {
          "output_type": "stream",
          "text": [
            "Train dataset =  (50000, 32, 32, 3)\n",
            "Train dataset labels =  (50000, 1)\n",
            "Test dataset =  (10000, 32, 32, 3)\n",
            "Test dataset labels =  (10000, 1)\n"
          ],
          "name": "stdout"
        }
      ]
    },
    {
      "cell_type": "markdown",
      "metadata": {
        "id": "y6Y6OZ64gkuL"
      },
      "source": [
        "#normalizing dataset"
      ]
    },
    {
      "cell_type": "code",
      "metadata": {
        "id": "ZVV_d2N0ggeQ"
      },
      "source": [
        "X_train = X_train.astype('float32')/255\n",
        "X_test = X_test.astype('float32')/255"
      ],
      "execution_count": 4,
      "outputs": []
    },
    {
      "cell_type": "markdown",
      "metadata": {
        "id": "NbyJjkPngri6"
      },
      "source": [
        "#One-hot encoding of labels"
      ]
    },
    {
      "cell_type": "code",
      "metadata": {
        "id": "D7Zy7W2BgpAv"
      },
      "source": [
        "y_test = to_categorical(y_test)\n",
        "y_train = to_categorical(y_train)"
      ],
      "execution_count": 5,
      "outputs": []
    },
    {
      "cell_type": "code",
      "metadata": {
        "id": "B9mRzWfHgxiK",
        "outputId": "065718bc-96af-482e-f38c-dd1b34776921",
        "colab": {
          "base_uri": "https://localhost:8080/"
        }
      },
      "source": [
        "y_test.shape"
      ],
      "execution_count": 8,
      "outputs": [
        {
          "output_type": "execute_result",
          "data": {
            "text/plain": [
              "(10000, 100)"
            ]
          },
          "metadata": {
            "tags": []
          },
          "execution_count": 8
        }
      ]
    },
    {
      "cell_type": "code",
      "metadata": {
        "id": "D3qdbk6hgz5V",
        "outputId": "f7c82da5-1c64-4284-ea4b-14661237f2cb",
        "colab": {
          "base_uri": "https://localhost:8080/"
        }
      },
      "source": [
        "y_train.shape"
      ],
      "execution_count": 9,
      "outputs": [
        {
          "output_type": "execute_result",
          "data": {
            "text/plain": [
              "(50000, 100)"
            ]
          },
          "metadata": {
            "tags": []
          },
          "execution_count": 9
        }
      ]
    },
    {
      "cell_type": "markdown",
      "metadata": {
        "id": "ZJYwpK4Bg71T"
      },
      "source": [
        "There are 100 categories in Cifar100 dataset."
      ]
    },
    {
      "cell_type": "markdown",
      "metadata": {
        "id": "1JjZuY9FhPXw"
      },
      "source": [
        "#Model Building"
      ]
    },
    {
      "cell_type": "code",
      "metadata": {
        "id": "uhQiFOffg1xC"
      },
      "source": [
        "model=tf.keras.models.Sequential([\n",
        "tf.keras.layers.Conv2D(32,(3,3),activation='relu',input_shape=(32,32,3)),\n",
        "tf.keras.layers.MaxPooling2D((2, 2)),\n",
        "tf.keras.layers.Conv2D(64,(3,3),activation='relu'),\n",
        "tf.keras.layers.MaxPooling2D((2, 2)),\n",
        "tf.keras.layers.Conv2D(64,(3,3),activation='relu'),\n",
        "tf.keras.layers.Flatten(),\n",
        "tf.keras.layers.Dense(128,activation='relu'),\n",
        "tf.keras.layers.Dense(100,activation='softmax')\n",
        "])"
      ],
      "execution_count": 11,
      "outputs": []
    },
    {
      "cell_type": "code",
      "metadata": {
        "id": "FbQ4IDArhRVA",
        "outputId": "3bc5054a-0ffd-4650-ee9e-7799e14653f3",
        "colab": {
          "base_uri": "https://localhost:8080/"
        }
      },
      "source": [
        "model.summary()"
      ],
      "execution_count": 12,
      "outputs": [
        {
          "output_type": "stream",
          "text": [
            "Model: \"sequential\"\n",
            "_________________________________________________________________\n",
            "Layer (type)                 Output Shape              Param #   \n",
            "=================================================================\n",
            "conv2d (Conv2D)              (None, 30, 30, 32)        896       \n",
            "_________________________________________________________________\n",
            "max_pooling2d (MaxPooling2D) (None, 15, 15, 32)        0         \n",
            "_________________________________________________________________\n",
            "conv2d_1 (Conv2D)            (None, 13, 13, 64)        18496     \n",
            "_________________________________________________________________\n",
            "max_pooling2d_1 (MaxPooling2 (None, 6, 6, 64)          0         \n",
            "_________________________________________________________________\n",
            "conv2d_2 (Conv2D)            (None, 4, 4, 64)          36928     \n",
            "_________________________________________________________________\n",
            "flatten (Flatten)            (None, 1024)              0         \n",
            "_________________________________________________________________\n",
            "dense (Dense)                (None, 128)               131200    \n",
            "_________________________________________________________________\n",
            "dense_1 (Dense)              (None, 100)               12900     \n",
            "=================================================================\n",
            "Total params: 200,420\n",
            "Trainable params: 200,420\n",
            "Non-trainable params: 0\n",
            "_________________________________________________________________\n"
          ],
          "name": "stdout"
        }
      ]
    },
    {
      "cell_type": "code",
      "metadata": {
        "id": "nftH8NkHhUsq",
        "outputId": "fcb8947a-1d1b-4876-ac08-0e37766bb603",
        "colab": {
          "base_uri": "https://localhost:8080/"
        }
      },
      "source": [
        "model.compile(optimizer='rmsprop',loss='categorical_crossentropy',metrics='accuracy')\n",
        "history=model.fit(X_train,y_train,epochs=20,validation_split=0.2)"
      ],
      "execution_count": 13,
      "outputs": [
        {
          "output_type": "stream",
          "text": [
            "Epoch 1/20\n",
            "1250/1250 [==============================] - 5s 4ms/step - loss: 3.9646 - accuracy: 0.0963 - val_loss: 3.5986 - val_accuracy: 0.1496\n",
            "Epoch 2/20\n",
            "1250/1250 [==============================] - 5s 4ms/step - loss: 3.3273 - accuracy: 0.2022 - val_loss: 3.1316 - val_accuracy: 0.2417\n",
            "Epoch 3/20\n",
            "1250/1250 [==============================] - 5s 4ms/step - loss: 2.9764 - accuracy: 0.2668 - val_loss: 2.9229 - val_accuracy: 0.2771\n",
            "Epoch 4/20\n",
            "1250/1250 [==============================] - 5s 4ms/step - loss: 2.7322 - accuracy: 0.3137 - val_loss: 2.8223 - val_accuracy: 0.2995\n",
            "Epoch 5/20\n",
            "1250/1250 [==============================] - 5s 4ms/step - loss: 2.5471 - accuracy: 0.3542 - val_loss: 2.6724 - val_accuracy: 0.3261\n",
            "Epoch 6/20\n",
            "1250/1250 [==============================] - 5s 4ms/step - loss: 2.3867 - accuracy: 0.3857 - val_loss: 2.6879 - val_accuracy: 0.3388\n",
            "Epoch 7/20\n",
            "1250/1250 [==============================] - 5s 4ms/step - loss: 2.2615 - accuracy: 0.4108 - val_loss: 2.6368 - val_accuracy: 0.3506\n",
            "Epoch 8/20\n",
            "1250/1250 [==============================] - 5s 4ms/step - loss: 2.1398 - accuracy: 0.4398 - val_loss: 2.6852 - val_accuracy: 0.3526\n",
            "Epoch 9/20\n",
            "1250/1250 [==============================] - 6s 5ms/step - loss: 2.0187 - accuracy: 0.4624 - val_loss: 2.6934 - val_accuracy: 0.3534\n",
            "Epoch 10/20\n",
            "1250/1250 [==============================] - 5s 4ms/step - loss: 1.9185 - accuracy: 0.4843 - val_loss: 2.8085 - val_accuracy: 0.3421\n",
            "Epoch 11/20\n",
            "1250/1250 [==============================] - 5s 4ms/step - loss: 1.8163 - accuracy: 0.5086 - val_loss: 2.8733 - val_accuracy: 0.3528\n",
            "Epoch 12/20\n",
            "1250/1250 [==============================] - 5s 4ms/step - loss: 1.7218 - accuracy: 0.5332 - val_loss: 2.8787 - val_accuracy: 0.3538\n",
            "Epoch 13/20\n",
            "1250/1250 [==============================] - 5s 4ms/step - loss: 1.6347 - accuracy: 0.5502 - val_loss: 3.1132 - val_accuracy: 0.3318\n",
            "Epoch 14/20\n",
            "1250/1250 [==============================] - 5s 4ms/step - loss: 1.5454 - accuracy: 0.5721 - val_loss: 3.1311 - val_accuracy: 0.3368\n",
            "Epoch 15/20\n",
            "1250/1250 [==============================] - 5s 4ms/step - loss: 1.4649 - accuracy: 0.5916 - val_loss: 3.4116 - val_accuracy: 0.3446\n",
            "Epoch 16/20\n",
            "1250/1250 [==============================] - 5s 4ms/step - loss: 1.3903 - accuracy: 0.6092 - val_loss: 3.2051 - val_accuracy: 0.3516\n",
            "Epoch 17/20\n",
            "1250/1250 [==============================] - 5s 4ms/step - loss: 1.3199 - accuracy: 0.6261 - val_loss: 3.3876 - val_accuracy: 0.3363\n",
            "Epoch 18/20\n",
            "1250/1250 [==============================] - 5s 4ms/step - loss: 1.2619 - accuracy: 0.6396 - val_loss: 3.4413 - val_accuracy: 0.3426\n",
            "Epoch 19/20\n",
            "1250/1250 [==============================] - 5s 4ms/step - loss: 1.1871 - accuracy: 0.6589 - val_loss: 3.7759 - val_accuracy: 0.3323\n",
            "Epoch 20/20\n",
            "1250/1250 [==============================] - 5s 4ms/step - loss: 1.1251 - accuracy: 0.6744 - val_loss: 3.7852 - val_accuracy: 0.3310\n"
          ],
          "name": "stdout"
        }
      ]
    },
    {
      "cell_type": "code",
      "metadata": {
        "id": "zDK1jeuNhZBB",
        "outputId": "c3c0432e-6a26-4289-8c85-949ec5b7cd32",
        "colab": {
          "base_uri": "https://localhost:8080/",
          "height": 300
        }
      },
      "source": [
        "import matplotlib.pyplot as plt\n",
        "\n",
        "plt.plot(history.history['accuracy'], label='accuracy')\n",
        "plt.plot(history.history['val_accuracy'], label = 'val_accuracy')\n",
        "plt.xlabel('Epoch')\n",
        "plt.ylabel('Accuracy')\n",
        "plt.legend(loc='upper right')"
      ],
      "execution_count": 14,
      "outputs": [
        {
          "output_type": "execute_result",
          "data": {
            "text/plain": [
              "<matplotlib.legend.Legend at 0x7f3b7077c390>"
            ]
          },
          "metadata": {
            "tags": []
          },
          "execution_count": 14
        },
        {
          "output_type": "display_data",
          "data": {
            "image/png": "[encoded data removed]",
            "text/plain": [
              "<Figure size 432x288 with 1 Axes>"
            ]
          },
          "metadata": {
            "tags": [],
            "needs_background": "light"
          }
        }
      ]
    },
    {
      "cell_type": "markdown",
      "metadata": {
        "id": "tsOZRgGLh7vq"
      },
      "source": [
        "Clearly visibile from the difference in the accuracy of the train and val set that the model is overfitting"
      ]
    },
    {
      "cell_type": "code",
      "metadata": {
        "id": "azBvYzLmhctW",
        "outputId": "61361c0e-f461-4ff8-9a2f-f020e4ef5e57",
        "colab": {
          "base_uri": "https://localhost:8080/"
        }
      },
      "source": [
        "model.evaluate(X_test,y_test, verbose=2)"
      ],
      "execution_count": 15,
      "outputs": [
        {
          "output_type": "stream",
          "text": [
            "313/313 - 1s - loss: 3.7248 - accuracy: 0.3319\n"
          ],
          "name": "stdout"
        },
        {
          "output_type": "execute_result",
          "data": {
            "text/plain": [
              "[3.724846124649048, 0.3319000005722046]"
            ]
          },
          "metadata": {
            "tags": []
          },
          "execution_count": 15
        }
      ]
    },
    {
      "cell_type": "markdown",
      "metadata": {
        "id": "BHq__sf7hond"
      },
      "source": [
        "#Hyper parameter Tuning\n",
        "\n",
        "We will add some dropout and Batch Normalization layers so that the model doesnt overfit to the train data"
      ]
    },
    {
      "cell_type": "code",
      "metadata": {
        "id": "J8M6YnzJiWiR"
      },
      "source": [
        "from keras.models import Sequential                         \n",
        "from keras.layers import Dense, Dropout, Activation, Flatten,Conv2D,MaxPooling2D, BatchNormalization\n",
        "from keras.utils import to_categorical\n",
        "from keras.callbacks import ModelCheckpoint, EarlyStopping\n",
        "from keras.optimizers import SGD, Adam, RMSprop"
      ],
      "execution_count": 21,
      "outputs": []
    },
    {
      "cell_type": "code",
      "metadata": {
        "id": "M4RO-44-he7C"
      },
      "source": [
        "model1 = Sequential()\n",
        "model1.add(Conv2D(32,(3,3),activation='relu',kernel_initializer='he_uniform',padding='same',input_shape=(32,32,3)))\n",
        "model1.add(Conv2D(32,(3,3),activation='relu',kernel_initializer='he_uniform',padding='same'))\n",
        "model1.add(MaxPooling2D((2,2)))\n",
        "model1.add(BatchNormalization())\n",
        "model1.add(Dropout(0.1))\n",
        "model1.add(Conv2D(64,(3,3),activation='relu',kernel_initializer='he_uniform',padding='same'))\n",
        "model1.add(Conv2D(64,(3,3),activation='relu',kernel_initializer='he_uniform',padding='same'))\n",
        "model1.add(MaxPooling2D((2,2)))\n",
        "model1.add(BatchNormalization())\n",
        "model1.add(Dropout(0.1))\n",
        "model1.add(Conv2D(128,(3,3),activation='relu',kernel_initializer='he_uniform',padding='same'))\n",
        "model1.add(Conv2D(128,(3,3),activation='relu',kernel_initializer='he_uniform',padding='same'))\n",
        "model1.add(MaxPooling2D((2,2)))\n",
        "model1.add(BatchNormalization())\n",
        "model1.add(Dropout(0.1))\n",
        "model1.add(Flatten())\n",
        "model1.add(Dense(128,activation='relu'))\n",
        "model1.add(BatchNormalization())\n",
        "model1.add(Dropout(0.1))\n",
        "model1.add(Dense(100,activation='softmax'))"
      ],
      "execution_count": 27,
      "outputs": []
    },
    {
      "cell_type": "code",
      "metadata": {
        "id": "q9u_obwnkMHu",
        "outputId": "ed594070-cccf-46f6-de05-a822423100fe",
        "colab": {
          "base_uri": "https://localhost:8080/"
        }
      },
      "source": [
        "model1.summary()"
      ],
      "execution_count": 28,
      "outputs": [
        {
          "output_type": "stream",
          "text": [
            "Model: \"sequential_5\"\n",
            "_________________________________________________________________\n",
            "Layer (type)                 Output Shape              Param #   \n",
            "=================================================================\n",
            "conv2d_21 (Conv2D)           (None, 32, 32, 32)        896       \n",
            "_________________________________________________________________\n",
            "conv2d_22 (Conv2D)           (None, 32, 32, 32)        9248      \n",
            "_________________________________________________________________\n",
            "max_pooling2d_11 (MaxPooling (None, 16, 16, 32)        0         \n",
            "_________________________________________________________________\n",
            "batch_normalization_8 (Batch (None, 16, 16, 32)        128       \n",
            "_________________________________________________________________\n",
            "dropout_12 (Dropout)         (None, 16, 16, 32)        0         \n",
            "_________________________________________________________________\n",
            "conv2d_23 (Conv2D)           (None, 16, 16, 64)        18496     \n",
            "_________________________________________________________________\n",
            "conv2d_24 (Conv2D)           (None, 16, 16, 64)        36928     \n",
            "_________________________________________________________________\n",
            "max_pooling2d_12 (MaxPooling (None, 8, 8, 64)          0         \n",
            "_________________________________________________________________\n",
            "batch_normalization_9 (Batch (None, 8, 8, 64)          256       \n",
            "_________________________________________________________________\n",
            "dropout_13 (Dropout)         (None, 8, 8, 64)          0         \n",
            "_________________________________________________________________\n",
            "conv2d_25 (Conv2D)           (None, 8, 8, 128)         73856     \n",
            "_________________________________________________________________\n",
            "conv2d_26 (Conv2D)           (None, 8, 8, 128)         147584    \n",
            "_________________________________________________________________\n",
            "max_pooling2d_13 (MaxPooling (None, 4, 4, 128)         0         \n",
            "_________________________________________________________________\n",
            "batch_normalization_10 (Batc (None, 4, 4, 128)         512       \n",
            "_________________________________________________________________\n",
            "dropout_14 (Dropout)         (None, 4, 4, 128)         0         \n",
            "_________________________________________________________________\n",
            "flatten_4 (Flatten)          (None, 2048)              0         \n",
            "_________________________________________________________________\n",
            "dense_8 (Dense)              (None, 128)               262272    \n",
            "_________________________________________________________________\n",
            "batch_normalization_11 (Batc (None, 128)               512       \n",
            "_________________________________________________________________\n",
            "dropout_15 (Dropout)         (None, 128)               0         \n",
            "_________________________________________________________________\n",
            "dense_9 (Dense)              (None, 100)               12900     \n",
            "=================================================================\n",
            "Total params: 563,588\n",
            "Trainable params: 562,884\n",
            "Non-trainable params: 704\n",
            "_________________________________________________________________\n"
          ],
          "name": "stdout"
        }
      ]
    },
    {
      "cell_type": "code",
      "metadata": {
        "id": "0D4UcCmyiEsP",
        "outputId": "e04a389c-e532-44b7-8daf-bff6fe4bd536",
        "colab": {
          "base_uri": "https://localhost:8080/"
        }
      },
      "source": [
        "model1.compile(optimizer='adam',loss='categorical_crossentropy',metrics=['accuracy'])\n",
        "history1=model1.fit(X_train,y_train,epochs=50,validation_split=0.2,verbose=1)"
      ],
      "execution_count": 29,
      "outputs": [
        {
          "output_type": "stream",
          "text": [
            "Epoch 1/50\n",
            "1250/1250 [==============================] - 7s 6ms/step - loss: 3.5930 - accuracy: 0.1631 - val_loss: 3.1811 - val_accuracy: 0.2299\n",
            "Epoch 2/50\n",
            "1250/1250 [==============================] - 7s 6ms/step - loss: 2.7684 - accuracy: 0.3055 - val_loss: 2.8699 - val_accuracy: 0.2937\n",
            "Epoch 3/50\n",
            "1250/1250 [==============================] - 7s 6ms/step - loss: 2.3305 - accuracy: 0.3948 - val_loss: 2.2934 - val_accuracy: 0.3996\n",
            "Epoch 4/50\n",
            "1250/1250 [==============================] - 7s 6ms/step - loss: 2.0364 - accuracy: 0.4597 - val_loss: 2.1938 - val_accuracy: 0.4234\n",
            "Epoch 5/50\n",
            "1250/1250 [==============================] - 7s 6ms/step - loss: 1.8097 - accuracy: 0.5099 - val_loss: 2.2349 - val_accuracy: 0.4280\n",
            "Epoch 6/50\n",
            "1250/1250 [==============================] - 7s 6ms/step - loss: 1.6269 - accuracy: 0.5483 - val_loss: 2.1024 - val_accuracy: 0.4652\n",
            "Epoch 7/50\n",
            "1250/1250 [==============================] - 7s 6ms/step - loss: 1.4543 - accuracy: 0.5913 - val_loss: 2.0612 - val_accuracy: 0.4749\n",
            "Epoch 8/50\n",
            "1250/1250 [==============================] - 7s 6ms/step - loss: 1.3049 - accuracy: 0.6262 - val_loss: 2.2058 - val_accuracy: 0.4634\n",
            "Epoch 9/50\n",
            "1250/1250 [==============================] - 7s 6ms/step - loss: 1.1807 - accuracy: 0.6571 - val_loss: 2.2582 - val_accuracy: 0.4587\n",
            "Epoch 10/50\n",
            "1250/1250 [==============================] - 7s 6ms/step - loss: 1.0633 - accuracy: 0.6866 - val_loss: 2.2671 - val_accuracy: 0.4556\n",
            "Epoch 11/50\n",
            "1250/1250 [==============================] - 8s 6ms/step - loss: 0.9714 - accuracy: 0.7109 - val_loss: 2.2730 - val_accuracy: 0.4736\n",
            "Epoch 12/50\n",
            "1250/1250 [==============================] - 7s 6ms/step - loss: 0.8912 - accuracy: 0.7319 - val_loss: 2.3218 - val_accuracy: 0.4709\n",
            "Epoch 13/50\n",
            "1250/1250 [==============================] - 7s 6ms/step - loss: 0.8217 - accuracy: 0.7478 - val_loss: 2.3393 - val_accuracy: 0.4741\n",
            "Epoch 14/50\n",
            "1250/1250 [==============================] - 7s 6ms/step - loss: 0.7569 - accuracy: 0.7638 - val_loss: 2.4148 - val_accuracy: 0.4791\n",
            "Epoch 15/50\n",
            "1250/1250 [==============================] - 7s 6ms/step - loss: 0.7045 - accuracy: 0.7818 - val_loss: 2.4392 - val_accuracy: 0.4737\n",
            "Epoch 16/50\n",
            "1250/1250 [==============================] - 7s 6ms/step - loss: 0.6577 - accuracy: 0.7946 - val_loss: 2.7889 - val_accuracy: 0.4416\n",
            "Epoch 17/50\n",
            "1250/1250 [==============================] - 7s 6ms/step - loss: 0.6221 - accuracy: 0.8031 - val_loss: 2.5891 - val_accuracy: 0.4747\n",
            "Epoch 18/50\n",
            "1250/1250 [==============================] - 7s 6ms/step - loss: 0.5783 - accuracy: 0.8154 - val_loss: 2.6518 - val_accuracy: 0.4658\n",
            "Epoch 19/50\n",
            "1250/1250 [==============================] - 7s 6ms/step - loss: 0.5579 - accuracy: 0.8235 - val_loss: 2.6932 - val_accuracy: 0.4651\n",
            "Epoch 20/50\n",
            "1250/1250 [==============================] - 7s 6ms/step - loss: 0.5320 - accuracy: 0.8290 - val_loss: 2.8143 - val_accuracy: 0.4553\n",
            "Epoch 21/50\n",
            "1250/1250 [==============================] - 7s 6ms/step - loss: 0.5140 - accuracy: 0.8349 - val_loss: 2.7653 - val_accuracy: 0.4642\n",
            "Epoch 22/50\n",
            "1250/1250 [==============================] - 7s 6ms/step - loss: 0.4895 - accuracy: 0.8435 - val_loss: 2.7315 - val_accuracy: 0.4729\n",
            "Epoch 23/50\n",
            "1250/1250 [==============================] - 7s 6ms/step - loss: 0.4773 - accuracy: 0.8462 - val_loss: 2.7037 - val_accuracy: 0.4857\n",
            "Epoch 24/50\n",
            "1250/1250 [==============================] - 7s 6ms/step - loss: 0.4494 - accuracy: 0.8562 - val_loss: 2.7366 - val_accuracy: 0.4839\n",
            "Epoch 25/50\n",
            "1250/1250 [==============================] - 7s 6ms/step - loss: 0.4375 - accuracy: 0.8608 - val_loss: 2.7809 - val_accuracy: 0.4808\n",
            "Epoch 26/50\n",
            "1250/1250 [==============================] - 8s 6ms/step - loss: 0.4194 - accuracy: 0.8636 - val_loss: 2.8362 - val_accuracy: 0.4694\n",
            "Epoch 27/50\n",
            "1250/1250 [==============================] - 7s 6ms/step - loss: 0.4084 - accuracy: 0.8669 - val_loss: 2.7923 - val_accuracy: 0.4830\n",
            "Epoch 28/50\n",
            "1250/1250 [==============================] - 7s 6ms/step - loss: 0.3954 - accuracy: 0.8721 - val_loss: 2.7918 - val_accuracy: 0.4872\n",
            "Epoch 29/50\n",
            "1250/1250 [==============================] - 7s 6ms/step - loss: 0.3774 - accuracy: 0.8770 - val_loss: 2.9204 - val_accuracy: 0.4749\n",
            "Epoch 30/50\n",
            "1250/1250 [==============================] - 7s 6ms/step - loss: 0.3720 - accuracy: 0.8807 - val_loss: 2.9572 - val_accuracy: 0.4728\n",
            "Epoch 31/50\n",
            "1250/1250 [==============================] - 7s 6ms/step - loss: 0.3608 - accuracy: 0.8842 - val_loss: 3.0893 - val_accuracy: 0.4649\n",
            "Epoch 32/50\n",
            "1250/1250 [==============================] - 7s 6ms/step - loss: 0.3587 - accuracy: 0.8831 - val_loss: 2.9721 - val_accuracy: 0.4769\n",
            "Epoch 33/50\n",
            "1250/1250 [==============================] - 7s 6ms/step - loss: 0.3476 - accuracy: 0.8860 - val_loss: 2.9235 - val_accuracy: 0.4784\n",
            "Epoch 34/50\n",
            "1250/1250 [==============================] - 7s 6ms/step - loss: 0.3318 - accuracy: 0.8922 - val_loss: 2.9730 - val_accuracy: 0.4780\n",
            "Epoch 35/50\n",
            "1250/1250 [==============================] - 7s 6ms/step - loss: 0.3301 - accuracy: 0.8938 - val_loss: 3.0678 - val_accuracy: 0.4745\n",
            "Epoch 36/50\n",
            "1250/1250 [==============================] - 7s 6ms/step - loss: 0.3245 - accuracy: 0.8965 - val_loss: 3.0538 - val_accuracy: 0.4762\n",
            "Epoch 37/50\n",
            "1250/1250 [==============================] - 7s 6ms/step - loss: 0.3165 - accuracy: 0.8961 - val_loss: 2.9924 - val_accuracy: 0.4859\n",
            "Epoch 38/50\n",
            "1250/1250 [==============================] - 7s 6ms/step - loss: 0.3044 - accuracy: 0.9012 - val_loss: 3.1453 - val_accuracy: 0.4786\n",
            "Epoch 39/50\n",
            "1250/1250 [==============================] - 7s 6ms/step - loss: 0.2964 - accuracy: 0.9034 - val_loss: 3.1151 - val_accuracy: 0.4824\n",
            "Epoch 40/50\n",
            "1250/1250 [==============================] - 7s 6ms/step - loss: 0.2958 - accuracy: 0.9019 - val_loss: 3.0306 - val_accuracy: 0.4886\n",
            "Epoch 41/50\n",
            "1250/1250 [==============================] - 7s 6ms/step - loss: 0.2926 - accuracy: 0.9047 - val_loss: 3.0388 - val_accuracy: 0.4854\n",
            "Epoch 42/50\n",
            "1250/1250 [==============================] - 7s 6ms/step - loss: 0.2810 - accuracy: 0.9082 - val_loss: 3.1007 - val_accuracy: 0.4801\n",
            "Epoch 43/50\n",
            "1250/1250 [==============================] - 7s 6ms/step - loss: 0.2734 - accuracy: 0.9108 - val_loss: 3.1142 - val_accuracy: 0.4770\n",
            "Epoch 44/50\n",
            "1250/1250 [==============================] - 7s 6ms/step - loss: 0.2695 - accuracy: 0.9127 - val_loss: 3.2131 - val_accuracy: 0.4762\n",
            "Epoch 45/50\n",
            "1250/1250 [==============================] - 7s 6ms/step - loss: 0.2630 - accuracy: 0.9154 - val_loss: 3.1467 - val_accuracy: 0.4828\n",
            "Epoch 46/50\n",
            "1250/1250 [==============================] - 7s 6ms/step - loss: 0.2676 - accuracy: 0.9116 - val_loss: 3.1647 - val_accuracy: 0.4788\n",
            "Epoch 47/50\n",
            "1250/1250 [==============================] - 7s 6ms/step - loss: 0.2550 - accuracy: 0.9157 - val_loss: 3.2598 - val_accuracy: 0.4695\n",
            "Epoch 48/50\n",
            "1250/1250 [==============================] - 7s 6ms/step - loss: 0.2564 - accuracy: 0.9161 - val_loss: 3.2137 - val_accuracy: 0.4836\n",
            "Epoch 49/50\n",
            "1250/1250 [==============================] - 7s 6ms/step - loss: 0.2539 - accuracy: 0.9154 - val_loss: 3.1543 - val_accuracy: 0.4868\n",
            "Epoch 50/50\n",
            "1250/1250 [==============================] - 7s 6ms/step - loss: 0.2398 - accuracy: 0.9221 - val_loss: 3.2056 - val_accuracy: 0.4845\n"
          ],
          "name": "stdout"
        }
      ]
    },
    {
      "cell_type": "code",
      "metadata": {
        "id": "KouYiEEIiaUk",
        "outputId": "e7b43ed3-c805-42ae-a307-011213d9ddeb",
        "colab": {
          "base_uri": "https://localhost:8080/",
          "height": 297
        }
      },
      "source": [
        "import matplotlib.pyplot as plt\n",
        "\n",
        "plt.plot(history1.history['accuracy'], label='accuracy')\n",
        "plt.plot(history1.history['val_accuracy'], label = 'val_accuracy')\n",
        "plt.xlabel('Epoch')\n",
        "plt.ylabel('Accuracy')\n",
        "plt.legend(loc='upper right')"
      ],
      "execution_count": 31,
      "outputs": [
        {
          "output_type": "execute_result",
          "data": {
            "text/plain": [
              "<matplotlib.legend.Legend at 0x7f3b35b74588>"
            ]
          },
          "metadata": {
            "tags": []
          },
          "execution_count": 31
        },
        {
          "output_type": "display_data",
          "data": {
            "image/png": "[encoded data removed]",
            "text/plain": [
              "<Figure size 432x288 with 1 Axes>"
            ]
          },
          "metadata": {
            "tags": [],
            "needs_background": "light"
          }
        }
      ]
    },
    {
      "cell_type": "markdown",
      "metadata": {
        "id": "I7q7b_W1nBP3"
      },
      "source": [
        "The accuracy improves for both the train and val set but it is still overfitting."
      ]
    },
    {
      "cell_type": "code",
      "metadata": {
        "id": "GoW06SV0ihRV",
        "outputId": "62eadf97-e66c-4c97-b0ec-fc0888de424a",
        "colab": {
          "base_uri": "https://localhost:8080/"
        }
      },
      "source": [
        "model1.evaluate(X_test,y_test,batch_size=64)"
      ],
      "execution_count": 32,
      "outputs": [
        {
          "output_type": "stream",
          "text": [
            "157/157 [==============================] - 1s 4ms/step - loss: 3.1823 - accuracy: 0.4909\n"
          ],
          "name": "stdout"
        },
        {
          "output_type": "execute_result",
          "data": {
            "text/plain": [
              "[3.182263135910034, 0.4909000098705292]"
            ]
          },
          "metadata": {
            "tags": []
          },
          "execution_count": 32
        }
      ]
    },
    {
      "cell_type": "code",
      "metadata": {
        "id": "sLIbRcUDm_EJ"
      },
      "source": [
        ""
      ],
      "execution_count": null,
      "outputs": []
    }
  ]
}